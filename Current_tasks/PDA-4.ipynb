{
 "cells": [
  {
   "attachments": {},
   "cell_type": "markdown",
   "metadata": {},
   "source": [
    "# Статистические тесты"
   ]
  },
  {
   "cell_type": "code",
   "execution_count": 50,
   "metadata": {},
   "outputs": [],
   "source": [
    "import numpy as np\n",
    "import pandas as pd\n",
    "from scipy import stats"
   ]
  },
  {
   "cell_type": "code",
   "execution_count": 51,
   "metadata": {},
   "outputs": [],
   "source": [
    "np.random.seed(13)\n",
    "random_normal = np.random.normal(5, 2, 100)\n",
    "random_bin = np.random.choice([0, 1], size=(100,), p=[0.8, 0.2])"
   ]
  },
  {
   "cell_type": "code",
   "execution_count": 52,
   "metadata": {},
   "outputs": [
    {
     "data": {
      "text/plain": [
       "Ttest_1sampResult(statistic=27.315846581411247, pvalue=6.762242033211871e-48)"
      ]
     },
     "execution_count": 52,
     "metadata": {},
     "output_type": "execute_result"
    }
   ],
   "source": [
    "# Проверим гипотезу, что среднее выборки, сгенерированной из нормального распределения, равно 0:\n",
    "stats.ttest_1samp(random_normal, 0.0)"
   ]
  },
  {
   "attachments": {},
   "cell_type": "markdown",
   "metadata": {},
   "source": [
    "По результату мы видим, что p_value= 6.762242033211871e-48, соответственно, гипотеза о равенстве среднего нулю отвергается на уровне значимости 0.01 (вообще говоря, почти на любом уровне значимости)."
   ]
  },
  {
   "cell_type": "code",
   "execution_count": 53,
   "metadata": {},
   "outputs": [
    {
     "data": {
      "text/plain": [
       "Ttest_1sampResult(statistic=0.6236095710595042, pvalue=0.5343182132984923)"
      ]
     },
     "execution_count": 53,
     "metadata": {},
     "output_type": "execute_result"
    }
   ],
   "source": [
    "# Теперь проверим против 5.0:\n",
    "stats.ttest_1samp(random_normal, 5.0)"
   ]
  },
  {
   "attachments": {},
   "cell_type": "markdown",
   "metadata": {},
   "source": [
    "Мы видим, что гипотеза о равенстве 5 принимается с p_value=0.53."
   ]
  },
  {
   "cell_type": "code",
   "execution_count": 54,
   "metadata": {},
   "outputs": [
    {
     "data": {
      "text/plain": [
       "1.1159089057251951e-09"
      ]
     },
     "execution_count": 54,
     "metadata": {},
     "output_type": "execute_result"
    }
   ],
   "source": [
    "# Проведём тест на равенство доли единиц во второй выборке 0.5:\n",
    "stats.binom_test(x=[sum(random_bin), len(random_bin) - sum(random_bin)], p=0.5)"
   ]
  },
  {
   "attachments": {},
   "cell_type": "markdown",
   "metadata": {},
   "source": [
    "Заметим, что x = [число позитивных действий, число фейлов]. Видим, что гипотеза отвергается практически на любом уровне значимости с p_value=1.115908905725195e-09."
   ]
  },
  {
   "cell_type": "code",
   "execution_count": 55,
   "metadata": {},
   "outputs": [
    {
     "data": {
      "text/plain": [
       "1.0"
      ]
     },
     "execution_count": 55,
     "metadata": {},
     "output_type": "execute_result"
    }
   ],
   "source": [
    "stats.binom_test(x=[sum(random_bin), len(random_bin) - sum(random_bin)], p=0.2)"
   ]
  },
  {
   "attachments": {},
   "cell_type": "markdown",
   "metadata": {},
   "source": [
    "Гипотеза не отвергается."
   ]
  },
  {
   "attachments": {},
   "cell_type": "markdown",
   "metadata": {},
   "source": [
    "А ТЕПЕРЬ — ДВУХВЫБОРОЧНЫЙ ТЕСТ!"
   ]
  },
  {
   "cell_type": "code",
   "execution_count": 56,
   "metadata": {},
   "outputs": [],
   "source": [
    "random_normal_5 = np.random.normal(5, 2, 100)\n",
    "random_normal_false = np.random.normal(7, 2, 100)"
   ]
  },
  {
   "cell_type": "code",
   "execution_count": 57,
   "metadata": {},
   "outputs": [
    {
     "name": "stdout",
     "output_type": "stream",
     "text": [
      "Ttest_indResult(statistic=-1.1097766930134212, pvalue=0.26844127144491964)\n",
      "Ttest_indResult(statistic=7.56418694452888, pvalue=1.4333446457467145e-12)\n"
     ]
    }
   ],
   "source": [
    "print(stats.ttest_ind(random_normal_5, random_normal))\n",
    "print(stats.ttest_ind(random_normal_false, random_normal))"
   ]
  },
  {
   "cell_type": "code",
   "execution_count": 58,
   "metadata": {},
   "outputs": [
    {
     "name": "stdout",
     "output_type": "stream",
     "text": [
      "(-0.5163595320566151, 0.6056033242983083)\n",
      "(-2.5197631533948477, 0.011743382301172597)\n"
     ]
    }
   ],
   "source": [
    "# тест на равенство пропорций (долей)\n",
    "from statsmodels.stats.proportion import proportions_ztest\n",
    "\n",
    "random_bin_2 = np.random.choice([0, 1], size=(100,), p=[0.8, 0.2])\n",
    "random_bin_false = np.random.choice([0, 1], size=(100,), p=[0.6, 0.4])\n",
    "\n",
    "print(proportions_ztest(count=[sum(random_bin), sum(random_bin_2)], nobs=[len(random_bin), len(random_bin_2)]))\n",
    "print(proportions_ztest(count=[sum(random_bin), sum(random_bin_false)], nobs=[len(random_bin), len(random_bin_false)]))"
   ]
  },
  {
   "attachments": {},
   "cell_type": "markdown",
   "metadata": {},
   "source": [
    "Первое число — значение статистики, второе — p_value. Видим, что результаты совпадают с ожидаемыми."
   ]
  },
  {
   "attachments": {},
   "cell_type": "markdown",
   "metadata": {},
   "source": [
    "Обратим внимание, что в сам тест мы передаём не выборки, а только число положительных событий и общее число событий."
   ]
  },
  {
   "attachments": {},
   "cell_type": "markdown",
   "metadata": {},
   "source": [
    "## Тесты на нормальность"
   ]
  },
  {
   "cell_type": "code",
   "execution_count": 59,
   "metadata": {},
   "outputs": [],
   "source": [
    "np.random.seed(13)\n",
    "random_normal = np.random.normal(5, 2, 100)\n",
    "random_uniform = np.random.uniform(0, 1, 100)"
   ]
  },
  {
   "cell_type": "code",
   "execution_count": 60,
   "metadata": {},
   "outputs": [
    {
     "name": "stdout",
     "output_type": "stream",
     "text": [
      "ShapiroResult(statistic=0.9897646903991699, pvalue=0.6455868482589722)\n",
      "ShapiroResult(statistic=0.9223209619522095, pvalue=1.872835127869621e-05)\n"
     ]
    }
   ],
   "source": [
    "print(stats.shapiro(random_normal))\n",
    "print(stats.shapiro(random_uniform))"
   ]
  },
  {
   "attachments": {},
   "cell_type": "markdown",
   "metadata": {},
   "source": [
    "Видим, что во втором случае нулевая гипотеза (нормальность распределения, из которого приходят точки) отвергается практически на любом уровне значимости."
   ]
  },
  {
   "cell_type": "code",
   "execution_count": 61,
   "metadata": {},
   "outputs": [
    {
     "name": "stdout",
     "output_type": "stream",
     "text": [
      "KstestResult(statistic=0.933371471007256, pvalue=4.646377515900965e-118)\n",
      "KstestResult(statistic=0.5039276991503323, pvalue=4.926235881910341e-24)\n"
     ]
    }
   ],
   "source": [
    "#  Для теста Колмогорова-Смирнова необходимо передавать распределение, относительно которого происходит сравнение.\n",
    "print(stats.kstest(random_normal, 'norm'))\n",
    "print(stats.kstest(random_uniform, 'norm'))"
   ]
  },
  {
   "attachments": {},
   "cell_type": "markdown",
   "metadata": {},
   "source": [
    "Мы видим, что в обоих случаях гипотеза о нормальности распределения отвергается. Почему? Потому что происходит сравнение с нормальным распределением со средним 0 и дисперсией 1. Проверим это, нормализовав входное множество точек."
   ]
  },
  {
   "cell_type": "code",
   "execution_count": 62,
   "metadata": {},
   "outputs": [
    {
     "data": {
      "text/plain": [
       "KstestResult(statistic=0.06562034353090856, pvalue=0.7572142037683822)"
      ]
     },
     "execution_count": 62,
     "metadata": {},
     "output_type": "execute_result"
    }
   ],
   "source": [
    "stats.kstest((random_normal - np.mean(random_normal)) / np.std(random_normal), 'norm')"
   ]
  },
  {
   "cell_type": "code",
   "execution_count": 63,
   "metadata": {},
   "outputs": [
    {
     "name": "stdout",
     "output_type": "stream",
     "text": [
      "ShapiroResult(statistic=0.9548439383506775, pvalue=0.7258638739585876)\n",
      "KstestResult(statistic=0.514185695796664, pvalue=0.005575825333255893)\n",
      "KstestResult(statistic=0.17907654022324243, pvalue=0.8514658527102467)\n"
     ]
    }
   ],
   "source": [
    "np.random.seed(2)\n",
    "random_normal = np.random.normal(2, 4, 10)\n",
    "print(stats.shapiro(random_normal))\n",
    "print(stats.kstest(random_normal, 'norm'))\n",
    "print(stats.kstest((random_normal - np.mean(random_normal)) / np.std(random_normal), 'norm'))"
   ]
  },
  {
   "attachments": {},
   "cell_type": "markdown",
   "metadata": {},
   "source": [
    "## Множественная проверка Гипотез"
   ]
  },
  {
   "cell_type": "code",
   "execution_count": 64,
   "metadata": {},
   "outputs": [],
   "source": [
    "from statsmodels.stats.multitest import multipletests"
   ]
  },
  {
   "cell_type": "code",
   "execution_count": 65,
   "metadata": {},
   "outputs": [],
   "source": [
    "np.random.seed(2)\n",
    "pvals = np.random.uniform(0, 0.3, 100)\n",
    "#Скорректируем поправкой Холма:\n",
    "pvals_corrected = multipletests(pvals, method=\"holm\")"
   ]
  },
  {
   "attachments": {},
   "cell_type": "markdown",
   "metadata": {},
   "source": [
    "## Практика"
   ]
  },
  {
   "cell_type": "code",
   "execution_count": 66,
   "metadata": {},
   "outputs": [],
   "source": [
    "df_train = pd.read_csv(\"data/train.csv\", index_col=\"PassengerId\")\n",
    "df_test = pd.read_csv(\"data/test.csv\", index_col=\"PassengerId\")"
   ]
  },
  {
   "cell_type": "code",
   "execution_count": 67,
   "metadata": {},
   "outputs": [
    {
     "data": {
      "text/plain": [
       "(-16.218833930670097, 3.7117477701134797e-59)"
      ]
     },
     "execution_count": 67,
     "metadata": {},
     "output_type": "execute_result"
    }
   ],
   "source": [
    "# Правда ли, что мужчины реже выживали, чем женщины?\n",
    "male_survived = df_train[df_train['Sex']=='male']['Survived'].sum()\n",
    "male_num = len(df_train[df_train['Sex']=='male']['Survived'])\n",
    "female_survived = df_train[df_train['Sex']=='female']['Survived'].sum()\n",
    "female_num = len(df_train[df_train['Sex']=='female']['Survived'])\n",
    "proportions_ztest(count=[male_survived, female_survived], nobs=[male_num , female_num])"
   ]
  },
  {
   "attachments": {},
   "cell_type": "markdown",
   "metadata": {},
   "source": [
    "Мы видим, что есть статистически значимое различие между числом выживших мужчин и женщин. Но наша цель не в том, чтобы зафиксировать наличие различий в уровне выживаемости, а выяснить, выживали ли мужчины реже. У нас есть два варианта: просто посмотреть, где больше выживших с учётом проверенной гипотезы, или провести одностороннюю проверку гипотезы. Последний вариант вполне подходит:"
   ]
  },
  {
   "cell_type": "code",
   "execution_count": 68,
   "metadata": {},
   "outputs": [
    {
     "data": {
      "text/plain": [
       "(-16.218833930670097, 1.8558738850567398e-59)"
      ]
     },
     "execution_count": 68,
     "metadata": {},
     "output_type": "execute_result"
    }
   ],
   "source": [
    "proportions_ztest(count=[male_survived, female_survived], nobs=[male_num , female_num], alternative='smaller')"
   ]
  },
  {
   "cell_type": "code",
   "execution_count": 69,
   "metadata": {},
   "outputs": [
    {
     "data": {
      "text/plain": [
       "Ttest_indResult(statistic=3.53435125095576, pvalue=0.0002594751653940835)"
      ]
     },
     "execution_count": 69,
     "metadata": {},
     "output_type": "execute_result"
    }
   ],
   "source": [
    "# Верно ли, что погибшие в среднем были старше, чем выжившие?\n",
    "df_cleared = df_train.dropna()\n",
    "survived_ages = df_cleared[df_cleared['Survived']==1]['Age'].values\n",
    "died_ages = df_cleared[df_cleared['Survived']!=1]['Age'].values\n",
    "stats.ttest_ind(died_ages, survived_ages, alternative=\"greater\")"
   ]
  },
  {
   "attachments": {},
   "cell_type": "markdown",
   "metadata": {},
   "source": [
    "Действительно, средний возраст погибших больше, чем средний возраст выживших."
   ]
  },
  {
   "attachments": {},
   "cell_type": "markdown",
   "metadata": {},
   "source": [
    "Разобьём его на декады и проверим, верно ли, что выживаемость между различными возрастными группами различна. При этом помним, что мы с вами проводим множественную проверку гипотез:"
   ]
  },
  {
   "cell_type": "code",
   "execution_count": 70,
   "metadata": {},
   "outputs": [
    {
     "name": "stderr",
     "output_type": "stream",
     "text": [
      "C:\\Users\\Пользователь\\AppData\\Local\\Temp\\ipykernel_6360\\2843580256.py:1: SettingWithCopyWarning: \n",
      "A value is trying to be set on a copy of a slice from a DataFrame.\n",
      "Try using .loc[row_indexer,col_indexer] = value instead\n",
      "\n",
      "See the caveats in the documentation: https://pandas.pydata.org/pandas-docs/stable/user_guide/indexing.html#returning-a-view-versus-a-copy\n",
      "  df_cleared['age_group'] = df_cleared['Age'].apply(lambda x: x//10)\n"
     ]
    }
   ],
   "source": [
    "df_cleared['age_group'] = df_cleared['Age'].apply(lambda x: x//10)\n",
    "p_vals = []\n",
    "coeffs = []\n",
    "age_groups = df_cleared['age_group'].unique()\n",
    "for i in range(len(age_groups)):\n",
    "    age_group_1_sum = df_cleared[df_cleared['age_group']==age_groups[i]]['Survived'].sum()\n",
    "    age_group_1_count = len(df_cleared[df_cleared['age_group']==age_groups[i]])\n",
    "    for j in range(i+1, len(age_groups)):\n",
    "        age_group_2_sum = df_cleared[df_cleared['age_group']==age_groups[j]]['Survived'].sum()\n",
    "        age_group_2_count = len(df_cleared[df_cleared['age_group']==age_groups[j]])\n",
    "        p_value = proportions_ztest(count=[age_group_1_sum, age_group_2_sum], nobs=[age_group_1_count, age_group_2_count])[1]\n",
    "        p_vals.append(p_value)\n",
    "        coeffs.append(age_groups[j])\n",
    "p_vals_corrected = multipletests(p_vals, method=\"bonferroni\")[1]\n",
    "\n",
    "for i, pval in enumerate(p_vals_corrected):\n",
    "    if pval < 0.05:\n",
    "        print(coeffs[i])"
   ]
  },
  {
   "attachments": {},
   "cell_type": "markdown",
   "metadata": {},
   "source": [
    "Таким образом, в итоговую модель целесообразно включать пол и возраст. А добавление возрастных групп, напротив, выглядит сомнительно."
   ]
  },
  {
   "cell_type": "code",
   "execution_count": 91,
   "metadata": {},
   "outputs": [
    {
     "name": "stdout",
     "output_type": "stream",
     "text": [
      "p_value = 0.5494539128955762. Принимаем H0: Средний возваст между выборками равен\n"
     ]
    }
   ],
   "source": [
    "# Тест на равенство среднего возраста в тренировочной и тестовой выборках\n",
    "H0 = 'Средний возваст между выборками равен'\n",
    "H1 = 'Средний возвраст между выборками не равен'\n",
    "a = 0.05 # Уровень значимости\n",
    "_, p_value = stats.ttest_ind(a = df_train['Age'].dropna().values, b = df_test['Age'].dropna().values)\n",
    "if p_value < a:\n",
    "    print(f'p_value = {p_value}. Отвергаем H0:', H1)\n",
    "else:\n",
    "    print(f'p_value = {p_value}. Принимаем H0:', H0)"
   ]
  },
  {
   "cell_type": "code",
   "execution_count": 92,
   "metadata": {},
   "outputs": [
    {
     "data": {
      "text/html": [
       "<div>\n",
       "<style scoped>\n",
       "    .dataframe tbody tr th:only-of-type {\n",
       "        vertical-align: middle;\n",
       "    }\n",
       "\n",
       "    .dataframe tbody tr th {\n",
       "        vertical-align: top;\n",
       "    }\n",
       "\n",
       "    .dataframe thead th {\n",
       "        text-align: right;\n",
       "    }\n",
       "</style>\n",
       "<table border=\"1\" class=\"dataframe\">\n",
       "  <thead>\n",
       "    <tr style=\"text-align: right;\">\n",
       "      <th></th>\n",
       "      <th>Survived</th>\n",
       "      <th>Pclass</th>\n",
       "      <th>Name</th>\n",
       "      <th>Sex</th>\n",
       "      <th>Age</th>\n",
       "      <th>SibSp</th>\n",
       "      <th>Parch</th>\n",
       "      <th>Ticket</th>\n",
       "      <th>Fare</th>\n",
       "      <th>Cabin</th>\n",
       "      <th>Embarked</th>\n",
       "    </tr>\n",
       "    <tr>\n",
       "      <th>PassengerId</th>\n",
       "      <th></th>\n",
       "      <th></th>\n",
       "      <th></th>\n",
       "      <th></th>\n",
       "      <th></th>\n",
       "      <th></th>\n",
       "      <th></th>\n",
       "      <th></th>\n",
       "      <th></th>\n",
       "      <th></th>\n",
       "      <th></th>\n",
       "    </tr>\n",
       "  </thead>\n",
       "  <tbody>\n",
       "    <tr>\n",
       "      <th>1</th>\n",
       "      <td>0</td>\n",
       "      <td>3</td>\n",
       "      <td>Braund, Mr. Owen Harris</td>\n",
       "      <td>male</td>\n",
       "      <td>22.0</td>\n",
       "      <td>1</td>\n",
       "      <td>0</td>\n",
       "      <td>A/5 21171</td>\n",
       "      <td>7.2500</td>\n",
       "      <td>NaN</td>\n",
       "      <td>S</td>\n",
       "    </tr>\n",
       "    <tr>\n",
       "      <th>2</th>\n",
       "      <td>1</td>\n",
       "      <td>1</td>\n",
       "      <td>Cumings, Mrs. John Bradley (Florence Briggs Th...</td>\n",
       "      <td>female</td>\n",
       "      <td>38.0</td>\n",
       "      <td>1</td>\n",
       "      <td>0</td>\n",
       "      <td>PC 17599</td>\n",
       "      <td>71.2833</td>\n",
       "      <td>C85</td>\n",
       "      <td>C</td>\n",
       "    </tr>\n",
       "  </tbody>\n",
       "</table>\n",
       "</div>"
      ],
      "text/plain": [
       "             Survived  Pclass  \\\n",
       "PassengerId                     \n",
       "1                   0       3   \n",
       "2                   1       1   \n",
       "\n",
       "                                                          Name     Sex   Age  \\\n",
       "PassengerId                                                                    \n",
       "1                                      Braund, Mr. Owen Harris    male  22.0   \n",
       "2            Cumings, Mrs. John Bradley (Florence Briggs Th...  female  38.0   \n",
       "\n",
       "             SibSp  Parch     Ticket     Fare Cabin Embarked  \n",
       "PassengerId                                                   \n",
       "1                1      0  A/5 21171   7.2500   NaN        S  \n",
       "2                1      0   PC 17599  71.2833   C85        C  "
      ]
     },
     "execution_count": 92,
     "metadata": {},
     "output_type": "execute_result"
    }
   ],
   "source": [
    "df_train.head(2)"
   ]
  },
  {
   "cell_type": "code",
   "execution_count": 98,
   "metadata": {},
   "outputs": [
    {
     "name": "stdout",
     "output_type": "stream",
     "text": [
      "p_value = 0.6925640325233131. Принимаем H0: Доля мужчин в тренировочной и тестовой выборках равна\n"
     ]
    }
   ],
   "source": [
    "# Тест на равенство доли мужчин в тренировочной и тестовой выборках\n",
    "H0 = 'Доля мужчин в тренировочной и тестовой выборках равна'\n",
    "H1 = 'Доля мужчин в тренировочной и тестовой выборках равна'\n",
    "a = 0.05 # Уровень значимости\n",
    "_, p_value = proportions_ztest(count=[df_train[df_train['Sex'] == 'male']['Sex'].count(), df_test[df_test['Sex'] == 'male']['Sex'].count()],\n",
    "                               nobs=[df_train['Sex'].count(), df_test['Sex'].count()])\n",
    "if p_value < a:\n",
    "    print(f'p_value = {p_value}. Отвергаем H0:', H1)\n",
    "else:\n",
    "    print(f'p_value = {p_value}. Принимаем H0:', H0)"
   ]
  }
 ],
 "metadata": {
  "kernelspec": {
   "display_name": "Python 3",
   "language": "python",
   "name": "python3"
  },
  "language_info": {
   "codemirror_mode": {
    "name": "ipython",
    "version": 3
   },
   "file_extension": ".py",
   "mimetype": "text/x-python",
   "name": "python",
   "nbconvert_exporter": "python",
   "pygments_lexer": "ipython3",
   "version": "3.10.4"
  },
  "orig_nbformat": 4
 },
 "nbformat": 4,
 "nbformat_minor": 2
}
