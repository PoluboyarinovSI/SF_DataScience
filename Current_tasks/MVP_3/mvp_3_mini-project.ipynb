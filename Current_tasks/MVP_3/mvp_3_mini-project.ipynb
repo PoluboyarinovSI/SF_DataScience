{
 "cells": [
  {
   "cell_type": "code",
   "execution_count": 315,
   "metadata": {},
   "outputs": [],
   "source": [
    "import numpy as np\n",
    "import pandas as pd\n",
    "\n",
    "import matplotlib.pyplot as plt\n",
    "import seaborn as sns\n",
    "\n",
    "from sklearn.preprocessing import OneHotEncoder\n",
    "from scipy.stats import shapiro\n",
    "\n",
    "from statsmodels.stats.proportion import proportions_ztest # сравнение долей\n",
    "from scipy.stats import ttest_ind, mannwhitneyu # сравнение средних"
   ]
  },
  {
   "cell_type": "code",
   "execution_count": 316,
   "metadata": {},
   "outputs": [],
   "source": [
    "sample_a = pd.read_csv('C:\\SkillFactory\\SF_DataScience\\Current_tasks\\data\\MPV_3\\sample_a.csv')\n",
    "sample_b = pd.read_csv('C:\\SkillFactory\\SF_DataScience\\Current_tasks\\data\\MPV_3\\sample_b.csv')\n",
    "sample_c = pd.read_csv('C:\\SkillFactory\\SF_DataScience\\Current_tasks\\data\\MPV_3\\sample_c.csv')\n",
    "item_prices = pd.read_csv('C:\\SkillFactory\\SF_DataScience\\Current_tasks\\data\\MPV_3\\item_prices.csv')"
   ]
  },
  {
   "cell_type": "code",
   "execution_count": 317,
   "metadata": {},
   "outputs": [
    {
     "data": {
      "text/html": [
       "<div>\n",
       "<style scoped>\n",
       "    .dataframe tbody tr th:only-of-type {\n",
       "        vertical-align: middle;\n",
       "    }\n",
       "\n",
       "    .dataframe tbody tr th {\n",
       "        vertical-align: top;\n",
       "    }\n",
       "\n",
       "    .dataframe thead th {\n",
       "        text-align: right;\n",
       "    }\n",
       "</style>\n",
       "<table border=\"1\" class=\"dataframe\">\n",
       "  <thead>\n",
       "    <tr style=\"text-align: right;\">\n",
       "      <th></th>\n",
       "      <th>user_id</th>\n",
       "      <th>item_id</th>\n",
       "      <th>action_id</th>\n",
       "    </tr>\n",
       "  </thead>\n",
       "  <tbody>\n",
       "    <tr>\n",
       "      <th>0</th>\n",
       "      <td>84636</td>\n",
       "      <td>360</td>\n",
       "      <td>1</td>\n",
       "    </tr>\n",
       "    <tr>\n",
       "      <th>1</th>\n",
       "      <td>21217</td>\n",
       "      <td>9635</td>\n",
       "      <td>1</td>\n",
       "    </tr>\n",
       "    <tr>\n",
       "      <th>2</th>\n",
       "      <td>13445</td>\n",
       "      <td>8590</td>\n",
       "      <td>1</td>\n",
       "    </tr>\n",
       "    <tr>\n",
       "      <th>3</th>\n",
       "      <td>38450</td>\n",
       "      <td>5585</td>\n",
       "      <td>1</td>\n",
       "    </tr>\n",
       "    <tr>\n",
       "      <th>4</th>\n",
       "      <td>14160</td>\n",
       "      <td>2383</td>\n",
       "      <td>0</td>\n",
       "    </tr>\n",
       "  </tbody>\n",
       "</table>\n",
       "</div>"
      ],
      "text/plain": [
       "   user_id  item_id  action_id\n",
       "0    84636      360          1\n",
       "1    21217     9635          1\n",
       "2    13445     8590          1\n",
       "3    38450     5585          1\n",
       "4    14160     2383          0"
      ]
     },
     "execution_count": 317,
     "metadata": {},
     "output_type": "execute_result"
    }
   ],
   "source": [
    "sample_a.head()"
   ]
  },
  {
   "cell_type": "code",
   "execution_count": 318,
   "metadata": {},
   "outputs": [
    {
     "data": {
      "text/html": [
       "<div>\n",
       "<style scoped>\n",
       "    .dataframe tbody tr th:only-of-type {\n",
       "        vertical-align: middle;\n",
       "    }\n",
       "\n",
       "    .dataframe tbody tr th {\n",
       "        vertical-align: top;\n",
       "    }\n",
       "\n",
       "    .dataframe thead th {\n",
       "        text-align: right;\n",
       "    }\n",
       "</style>\n",
       "<table border=\"1\" class=\"dataframe\">\n",
       "  <thead>\n",
       "    <tr style=\"text-align: right;\">\n",
       "      <th></th>\n",
       "      <th>item_id</th>\n",
       "      <th>item_price</th>\n",
       "    </tr>\n",
       "  </thead>\n",
       "  <tbody>\n",
       "    <tr>\n",
       "      <th>0</th>\n",
       "      <td>338</td>\n",
       "      <td>1501</td>\n",
       "    </tr>\n",
       "    <tr>\n",
       "      <th>1</th>\n",
       "      <td>74</td>\n",
       "      <td>647</td>\n",
       "    </tr>\n",
       "    <tr>\n",
       "      <th>2</th>\n",
       "      <td>7696</td>\n",
       "      <td>825</td>\n",
       "    </tr>\n",
       "    <tr>\n",
       "      <th>3</th>\n",
       "      <td>866</td>\n",
       "      <td>875</td>\n",
       "    </tr>\n",
       "    <tr>\n",
       "      <th>4</th>\n",
       "      <td>5876</td>\n",
       "      <td>804</td>\n",
       "    </tr>\n",
       "  </tbody>\n",
       "</table>\n",
       "</div>"
      ],
      "text/plain": [
       "   item_id  item_price\n",
       "0      338        1501\n",
       "1       74         647\n",
       "2     7696         825\n",
       "3      866         875\n",
       "4     5876         804"
      ]
     },
     "execution_count": 318,
     "metadata": {},
     "output_type": "execute_result"
    }
   ],
   "source": [
    "item_prices.head()"
   ]
  },
  {
   "cell_type": "code",
   "execution_count": 319,
   "metadata": {},
   "outputs": [],
   "source": [
    "# Очистка от дубликатов\n",
    "sample_a = sample_a.drop_duplicates()\n",
    "sample_b = sample_b.drop_duplicates()\n",
    "sample_c = sample_c.drop_duplicates()"
   ]
  },
  {
   "cell_type": "code",
   "execution_count": 320,
   "metadata": {},
   "outputs": [],
   "source": [
    "# Объединение данных\n",
    "sample_a = sample_a.merge(item_prices, left_on='item_id', right_on='item_id')\n",
    "sample_b = sample_b.merge(item_prices, left_on='item_id', right_on='item_id')\n",
    "sample_c = sample_c.merge(item_prices, left_on='item_id', right_on='item_id')"
   ]
  },
  {
   "cell_type": "code",
   "execution_count": 321,
   "metadata": {},
   "outputs": [],
   "source": [
    "# Кодирование признаков действия для sample_a\n",
    "encoder = OneHotEncoder()\n",
    "encoder_df = pd.DataFrame(encoder.fit_transform(sample_a[['action_id']]).toarray ())\n",
    "encoded_sample_a = sample_a.join(encoder_df)\n",
    "\n",
    "encoded_sample_a.columns = ['user_id', 'item_id', 'action_id', 'item_price', 'clicks', 'views', 'purchases']\n",
    "encoded_sample_a.drop(['action_id'], axis=1, inplace=True)"
   ]
  },
  {
   "cell_type": "code",
   "execution_count": 322,
   "metadata": {},
   "outputs": [],
   "source": [
    "# Группировка по пользователям и товарам для sample_a\n",
    "grouped_sample_a = encoded_sample_a.groupby(['user_id', 'item_id', 'item_price'], as_index=False).agg({\n",
    "    'clicks':'sum',\n",
    "    'views':'sum',\n",
    "    'purchases':'sum'\n",
    "})\n",
    "\n",
    "grouped_sample_a['purchases_amount'] = grouped_sample_a['purchases'] * grouped_sample_a['item_price']"
   ]
  },
  {
   "cell_type": "code",
   "execution_count": 323,
   "metadata": {},
   "outputs": [],
   "source": [
    "# Кодирование признаков действия для sample_b\n",
    "encoder = OneHotEncoder()\n",
    "encoder_df = pd.DataFrame(encoder.fit_transform(sample_b[['action_id']]).toarray ())\n",
    "encoded_sample_b = sample_b.join(encoder_df)\n",
    "\n",
    "encoded_sample_b.columns = ['user_id', 'item_id', 'action_id', 'item_price', 'clicks', 'views', 'purchases']\n",
    "encoded_sample_b.drop(['action_id'], axis=1, inplace=True)"
   ]
  },
  {
   "cell_type": "code",
   "execution_count": 324,
   "metadata": {},
   "outputs": [],
   "source": [
    "# Группировка по пользователям и товарам для sample_b\n",
    "grouped_sample_b = encoded_sample_b.groupby(['user_id', 'item_id', 'item_price'], as_index=False).agg({\n",
    "    'clicks':'sum',\n",
    "    'views':'sum',\n",
    "    'purchases':'sum'\n",
    "})\n",
    "\n",
    "grouped_sample_b['purchases_amount'] = grouped_sample_b['purchases'] * grouped_sample_b['item_price']"
   ]
  },
  {
   "cell_type": "code",
   "execution_count": 325,
   "metadata": {},
   "outputs": [],
   "source": [
    "# Кодирование признаков действия для sample_c\n",
    "encoder = OneHotEncoder()\n",
    "encoder_df = pd.DataFrame(encoder.fit_transform(sample_c[['action_id']]).toarray ())\n",
    "encoded_sample_c = sample_c.join(encoder_df)\n",
    "\n",
    "encoded_sample_c.columns = ['user_id', 'item_id', 'action_id', 'item_price', 'clicks', 'views', 'purchases']\n",
    "encoded_sample_c.drop(['action_id'], axis=1, inplace=True)"
   ]
  },
  {
   "cell_type": "code",
   "execution_count": 326,
   "metadata": {},
   "outputs": [],
   "source": [
    "# Группировка по пользователям и товарам для sample_c\n",
    "grouped_sample_c = encoded_sample_c.groupby(['user_id', 'item_id', 'item_price'], as_index=False).agg({\n",
    "    'clicks':'sum',\n",
    "    'views':'sum',\n",
    "    'purchases':'sum'\n",
    "})\n",
    "\n",
    "grouped_sample_c['purchases_amount'] = grouped_sample_c['purchases'] * grouped_sample_c['item_price']"
   ]
  },
  {
   "cell_type": "code",
   "execution_count": 327,
   "metadata": {},
   "outputs": [
    {
     "name": "stdout",
     "output_type": "stream",
     "text": [
      "Проверка sample_a\n",
      "0\n",
      "0\n",
      "Проверка sample_b\n",
      "0\n",
      "0\n",
      "Проверка sample_c\n",
      "0\n",
      "0\n"
     ]
    }
   ],
   "source": [
    "# Проверка на наличие покупов/кликов без просмотров\n",
    "print('Проверка sample_a')\n",
    "print(grouped_sample_a[(grouped_sample_a['views'] == 0) & (grouped_sample_a['clicks'] == 1)].shape[0])\n",
    "print(grouped_sample_a[(grouped_sample_a['views'] == 0) & (grouped_sample_a['purchases'] == 1)].shape[0])\n",
    "\n",
    "print('Проверка sample_b')\n",
    "print(grouped_sample_b[(grouped_sample_b['views'] == 0) & (grouped_sample_b['clicks'] == 1)].shape[0])\n",
    "print(grouped_sample_b[(grouped_sample_b['views'] == 0) & (grouped_sample_b['purchases'] == 1)].shape[0])\n",
    "\n",
    "print('Проверка sample_c')\n",
    "print(grouped_sample_c[(grouped_sample_c['views'] == 0) & (grouped_sample_c['clicks'] == 1)].shape[0])\n",
    "print(grouped_sample_c[(grouped_sample_c['views'] == 0) & (grouped_sample_c['purchases'] == 1)].shape[0])"
   ]
  },
  {
   "cell_type": "code",
   "execution_count": 328,
   "metadata": {},
   "outputs": [],
   "source": [
    "# Формирование датасета по группе sample_a с целевыми метриками по сессиям (1 сессия 1 пользователь)\n",
    "df_stats_a = pd.DataFrame(columns=['user_id', 'ctr', 'purchase_rate', 'gvm'])\n",
    "\n",
    "for user_id in grouped_sample_a.user_id.unique():\n",
    "    df_stats_a.loc[len(df_stats_a.index)] = [\n",
    "    user_id,\n",
    "    grouped_sample_a[grouped_sample_a['user_id'] == user_id].clicks.sum() / grouped_sample_a[grouped_sample_a['user_id'] == user_id].views.sum(),\n",
    "    grouped_sample_a[grouped_sample_a['user_id'] == user_id].purchases.sum() / grouped_sample_a[grouped_sample_a['user_id'] == user_id].views.sum(),\n",
    "    grouped_sample_a[grouped_sample_a['user_id'] == user_id].purchases_amount.sum()\n",
    "]"
   ]
  },
  {
   "cell_type": "code",
   "execution_count": 329,
   "metadata": {},
   "outputs": [],
   "source": [
    "# Формирование датасета по группе sample_b с целевыми метриками по сессиям (1 сессия 1 пользователь)\n",
    "df_stats_b = pd.DataFrame(columns=['user_id', 'ctr', 'purchase_rate', 'gvm'])\n",
    "\n",
    "for user_id in grouped_sample_b.user_id.unique():\n",
    "    df_stats_b.loc[len(df_stats_b.index)] = [\n",
    "    user_id,\n",
    "    grouped_sample_b[grouped_sample_b['user_id'] == user_id].clicks.sum() / grouped_sample_b[grouped_sample_b['user_id'] == user_id].views.sum(),\n",
    "    grouped_sample_b[grouped_sample_b['user_id'] == user_id].purchases.sum() / grouped_sample_b[grouped_sample_b['user_id'] == user_id].views.sum(),\n",
    "    grouped_sample_b[grouped_sample_b['user_id'] == user_id].purchases_amount.sum()\n",
    "]"
   ]
  },
  {
   "cell_type": "code",
   "execution_count": 330,
   "metadata": {},
   "outputs": [],
   "source": [
    "# Формирование датасета по группе sample_c с целевыми метриками по сессиям (1 сессия 1 пользователь)\n",
    "df_stats_c = pd.DataFrame(columns=['user_id', 'ctr', 'purchase_rate', 'gvm'])\n",
    "\n",
    "for user_id in grouped_sample_c.user_id.unique():\n",
    "    df_stats_c.loc[len(df_stats_c.index)] = [\n",
    "    user_id,\n",
    "    grouped_sample_c[grouped_sample_c['user_id'] == user_id].clicks.sum() / grouped_sample_c[grouped_sample_c['user_id'] == user_id].views.sum(),\n",
    "    grouped_sample_c[grouped_sample_c['user_id'] == user_id].purchases.sum() / grouped_sample_c[grouped_sample_c['user_id'] == user_id].views.sum(),\n",
    "    grouped_sample_c[grouped_sample_c['user_id'] == user_id].purchases_amount.sum()\n",
    "]"
   ]
  },
  {
   "cell_type": "markdown",
   "metadata": {},
   "source": [
    "### Выполнение статистических тестов на нормальность"
   ]
  },
  {
   "cell_type": "code",
   "execution_count": 331,
   "metadata": {},
   "outputs": [
    {
     "name": "stdout",
     "output_type": "stream",
     "text": [
      "Результаты теста для метрики ctr (sample_a)\n",
      "Отвергаем нулевую гипотезу. Распределения нормальное\n",
      "Принимаем альтернативную гипотезу. H1: Распределение отлично от нормального\n",
      "_________________________________________________________\n",
      "Результаты теста для метрики purchase_rate (sample_a)\n",
      "Принимаем нулевую гипотезу. Распределения нормальное\n",
      "_________________________________________________________\n",
      "Результаты теста для метрики gvm (sample_a)\n",
      "Принимаем нулевую гипотезу. Распределения нормальное\n",
      "_________________________________________________________\n"
     ]
    }
   ],
   "source": [
    "H0 = 'Распределения нормальное'\n",
    "H1 = 'Распределение отлично от нормального'\n",
    "\n",
    "alpha = 0.01\n",
    "\n",
    "for metric in ['ctr', 'purchase_rate', 'gvm']:\n",
    "    shapiro_a = shapiro(df_stats_a[metric])\n",
    "\n",
    "    if shapiro_a.pvalue < alpha:\n",
    "        print(\"Результаты теста для метрики {} (sample_a)\".format(metric))\n",
    "        print(\"Отвергаем нулевую гипотезу. {}\".format(H0))\n",
    "        print(\"Принимаем альтернативную гипотезу. H1: {}\".format(H1))\n",
    "        print(\"_________________________________________________________\")\n",
    "    else:\n",
    "        print(\"Результаты теста для метрики {} (sample_a)\".format(metric))\n",
    "        print(\"Принимаем нулевую гипотезу. {}\".format(H0))\n",
    "        print(\"_________________________________________________________\")"
   ]
  },
  {
   "cell_type": "code",
   "execution_count": 332,
   "metadata": {},
   "outputs": [
    {
     "name": "stdout",
     "output_type": "stream",
     "text": [
      "Результаты теста для метрики ctr (sample_b)\n",
      "Принимаем нулевую гипотезу. Распределения нормальное\n",
      "_________________________________________________________\n",
      "Результаты теста для метрики purchase_rate (sample_b)\n",
      "Принимаем нулевую гипотезу. Распределения нормальное\n",
      "_________________________________________________________\n",
      "Результаты теста для метрики gvm (sample_b)\n",
      "Принимаем нулевую гипотезу. Распределения нормальное\n",
      "_________________________________________________________\n"
     ]
    }
   ],
   "source": [
    "H0 = 'Распределения нормальное'\n",
    "H1 = 'Распределение отлично от нормального'\n",
    "\n",
    "alpha = 0.01\n",
    "\n",
    "for metric in ['ctr', 'purchase_rate', 'gvm']:\n",
    "    shapiro_a = shapiro(df_stats_b[metric])\n",
    "\n",
    "    if shapiro_a.pvalue < alpha:\n",
    "        print(\"Результаты теста для метрики {} (sample_b)\".format(metric))\n",
    "        print(\"Отвергаем нулевую гипотезу. {}\".format(H0))\n",
    "        print(\"Принимаем альтернативную гипотезу. H1: {}\".format(H1))\n",
    "        print(\"_________________________________________________________\")\n",
    "    else:\n",
    "        print(\"Результаты теста для метрики {} (sample_b)\".format(metric))\n",
    "        print(\"Принимаем нулевую гипотезу. {}\".format(H0))\n",
    "        print(\"_________________________________________________________\")"
   ]
  },
  {
   "cell_type": "code",
   "execution_count": 333,
   "metadata": {},
   "outputs": [
    {
     "name": "stdout",
     "output_type": "stream",
     "text": [
      "Результаты теста для метрики ctr (sample_c)\n",
      "Принимаем нулевую гипотезу. Распределения нормальное\n",
      "_________________________________________________________\n",
      "Результаты теста для метрики purchase_rate (sample_c)\n",
      "Принимаем нулевую гипотезу. Распределения нормальное\n",
      "_________________________________________________________\n",
      "Результаты теста для метрики gvm (sample_c)\n",
      "Принимаем нулевую гипотезу. Распределения нормальное\n",
      "_________________________________________________________\n"
     ]
    }
   ],
   "source": [
    "H0 = 'Распределения нормальное'\n",
    "H1 = 'Распределение отлично от нормального'\n",
    "\n",
    "alpha = 0.01\n",
    "\n",
    "for metric in ['ctr', 'purchase_rate', 'gvm']:\n",
    "    shapiro_a = shapiro(df_stats_c[metric])\n",
    "\n",
    "    if shapiro_a.pvalue < alpha:\n",
    "        print(\"Результаты теста для метрики {} (sample_c)\".format(metric))\n",
    "        print(\"Отвергаем нулевую гипотезу. {}\".format(H0))\n",
    "        print(\"Принимаем альтернативную гипотезу. H1: {}\".format(H1))\n",
    "        print(\"_________________________________________________________\")\n",
    "    else:\n",
    "        print(\"Результаты теста для метрики {} (sample_c)\".format(metric))\n",
    "        print(\"Принимаем нулевую гипотезу. {}\".format(H0))\n",
    "        print(\"_________________________________________________________\")"
   ]
  },
  {
   "cell_type": "markdown",
   "metadata": {},
   "source": [
    "### Общий анализ полученных метрик по сэмплам"
   ]
  },
  {
   "cell_type": "code",
   "execution_count": 334,
   "metadata": {},
   "outputs": [
    {
     "data": {
      "image/png": "[encoded data removed]",
      "text/plain": [
       "<Figure size 720x576 with 1 Axes>"
      ]
     },
     "metadata": {
      "needs_background": "light"
     },
     "output_type": "display_data"
    }
   ],
   "source": [
    "fig, (ax1) = plt.subplots(ncols=1, figsize=(10, 8))\n",
    "ax1.set_title('Распределения метрики ctr')\n",
    "\n",
    "sns.histplot(df_stats_a['ctr'], ax=ax1, color='red')\n",
    "sns.histplot(df_stats_b['ctr'], ax=ax1, color='green')\n",
    "sns.histplot(df_stats_c['ctr'], ax=ax1, color='blue')\n",
    "ax1.legend(['sample_a', 'sample_b', 'sample_c']);"
   ]
  },
  {
   "cell_type": "code",
   "execution_count": 335,
   "metadata": {},
   "outputs": [
    {
     "data": {
      "image/png": "[encoded data removed]",
      "text/plain": [
       "<Figure size 720x576 with 1 Axes>"
      ]
     },
     "metadata": {
      "needs_background": "light"
     },
     "output_type": "display_data"
    }
   ],
   "source": [
    "fig, (ax1) = plt.subplots(ncols=1, figsize=(10, 8))\n",
    "ax1.set_title('Распределения метрики purchase_rate')\n",
    "\n",
    "sns.histplot(df_stats_a['purchase_rate'], ax=ax1, color='red')\n",
    "sns.histplot(df_stats_b['purchase_rate'], ax=ax1, color='green')\n",
    "sns.histplot(df_stats_c['purchase_rate'], ax=ax1, color='blue')\n",
    "ax1.legend(['sample_a', 'sample_b', 'sample_c']);"
   ]
  },
  {
   "cell_type": "code",
   "execution_count": 336,
   "metadata": {},
   "outputs": [
    {
     "data": {
      "image/png": "[encoded data removed]",
      "text/plain": [
       "<Figure size 720x576 with 1 Axes>"
      ]
     },
     "metadata": {
      "needs_background": "light"
     },
     "output_type": "display_data"
    }
   ],
   "source": [
    "fig, (ax1) = plt.subplots(ncols=1, figsize=(10, 8))\n",
    "ax1.set_title('Распределения метрики gvm')\n",
    "\n",
    "sns.histplot(df_stats_a['gvm'], ax=ax1, color='red')\n",
    "sns.histplot(df_stats_b['gvm'], ax=ax1, color='green')\n",
    "sns.histplot(df_stats_c['gvm'], ax=ax1, color='blue')\n",
    "ax1.legend(['sample_a', 'sample_b', 'sample_c']);"
   ]
  },
  {
   "cell_type": "markdown",
   "metadata": {},
   "source": [
    "### Выполнение статистических тестов для сэмплов A и C"
   ]
  },
  {
   "cell_type": "code",
   "execution_count": 337,
   "metadata": {},
   "outputs": [
    {
     "name": "stdout",
     "output_type": "stream",
     "text": [
      "Отвергаем нулевую гипотезу Среднее значение метрики ctr одинаково\n",
      "Альтернативная гипотеза H1: Среднее значение метрики ctr в группе А меньше, чем в группе С\n"
     ]
    }
   ],
   "source": [
    "# Метрика ctr для sample_a распределена отлично от нормального, поэтому необходимо использовать\n",
    "# U-критерий Манна-Уитни\n",
    "H0 = 'Среднее значение метрики ctr одинаково'\n",
    "H1 = 'Среднее значение метрики ctr в группе А меньше, чем в группе С'\n",
    "\n",
    "alpha = 0.01 \n",
    "\n",
    "result = mannwhitneyu(\n",
    "    x=df_stats_a['ctr'],\n",
    "    y=df_stats_c['ctr'],\n",
    "    alternative='less'\n",
    ")\n",
    "\n",
    "if result.pvalue<alpha:\n",
    "    print(\"Отвергаем нулевую гипотезу {}\".format(H0))\n",
    "    print(\"Альтернативная гипотеза H1: {}\".format(H1))\n",
    "else:\n",
    "    print(\"Принимаем нулевую гипотезу. {}\".format(H0))"
   ]
  },
  {
   "cell_type": "code",
   "execution_count": 338,
   "metadata": {},
   "outputs": [
    {
     "name": "stdout",
     "output_type": "stream",
     "text": [
      "Отвергаем нулевую гипотезу Среднее значение метрики purchase_rate одинаково\n",
      "Альтернативная гипотеза H1: Среднее значение метрики purchase_rate в группе А меньше, чем в группе С\n"
     ]
    }
   ],
   "source": [
    "# Метрика purchase_rate имеет нормальное распределение в обоих сэмплах, поэтому необходимо использовать\n",
    "# Двухвыборочный t-критерий\n",
    "H0 = 'Среднее значение метрики purchase_rate одинаково'\n",
    "H1 = 'Среднее значение метрики purchase_rate в группе А меньше, чем в группе С'\n",
    "\n",
    "alpha = 0.01 \n",
    "\n",
    "result = ttest_ind(\n",
    "    a=df_stats_a['purchase_rate'],\n",
    "    b=df_stats_c['purchase_rate'],\n",
    "    alternative='less'\n",
    ")\n",
    "\n",
    "if result.pvalue<alpha:\n",
    "    print(\"Отвергаем нулевую гипотезу {}\".format(H0))\n",
    "    print(\"Альтернативная гипотеза H1: {}\".format(H1))\n",
    "else:\n",
    "    print(\"Принимаем нулевую гипотезу. {}\".format(H0))"
   ]
  },
  {
   "cell_type": "code",
   "execution_count": 339,
   "metadata": {},
   "outputs": [
    {
     "name": "stdout",
     "output_type": "stream",
     "text": [
      "Отвергаем нулевую гипотезу Среднее значение метрики gvm одинаково\n",
      "Альтернативная гипотеза H1: Среднее значение метрики gvm в группе А меньше, чем в группе С\n"
     ]
    }
   ],
   "source": [
    "# Метрика gvm имеет нормальное распределение в обоих сэмплах, поэтому необходимо использовать\n",
    "# Двухвыборочный t-критерий\n",
    "H0 = 'Среднее значение метрики gvm одинаково'\n",
    "H1 = 'Среднее значение метрики gvm в группе А меньше, чем в группе С'\n",
    "\n",
    "alpha = 0.01 \n",
    "\n",
    "result = ttest_ind(\n",
    "    a=df_stats_a['gvm'],\n",
    "    b=df_stats_c['gvm'],\n",
    "    alternative='less'\n",
    ")\n",
    "\n",
    "if result.pvalue<alpha:\n",
    "    print(\"Отвергаем нулевую гипотезу {}\".format(H0))\n",
    "    print(\"Альтернативная гипотеза H1: {}\".format(H1))\n",
    "else:\n",
    "    print(\"Принимаем нулевую гипотезу. {}\".format(H0))"
   ]
  },
  {
   "cell_type": "markdown",
   "metadata": {},
   "source": [
    "По результатам выполненных статистических тестов можно сделать вывод, что по всем метрикам sample_c превосходит sample_a с заданным уровнем статистической значимости."
   ]
  },
  {
   "cell_type": "markdown",
   "metadata": {},
   "source": [
    "### Выполнение статистических тестов для сэмплов A и B"
   ]
  },
  {
   "cell_type": "code",
   "execution_count": 340,
   "metadata": {},
   "outputs": [
    {
     "name": "stdout",
     "output_type": "stream",
     "text": [
      "Принимаем нулевую гипотезу. Среднее значение метрики ctr одинаково\n"
     ]
    }
   ],
   "source": [
    "# Метрика ctr для sample_a распределена отлично от нормального, поэтому необходимо использовать\n",
    "# U-критерий Манна-Уитни\n",
    "H0 = 'Среднее значение метрики ctr одинаково'\n",
    "H1 = 'Среднее значение метрики ctr в группе А меньше, чем в группе B'\n",
    "\n",
    "alpha = 0.01 \n",
    "\n",
    "result = mannwhitneyu(\n",
    "    x=df_stats_a['ctr'],\n",
    "    y=df_stats_b['ctr'],\n",
    "    alternative='less'\n",
    ")\n",
    "\n",
    "if result.pvalue<alpha:\n",
    "    print(\"Отвергаем нулевую гипотезу {}\".format(H0))\n",
    "    print(\"Альтернативная гипотеза H1: {}\".format(H1))\n",
    "else:\n",
    "    print(\"Принимаем нулевую гипотезу. {}\".format(H0))"
   ]
  },
  {
   "cell_type": "code",
   "execution_count": 341,
   "metadata": {},
   "outputs": [
    {
     "name": "stdout",
     "output_type": "stream",
     "text": [
      "Отвергаем нулевую гипотезу Среднее значение метрики purchase_rate одинаково\n",
      "Альтернативная гипотеза H1: Среднее значение метрики purchase_rate в группе А меньше, чем в группе B\n"
     ]
    }
   ],
   "source": [
    "# Метрика purchase_rate имеет нормальное распределение в обоих сэмплах, поэтому необходимо использовать\n",
    "# Двухвыборочный t-критерий\n",
    "H0 = 'Среднее значение метрики purchase_rate одинаково'\n",
    "H1 = 'Среднее значение метрики purchase_rate в группе А меньше, чем в группе B'\n",
    "\n",
    "alpha = 0.01 \n",
    "\n",
    "result = ttest_ind(\n",
    "    a=df_stats_a['purchase_rate'],\n",
    "    b=df_stats_b['purchase_rate'],\n",
    "    alternative='less'\n",
    ")\n",
    "\n",
    "if result.pvalue<alpha:\n",
    "    print(\"Отвергаем нулевую гипотезу {}\".format(H0))\n",
    "    print(\"Альтернативная гипотеза H1: {}\".format(H1))\n",
    "else:\n",
    "    print(\"Принимаем нулевую гипотезу. {}\".format(H0))"
   ]
  },
  {
   "cell_type": "code",
   "execution_count": 342,
   "metadata": {},
   "outputs": [
    {
     "name": "stdout",
     "output_type": "stream",
     "text": [
      "Отвергаем нулевую гипотезу Среднее значение метрики gvm одинаково\n",
      "Альтернативная гипотеза H1: Среднее значение метрики gvm в группе А меньше, чем в группе B\n"
     ]
    }
   ],
   "source": [
    "# Метрика gvm имеет нормальное распределение в обоих сэмплах, поэтому необходимо использовать\n",
    "# Двухвыборочный t-критерий\n",
    "H0 = 'Среднее значение метрики gvm одинаково'\n",
    "H1 = 'Среднее значение метрики gvm в группе А меньше, чем в группе B'\n",
    "\n",
    "alpha = 0.01 \n",
    "\n",
    "result = ttest_ind(\n",
    "    a=df_stats_a['gvm'],\n",
    "    b=df_stats_b['gvm'],\n",
    "    alternative='less'\n",
    ")\n",
    "\n",
    "if result.pvalue<alpha:\n",
    "    print(\"Отвергаем нулевую гипотезу {}\".format(H0))\n",
    "    print(\"Альтернативная гипотеза H1: {}\".format(H1))\n",
    "else:\n",
    "    print(\"Принимаем нулевую гипотезу. {}\".format(H0))"
   ]
  },
  {
   "cell_type": "markdown",
   "metadata": {},
   "source": [
    "По результатам А/А теста можно сделать вывод, что по метрикам purchase_rate и gvm сплиты разъезжаются."
   ]
  }
 ],
 "metadata": {
  "kernelspec": {
   "display_name": "Python 3",
   "language": "python",
   "name": "python3"
  },
  "language_info": {
   "codemirror_mode": {
    "name": "ipython",
    "version": 3
   },
   "file_extension": ".py",
   "mimetype": "text/x-python",
   "name": "python",
   "nbconvert_exporter": "python",
   "pygments_lexer": "ipython3",
   "version": "3.10.4"
  }
 },
 "nbformat": 4,
 "nbformat_minor": 2
}
