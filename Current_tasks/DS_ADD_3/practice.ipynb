{
 "cells": [
  {
   "cell_type": "code",
   "execution_count": 74,
   "metadata": {},
   "outputs": [],
   "source": [
    "import numpy as np\n",
    "import pandas as pd\n",
    "\n",
    "from sklearn.datasets import make_classification\n",
    "from sklearn.linear_model import LogisticRegression\n",
    "from sklearn.model_selection import GridSearchCV, RandomizedSearchCV\n",
    "from sklearn.pipeline import Pipeline\n",
    "\n",
    "from tpot import TPOTClassifier\n",
    "from deap.gp import Primitive\n",
    "\n",
    "from scipy.stats import loguniform"
   ]
  },
  {
   "cell_type": "code",
   "execution_count": 75,
   "metadata": {},
   "outputs": [],
   "source": [
    "X, y = make_classification(\n",
    "    n_samples=1000,\n",
    "    n_features=10\n",
    ")"
   ]
  },
  {
   "cell_type": "code",
   "execution_count": 76,
   "metadata": {},
   "outputs": [],
   "source": [
    "search_space = {\n",
    "                'lr__penalty' : ['l1', 'l2'],\n",
    "                'lr__C' : loguniform.rvs(10**(-4),10**2, size=100)\n",
    "                }\n",
    "\n",
    "model = Pipeline([('lr', LogisticRegression(random_state=42, \n",
    "                            solver='liblinear'))])"
   ]
  },
  {
   "cell_type": "code",
   "execution_count": 77,
   "metadata": {},
   "outputs": [],
   "source": [
    "grid_clf = GridSearchCV(estimator=model, \n",
    "                        param_grid=search_space,\n",
    "                        n_jobs=-1,\n",
    "                        cv=3,\n",
    "                        scoring='accuracy'\n",
    ")"
   ]
  },
  {
   "cell_type": "code",
   "execution_count": 78,
   "metadata": {},
   "outputs": [
    {
     "name": "stdout",
     "output_type": "stream",
     "text": [
      "0.9339938741136345\n",
      "{'lr__C': 0.5560228164945574, 'lr__penalty': 'l1'}\n"
     ]
    }
   ],
   "source": [
    "model_grid = grid_clf.fit(X,y)\n",
    "print(model_grid.best_score_)\n",
    "print(model_grid.best_params_)"
   ]
  },
  {
   "cell_type": "code",
   "execution_count": 79,
   "metadata": {},
   "outputs": [],
   "source": [
    "rand_clf = RandomizedSearchCV(\n",
    "    estimator=model,\n",
    "    param_distributions=search_space,\n",
    "    n_jobs=-1,\n",
    "    cv=3,\n",
    "    n_iter=70\n",
    ")"
   ]
  },
  {
   "cell_type": "code",
   "execution_count": 80,
   "metadata": {},
   "outputs": [
    {
     "name": "stdout",
     "output_type": "stream",
     "text": [
      "0.9339938741136345\n",
      "{'lr__penalty': 'l1', 'lr__C': 0.5560228164945574}\n"
     ]
    }
   ],
   "source": [
    "rand_model = rand_clf.fit(X,y)\n",
    "print(rand_model.best_score_)\n",
    "print(rand_model.best_params_)"
   ]
  },
  {
   "cell_type": "code",
   "execution_count": 81,
   "metadata": {},
   "outputs": [],
   "source": [
    "search_space = {\n",
    "                'penalty' : ['l1', 'l2'],\n",
    "                'C' : loguniform.rvs(10**(-4),10**2, size=100)\n",
    "                }"
   ]
  },
  {
   "cell_type": "markdown",
   "metadata": {},
   "source": [
    "# Генеративная оптимизация"
   ]
  },
  {
   "cell_type": "code",
   "execution_count": 82,
   "metadata": {},
   "outputs": [],
   "source": [
    "tpot_clf = TPOTClassifier(\n",
    "    generations=5,\n",
    "    population_size=50, # Число особей, сохраняемых в популяции генетического программирования в каждом поколении\n",
    "    offspring_size=25, # Количество потомства, которое нужно произвести в каждом поколении генетического программирования\n",
    "    verbosity=2,\n",
    "    config_dict={'sklearn.linear_model.LogisticRegression': search_space}, # Cловарь с гиперпараметрами для оптимизации для выбранной модели\n",
    "    cv=3,\n",
    "    scoring='accuracy'\n",
    ")"
   ]
  },
  {
   "cell_type": "code",
   "execution_count": 83,
   "metadata": {},
   "outputs": [
    {
     "data": {
      "application/json": {
       "ascii": false,
       "bar_format": null,
       "colour": null,
       "elapsed": 0.08291816711425781,
       "initial": 0,
       "n": 0,
       "ncols": null,
       "nrows": null,
       "postfix": null,
       "prefix": "Optimization Progress",
       "rate": null,
       "total": 175,
       "unit": "pipeline",
       "unit_divisor": 1000,
       "unit_scale": false
      },
      "application/vnd.jupyter.widget-view+json": {
       "model_id": "0cb3054d92f54277a48ba2345d3d91e9",
       "version_major": 2,
       "version_minor": 0
      },
      "text/plain": [
       "Optimization Progress:   0%|          | 0/175 [00:00<?, ?pipeline/s]"
      ]
     },
     "metadata": {},
     "output_type": "display_data"
    },
    {
     "name": "stdout",
     "output_type": "stream",
     "text": [
      "\n",
      "Generation 1 - Current best internal CV score: 0.9409978841116566\n",
      "\n",
      "Generation 2 - Current best internal CV score: 0.9409978841116566\n",
      "\n",
      "Generation 3 - Current best internal CV score: 0.9409978841116566\n",
      "\n",
      "Generation 4 - Current best internal CV score: 0.9409978841116566\n",
      "\n",
      "Generation 5 - Current best internal CV score: 0.9409978841116566\n",
      "\n",
      "Best pipeline: LogisticRegression(LogisticRegression(input_matrix, C=0.00012184303059779487, penalty=l2), C=4.210439287016848, penalty=l2)\n"
     ]
    }
   ],
   "source": [
    "tpot_model = tpot_clf.fit(X,y)\n"
   ]
  },
  {
   "cell_type": "code",
   "execution_count": 84,
   "metadata": {},
   "outputs": [
    {
     "data": {
      "text/plain": [
       "0.941"
      ]
     },
     "execution_count": 84,
     "metadata": {},
     "output_type": "execute_result"
    }
   ],
   "source": [
    "tpot_model.score(X, y)"
   ]
  },
  {
   "cell_type": "code",
   "execution_count": 85,
   "metadata": {},
   "outputs": [
    {
     "name": "stdout",
     "output_type": "stream",
     "text": [
      "{'C': '4.210439287016848', 'penalty': 'l2'}\n"
     ]
    }
   ],
   "source": [
    "args = {}\n",
    "for arg in tpot_model._optimized_pipeline:\n",
    "    if type(arg) != Primitive:\n",
    "        try:\n",
    "            if arg.value.split('__')[1].split('=')[0] in ['C', 'penalty']:\n",
    "                args[arg.value.split('__')[1].split('=')[0]] = (arg.value.split('__')[1].split('=')[1])\n",
    "            else:\n",
    "                args[arg.value.split('__')[1].split('=')[0]] = float(arg.value.split('__')[1].split('=')[1])\n",
    "        except:\n",
    "            pass\n",
    "params = args\n",
    "print(params)"
   ]
  },
  {
   "cell_type": "markdown",
   "metadata": {},
   "source": [
    "# Байесовская оптимизация"
   ]
  },
  {
   "cell_type": "markdown",
   "metadata": {},
   "source": [
    "Библиотек Hyperopt для подбора гиперпарметров. В ней реализовано три алгоритма оптимизации: \n",
    "\n",
    "- классический Random Search;\n",
    "- метод байесовской оптимизации Tree of Parzen Estimators (TPE);\n",
    "- Simulated Annealing, метод имитации отжига. "
   ]
  },
  {
   "cell_type": "code",
   "execution_count": 86,
   "metadata": {},
   "outputs": [],
   "source": [
    "from functools import partial\n",
    "from sklearn.model_selection import StratifiedKFold, cross_val_score\n",
    "from hyperopt import hp, fmin, tpe, Trials, STATUS_OK"
   ]
  },
  {
   "cell_type": "code",
   "execution_count": 87,
   "metadata": {},
   "outputs": [],
   "source": [
    "search_space = {\n",
    "                'lr__penalty' : hp.choice(label='penalty', \n",
    "                          options=['l1', 'l2']),\n",
    "                'lr__C' : hp.loguniform(label='C', \n",
    "                        low=-4*np.log(10), \n",
    "                        high=2*np.log(10))\n",
    "}"
   ]
  },
  {
   "cell_type": "code",
   "execution_count": 88,
   "metadata": {},
   "outputs": [],
   "source": [
    "# Нам понадобится воспользоваться вспомогательной функцией, которую мы будем оптимизировать\n",
    "def objective(params, model,  X_train, y_train):\n",
    "    \"\"\"\n",
    "    Кросс-валидация с текущими гиперпараметрами\n",
    "\n",
    "    :params: гиперпараметры\n",
    "    :pipeline: модель\n",
    "    :X_train: матрица признаков\n",
    "    :y_train: вектор меток объектов\n",
    "    :return: средняя точность на кросс-валидации\n",
    "    \"\"\" \n",
    "\n",
    "    # задаём модели требуемые параметры    \n",
    "    model.set_params(**params)\n",
    "    \n",
    "    # задаём параметры кросс-валидации (стратифицированная 4-фолдовая с перемешиванием)\n",
    "    skf = StratifiedKFold(n_splits=2, shuffle=True, random_state=1)\n",
    "\n",
    "    # проводим кросс-валидацию  \n",
    "    score = cross_val_score(estimator=model, X=X_train, y=y_train, \n",
    "                            scoring='accuracy', cv=skf, n_jobs=-1)\n",
    "\n",
    "    # возвращаем результаты, которые записываются в Trials()\n",
    "    return   {'loss': -score.mean(), 'params': params, 'status': STATUS_OK}"
   ]
  },
  {
   "cell_type": "code",
   "execution_count": 91,
   "metadata": {},
   "outputs": [
    {
     "name": "stdout",
     "output_type": "stream",
     "text": [
      "  0%|          | 0/40 [00:00<?, ?trial/s, best loss=?]"
     ]
    },
    {
     "name": "stdout",
     "output_type": "stream",
     "text": [
      "100%|██████████| 40/40 [00:00<00:00, 40.54trial/s, best loss: -0.9390000000000001]\n"
     ]
    }
   ],
   "source": [
    "# Запуск hyperopt\n",
    "trials = Trials()\n",
    "best = fmin( \n",
    "          # функция для оптимизации  \n",
    "            fn=partial(objective, model=model, X_train=X, y_train=y),\n",
    "          # пространство поиска гиперпараметров  \n",
    "            space=search_space,\n",
    "          # алгоритм поиска\n",
    "            algo=tpe.suggest,\n",
    "          # число итераций (можно ещё указать  время поиска) \n",
    "            max_evals=40,\n",
    "          # куда сохранять историю поиска\n",
    "            trials=trials,\n",
    "          # random state\n",
    "          #  rstate=np.random.RandomState(1),\n",
    "          # progressbar\n",
    "            show_progressbar=True\n",
    "        )"
   ]
  },
  {
   "cell_type": "code",
   "execution_count": 92,
   "metadata": {},
   "outputs": [
    {
     "name": "stdout",
     "output_type": "stream",
     "text": [
      "{'C': 0.6302743488482728, 'penalty': 0}\n"
     ]
    }
   ],
   "source": [
    "print(best)"
   ]
  },
  {
   "cell_type": "code",
   "execution_count": null,
   "metadata": {},
   "outputs": [],
   "source": []
  }
 ],
 "metadata": {
  "kernelspec": {
   "display_name": "Python 3",
   "language": "python",
   "name": "python3"
  },
  "language_info": {
   "codemirror_mode": {
    "name": "ipython",
    "version": 3
   },
   "file_extension": ".py",
   "mimetype": "text/x-python",
   "name": "python",
   "nbconvert_exporter": "python",
   "pygments_lexer": "ipython3",
   "version": "3.10.4"
  },
  "orig_nbformat": 4
 },
 "nbformat": 4,
 "nbformat_minor": 2
}
