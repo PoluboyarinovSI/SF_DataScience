{
 "cells": [
  {
   "cell_type": "code",
   "execution_count": 12,
   "metadata": {},
   "outputs": [
    {
     "name": "stderr",
     "output_type": "stream",
     "text": [
      "INFO:numexpr.utils:NumExpr defaulting to 8 threads.\n"
     ]
    }
   ],
   "source": [
    "import logging\n",
    "import os\n",
    "import pandas as pd"
   ]
  },
  {
   "cell_type": "code",
   "execution_count": 13,
   "metadata": {},
   "outputs": [],
   "source": [
    "df = pd.read_csv('data/KaggleV2-May-2016.csv')"
   ]
  },
  {
   "cell_type": "code",
   "execution_count": 5,
   "metadata": {},
   "outputs": [
    {
     "name": "stderr",
     "output_type": "stream",
     "text": [
      "DEBUG:root:Сообщение будет залогировано!\n"
     ]
    }
   ],
   "source": [
    "# Установка уровня логирвания\n",
    "logging.basicConfig(level=logging.DEBUG)\n",
    "logging.debug('Сообщение будет залогировано!')"
   ]
  },
  {
   "cell_type": "code",
   "execution_count": null,
   "metadata": {},
   "outputs": [],
   "source": [
    "# Установка обработчика логирования\n",
    "logging.FileHandler('data/log_file.log')"
   ]
  },
  {
   "cell_type": "code",
   "execution_count": 6,
   "metadata": {},
   "outputs": [
    {
     "name": "stderr",
     "output_type": "stream",
     "text": [
      "INFO:root:Проверка\n"
     ]
    }
   ],
   "source": [
    "# Установка формата логирования\n",
    "logging.basicConfig(format=\"%(levelname)s: %(asctime)s: %(message)s\", level=logging.DEBUG)\n",
    "logging.info('Проверка')"
   ]
  },
  {
   "cell_type": "code",
   "execution_count": 9,
   "metadata": {},
   "outputs": [],
   "source": [
    "# Функция для создания лог-файла и записи в него информации\n",
    "def get_logger(path, file):\n",
    "  \"\"\"[Создает лог-файл для логирования в него]\n",
    "  Аргументы:\n",
    "      path {string} -- путь к директории\n",
    "      file {string} -- имя файла\n",
    "   Возвращает:\n",
    "      [obj] -- [логер]\n",
    "  \"\"\"\n",
    "  # проверяем, существует ли файл\n",
    "  log_file = os.path.join(path, file)\n",
    " \n",
    "  #если  файла нет, создаем его\n",
    "  if not os.path.isfile(log_file):\n",
    "      open(log_file, \"w+\").close()\n",
    "  \n",
    "  # поменяем формат логирования\n",
    "  file_logging_format = \"%(levelname)s: %(asctime)s: %(message)s\"\n",
    "  \n",
    "  # конфигурируем лог-файл\n",
    "  logging.basicConfig(level=logging.INFO, \n",
    "  format = file_logging_format)\n",
    "  logger = logging.getLogger()\n",
    "  \n",
    "  # создадим хэнлдер для записи лога в файл\n",
    "  handler = logging.FileHandler(log_file)\n",
    "  \n",
    "  # установим уровень логирования\n",
    "  handler.setLevel(logging.INFO)\n",
    "  \n",
    "  # создадим формат логирования, используя file_logging_format\n",
    "  formatter = logging.Formatter(file_logging_format)\n",
    "  handler.setFormatter(formatter)\n",
    "  \n",
    "  # добавим хэндлер лог-файлу\n",
    "  logger.addHandler(handler)\n",
    "  return logger"
   ]
  },
  {
   "cell_type": "code",
   "execution_count": 14,
   "metadata": {},
   "outputs": [
    {
     "name": "stderr",
     "output_type": "stream",
     "text": [
      "INFO:root:Data\n",
      "INFO:root:Data shape (110527, 14)\n",
      "INFO:root:Percentage of women: 0.653882342398853\n",
      "INFO:root:Percentage of men: 0.346117657601147\n"
     ]
    }
   ],
   "source": [
    "# создаем лог-файл\n",
    "logger = get_logger(path=\"data/\", file=\"data.logs\")\n",
    "\n",
    "logger.info(\"Data\")\n",
    "\n",
    "logger.info(\"Data shape {}\".format(df.shape))\n",
    "\n",
    "logger.info(\"Percentage of women: {}\".format(df[df['No-show']=='Yes']['Gender'].value_counts(True)[0]))\n",
    "\n",
    "logger.info(\"Percentage of men: {}\".format(df[df['No-show']=='Yes']['Gender'].value_counts(True)[1]))"
   ]
  }
 ],
 "metadata": {
  "interpreter": {
   "hash": "f0e688277246287574b3f24dc37a77c9275b620077dd66cfe70f7ed78f1a5fc1"
  },
  "kernelspec": {
   "display_name": "Python 3.9.7 ('base')",
   "language": "python",
   "name": "python3"
  },
  "language_info": {
   "codemirror_mode": {
    "name": "ipython",
    "version": 3
   },
   "file_extension": ".py",
   "mimetype": "text/x-python",
   "name": "python",
   "nbconvert_exporter": "python",
   "pygments_lexer": "ipython3",
   "version": "3.9.7"
  },
  "orig_nbformat": 4
 },
 "nbformat": 4,
 "nbformat_minor": 2
}
