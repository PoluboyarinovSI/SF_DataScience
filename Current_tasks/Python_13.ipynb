{
 "cells": [
  {
   "cell_type": "markdown",
   "metadata": {},
   "source": [
    "Python-13. Визуализация данных\n",
    "Анализ данных об оттоке клиентов некоторого банка"
   ]
  },
  {
   "cell_type": "code",
   "execution_count": 1,
   "metadata": {},
   "outputs": [],
   "source": [
    "import pandas as pd\n",
    "import matplotlib.pyplot as plt\n",
    "import seaborn as sns\n",
    "import plotly\n",
    "import plotly.express as px\n",
    "import plotly.graph_objects as go\n",
    "from plotly.subplots import make_subplots\n",
    "%matplotlib inline"
   ]
  },
  {
   "cell_type": "code",
   "execution_count": 2,
   "metadata": {},
   "outputs": [
    {
     "data": {
      "text/html": [
       "<div>\n",
       "<style scoped>\n",
       "    .dataframe tbody tr th:only-of-type {\n",
       "        vertical-align: middle;\n",
       "    }\n",
       "\n",
       "    .dataframe tbody tr th {\n",
       "        vertical-align: top;\n",
       "    }\n",
       "\n",
       "    .dataframe thead th {\n",
       "        text-align: right;\n",
       "    }\n",
       "</style>\n",
       "<table border=\"1\" class=\"dataframe\">\n",
       "  <thead>\n",
       "    <tr style=\"text-align: right;\">\n",
       "      <th></th>\n",
       "      <th>RowNumber</th>\n",
       "      <th>CustomerId</th>\n",
       "      <th>Surname</th>\n",
       "      <th>CreditScore</th>\n",
       "      <th>Geography</th>\n",
       "      <th>Gender</th>\n",
       "      <th>Age</th>\n",
       "      <th>Tenure</th>\n",
       "      <th>Balance</th>\n",
       "      <th>NumOfProducts</th>\n",
       "      <th>HasCrCard</th>\n",
       "      <th>IsActiveMember</th>\n",
       "      <th>EstimatedSalary</th>\n",
       "      <th>Exited</th>\n",
       "    </tr>\n",
       "  </thead>\n",
       "  <tbody>\n",
       "    <tr>\n",
       "      <th>0</th>\n",
       "      <td>1</td>\n",
       "      <td>15634602</td>\n",
       "      <td>Hargrave</td>\n",
       "      <td>619</td>\n",
       "      <td>France</td>\n",
       "      <td>Female</td>\n",
       "      <td>42</td>\n",
       "      <td>2</td>\n",
       "      <td>0.00</td>\n",
       "      <td>1</td>\n",
       "      <td>1</td>\n",
       "      <td>1</td>\n",
       "      <td>101348.88</td>\n",
       "      <td>1</td>\n",
       "    </tr>\n",
       "    <tr>\n",
       "      <th>1</th>\n",
       "      <td>2</td>\n",
       "      <td>15647311</td>\n",
       "      <td>Hill</td>\n",
       "      <td>608</td>\n",
       "      <td>Spain</td>\n",
       "      <td>Female</td>\n",
       "      <td>41</td>\n",
       "      <td>1</td>\n",
       "      <td>83807.86</td>\n",
       "      <td>1</td>\n",
       "      <td>0</td>\n",
       "      <td>1</td>\n",
       "      <td>112542.58</td>\n",
       "      <td>0</td>\n",
       "    </tr>\n",
       "    <tr>\n",
       "      <th>2</th>\n",
       "      <td>3</td>\n",
       "      <td>15619304</td>\n",
       "      <td>Onio</td>\n",
       "      <td>502</td>\n",
       "      <td>France</td>\n",
       "      <td>Female</td>\n",
       "      <td>42</td>\n",
       "      <td>8</td>\n",
       "      <td>159660.80</td>\n",
       "      <td>3</td>\n",
       "      <td>1</td>\n",
       "      <td>0</td>\n",
       "      <td>113931.57</td>\n",
       "      <td>1</td>\n",
       "    </tr>\n",
       "    <tr>\n",
       "      <th>3</th>\n",
       "      <td>4</td>\n",
       "      <td>15701354</td>\n",
       "      <td>Boni</td>\n",
       "      <td>699</td>\n",
       "      <td>France</td>\n",
       "      <td>Female</td>\n",
       "      <td>39</td>\n",
       "      <td>1</td>\n",
       "      <td>0.00</td>\n",
       "      <td>2</td>\n",
       "      <td>0</td>\n",
       "      <td>0</td>\n",
       "      <td>93826.63</td>\n",
       "      <td>0</td>\n",
       "    </tr>\n",
       "    <tr>\n",
       "      <th>4</th>\n",
       "      <td>5</td>\n",
       "      <td>15737888</td>\n",
       "      <td>Mitchell</td>\n",
       "      <td>850</td>\n",
       "      <td>Spain</td>\n",
       "      <td>Female</td>\n",
       "      <td>43</td>\n",
       "      <td>2</td>\n",
       "      <td>125510.82</td>\n",
       "      <td>1</td>\n",
       "      <td>1</td>\n",
       "      <td>1</td>\n",
       "      <td>79084.10</td>\n",
       "      <td>0</td>\n",
       "    </tr>\n",
       "  </tbody>\n",
       "</table>\n",
       "</div>"
      ],
      "text/plain": [
       "   RowNumber  CustomerId   Surname  CreditScore Geography  Gender  Age  \\\n",
       "0          1    15634602  Hargrave          619    France  Female   42   \n",
       "1          2    15647311      Hill          608     Spain  Female   41   \n",
       "2          3    15619304      Onio          502    France  Female   42   \n",
       "3          4    15701354      Boni          699    France  Female   39   \n",
       "4          5    15737888  Mitchell          850     Spain  Female   43   \n",
       "\n",
       "   Tenure    Balance  NumOfProducts  HasCrCard  IsActiveMember  \\\n",
       "0       2       0.00              1          1               1   \n",
       "1       1   83807.86              1          0               1   \n",
       "2       8  159660.80              3          1               0   \n",
       "3       1       0.00              2          0               0   \n",
       "4       2  125510.82              1          1               1   \n",
       "\n",
       "   EstimatedSalary  Exited  \n",
       "0        101348.88       1  \n",
       "1        112542.58       0  \n",
       "2        113931.57       1  \n",
       "3         93826.63       0  \n",
       "4         79084.10       0  "
      ]
     },
     "execution_count": 2,
     "metadata": {},
     "output_type": "execute_result"
    }
   ],
   "source": [
    "# Reading raw data\n",
    "churn_data = pd.read_csv('data/churn.csv')\n",
    "churn_data.head()"
   ]
  },
  {
   "cell_type": "code",
   "execution_count": 3,
   "metadata": {},
   "outputs": [
    {
     "data": {
      "text/plain": [
       "Text(0.5, 1.0, 'Ratio of exited and loyal customers')"
      ]
     },
     "execution_count": 3,
     "metadata": {},
     "output_type": "execute_result"
    },
    {
     "data": {
      "image/png": "[encoded data removed]",
      "text/plain": [
       "<Figure size 360x360 with 1 Axes>"
      ]
     },
     "metadata": {},
     "output_type": "display_data"
    }
   ],
   "source": [
    "# 9.1 Каково соотношение ушедших и лояльных клиентов?\n",
    "exited_info = churn_data['Exited'].value_counts()\n",
    "\n",
    "labels_list = ['Loyal', 'Exited']\n",
    "\n",
    "fig_9_1 = plt.figure(figsize=(5,5), facecolor='white')\n",
    "axes_9_1 = fig_9_1.add_axes([0,0,1,1])\n",
    "axes_9_1.pie(\n",
    "    exited_info,\n",
    "    explode=[0.1, 0],\n",
    "    labels=labels_list,\n",
    "    autopct='%.0f%%',\n",
    ");\n",
    "\n",
    "axes_9_1.set_title('Ratio of exited and loyal customers')"
   ]
  },
  {
   "cell_type": "markdown",
   "metadata": {},
   "source": [
    "Ответ 9.1: По результатам анализа соотношения числа ушедших и лояльных клиентов, можно сделать вывод, что каждый пятый клиент отказался от услуг банка."
   ]
  },
  {
   "cell_type": "code",
   "execution_count": 4,
   "metadata": {},
   "outputs": [
    {
     "data": {
      "image/png": "[encoded data removed]",
      "text/plain": [
       "<Figure size 360x360 with 1 Axes>"
      ]
     },
     "metadata": {},
     "output_type": "display_data"
    }
   ],
   "source": [
    "# 9.2 Постройте график, показывающий распределение баланса пользователей,\n",
    "# у которых на счету больше 2 500 долларов.\n",
    "\n",
    "balance_mask = churn_data['Balance'] > 2500\n",
    "balance_filtered = churn_data[balance_mask]\n",
    "\n",
    "fig_9_2 = plt.figure(figsize=(5,5), facecolor='white')\n",
    "axes_9_2 = fig_9_2.add_axes([0,0,1,1])\n",
    "axes_9_2.hist(\n",
    "    x=balance_filtered['Balance'],\n",
    "    label='Balance',\n",
    "    bins=20\n",
    ");\n",
    "\n",
    "axes_9_2.set_title('Histogram of user balance distribution')\n",
    "axes_9_2.grid()\n",
    "axes_9_2.set_xlabel('Customer Balance')\n",
    "axes_9_2.set_ylabel('Frequency');"
   ]
  },
  {
   "cell_type": "markdown",
   "metadata": {},
   "source": [
    "Ответ 9.2: Баланс на счетах клиентов (у которых баланс составляет более 2500 $) имеет вид нормального распределения. Медианное значение баланса составляет порядка 120 тыс. долларов."
   ]
  },
  {
   "cell_type": "code",
   "execution_count": 5,
   "metadata": {},
   "outputs": [
    {
     "data": {
      "image/png": "[encoded data removed]",
      "text/plain": [
       "<Figure size 360x360 with 1 Axes>"
      ]
     },
     "metadata": {},
     "output_type": "display_data"
    }
   ],
   "source": [
    "# 9.3 Посмотрите на распределение баланса клиента в разрезе признака оттока.\n",
    "\n",
    "churn_data['Outflow'] = churn_data['Exited'].apply(\n",
    "    lambda x: 'Loyal' if x == 0 else 'Exited'\n",
    ")\n",
    "\n",
    "fig_9_3 = plt.figure(figsize=(5,5), facecolor='white')\n",
    "\n",
    "boxplot = sns.boxplot(\n",
    "    data=churn_data,\n",
    "    y='Outflow',\n",
    "    x='Balance',\n",
    "    orient='h',\n",
    "    width=0.9\n",
    ")\n",
    "\n",
    "boxplot.set_title('Distribution customer balance in the context of the outflow sign')\n",
    "boxplot.set_ylabel('Outflow sign')\n",
    "boxplot.set_xlabel('Customer balance')\n",
    "boxplot.grid();"
   ]
  },
  {
   "cell_type": "markdown",
   "metadata": {},
   "source": [
    "Ответ 9.3: Суммы на накопительном счете ушедших клиентов имеют меньшее значения разброса. Медианное значение сумм на накопительном счете ушедших из банка клиентов превышают медианное значение сумм на накопительном счете лояльных клиентов. Более высокое медианное значение сумм на счетах ушедших клиентов , может говорить о том, что причиной их ухода могли послужить не выгодные условия хранения на накопительном счете крупнных сумм денег."
   ]
  },
  {
   "cell_type": "code",
   "execution_count": 6,
   "metadata": {},
   "outputs": [
    {
     "data": {
      "image/png": "[encoded data removed]",
      "text/plain": [
       "<Figure size 360x360 with 1 Axes>"
      ]
     },
     "metadata": {},
     "output_type": "display_data"
    }
   ],
   "source": [
    "# 9.4 Посмотрите на распределение возраста в разрезе признака оттока\n",
    "\n",
    "fig_9_4 = plt.figure(figsize=(5,5), facecolor='white')\n",
    "\n",
    "boxplot = sns.boxplot(\n",
    "    data=churn_data,\n",
    "    y='Outflow',\n",
    "    x='Age',\n",
    "    orient='h',\n",
    "    width=0.9\n",
    ")\n",
    "\n",
    "boxplot.set_title('Distribution customer balance in the context of the outflow sign')\n",
    "boxplot.set_ylabel('Outflow sign')\n",
    "boxplot.set_xlabel('Customer balance')\n",
    "boxplot.grid();"
   ]
  },
  {
   "cell_type": "markdown",
   "metadata": {},
   "source": [
    "Ответ 9.4: По результатам анализа графика следует вывод о том, что среди лояльных клиентов выбросов значений возраста больше. Основная масса лояльных клиентов сконцентрирована в диапазоне от 30 до 40 лет. Основная масса ушедших клиентов входит в возврастную группу от 40 до 50 лет, банку необходимо сконцентироваться на данной возврастной группе, чтобы снизик отток клиентов."
   ]
  },
  {
   "cell_type": "code",
   "execution_count": 7,
   "metadata": {},
   "outputs": [],
   "source": [
    "# 9.5 Постройте график, который показывает взаимосвязь кредитного рейтинга клиента\n",
    "# и его предполагаемой зарплаты.\n",
    "\n",
    "fig_9_5 = px.scatter(\n",
    "    data_frame=churn_data,\n",
    "    x=churn_data['CreditScore'],\n",
    "    y=churn_data['EstimatedSalary'],\n",
    "    color=churn_data['Exited'],\n",
    "    width=700,\n",
    "    height=500,\n",
    "    range_y=[0,200000],\n",
    "    title=\"The relationship between the client's credit rating and his expected salary\"\n",
    ")\n",
    "\n",
    "fig_9_5.write_image('data/img9_5.png')"
   ]
  },
  {
   "cell_type": "markdown",
   "metadata": {},
   "source": [
    "![title](data/img9_5.png)"
   ]
  },
  {
   "cell_type": "markdown",
   "metadata": {},
   "source": [
    "Ответ 9.5: По результатам анализа диаграммы рассеяния можно сделать вывод, что зависимость предполагаемого уровня заработной платы от кредитного рейтинга отсутствует."
   ]
  },
  {
   "cell_type": "code",
   "execution_count": 8,
   "metadata": {},
   "outputs": [
    {
     "data": {
      "image/png": "[encoded data removed]",
      "text/plain": [
       "<Figure size 360x360 with 1 Axes>"
      ]
     },
     "metadata": {},
     "output_type": "display_data"
    }
   ],
   "source": [
    "# 9.6 Кто чаще уходит, мужчины или женщины?\n",
    "gender_filtred = churn_data.groupby(['Gender'])['Exited'].mean()*100\n",
    "\n",
    "fig_9_6 = plt.figure(figsize=(5,5), facecolor='white')\n",
    "axes_9_6 = fig_9_6.add_axes([0,0,1,1])\n",
    "\n",
    "axes_9_6.bar(\n",
    "    x=gender_filtred.index,\n",
    "    height=gender_filtred.values,\n",
    "    color=['blue', 'green']\n",
    ");\n",
    "\n",
    "axes_9_6.set_ylabel('Percent')\n",
    "axes_9_6.set_title('Exited percentage by gender');"
   ]
  },
  {
   "cell_type": "markdown",
   "metadata": {},
   "source": [
    "Ответ 9.6: По результатам анализа графика следует вывод о том, что женщины чаще отказываются от услуг банка чем мужчины. Среди девушек процент ушедших клиентов составляе порядка 25%, у мужчин данный показатель меньше и равен порядка 16,5%."
   ]
  },
  {
   "cell_type": "code",
   "execution_count": 9,
   "metadata": {},
   "outputs": [],
   "source": [
    "# 9.7 Как отток клиентов зависит от числа приобретённых у банка услуг?\n",
    "\n",
    "outflow_grouped = churn_data.groupby(by=['NumOfProducts', 'Exited'], as_index=False)['CustomerId'].count()\n",
    "\n",
    "fig_9_7 = px.bar(\n",
    "    data_frame=outflow_grouped,\n",
    "    x='NumOfProducts',\n",
    "    y='CustomerId',\n",
    "    color='Exited',\n",
    "    height=500,\n",
    "    width=700,\n",
    "    title='Customers outflow in context of NumOfProducts'\n",
    ")\n",
    "\n",
    "fig_9_7.write_image('data/img9_7.png')"
   ]
  },
  {
   "cell_type": "markdown",
   "metadata": {},
   "source": [
    "![title](data/img9_7.png)"
   ]
  },
  {
   "cell_type": "markdown",
   "metadata": {},
   "source": [
    "Ответ 9.7: Отток в группе клиентов, которые приобрели от 3 до 4 продуктов банка, имеет больший процент от общего числа по группе чем отток клиентов, которые приобрели от 1 до 2 продуктов банка."
   ]
  },
  {
   "cell_type": "code",
   "execution_count": 10,
   "metadata": {},
   "outputs": [],
   "source": [
    "# 9.8 Как влияет наличие статуса активного клиента на отток клиентов?\n",
    "\n",
    "active_grouped = churn_data.groupby(by=['IsActiveMember', 'Outflow'], as_index=False)['RowNumber'].count()\n",
    "\n",
    "labels_list = ['Exited', 'Loyal']\n",
    "\n",
    "fig_9_8 = make_subplots(rows=1, cols=2, specs=[[{'type':'domain'}, {'type':'domain'}]])\n",
    "fig_9_8.add_trace(go.Pie(\n",
    "    labels=active_grouped[active_grouped['IsActiveMember']==0]['Outflow'],\n",
    "    values=active_grouped[active_grouped['IsActiveMember']==0]['RowNumber'],\n",
    "    name='Not active member'\n",
    "), 1, 1)\n",
    "fig_9_8.add_trace(go.Pie(\n",
    "    labels=active_grouped[active_grouped['IsActiveMember']==1]['Outflow'],\n",
    "    values=active_grouped[active_grouped['IsActiveMember']==1]['RowNumber'],\n",
    "    name='Active member'\n",
    "), 1, 2)\n",
    "\n",
    "fig_9_8.update_traces(hole=.5, hoverinfo='label+percent+name')\n",
    "\n",
    "fig_9_8.update_layout(\n",
    "    title_text='Impact of active status to outflow',\n",
    "    annotations=[dict(text='Not active member', x=0.13, y=0.5, font_size=10, showarrow=False),\n",
    "                 dict(text='Active member', x=0.83, y=0.5, font_size=10, showarrow=False)]\n",
    ")\n",
    "\n",
    "fig_9_8.write_image('data/img9_8.png')"
   ]
  },
  {
   "cell_type": "markdown",
   "metadata": {},
   "source": [
    "![title](data/img9_8.png)"
   ]
  },
  {
   "cell_type": "markdown",
   "metadata": {},
   "source": [
    "Ответ 9.8: Отток клиентов среди не активных клиентов составляет больший процент (26,9% против 14,3% среди активных клиентов). Банку можно предложить сконцентрировать внимание на не активных клиентах, например организовать процесс формирования предложений, направленных на приобритение различного рода продуктов банка."
   ]
  },
  {
   "cell_type": "code",
   "execution_count": 11,
   "metadata": {},
   "outputs": [],
   "source": [
    "# 9.9 В какой стране доля ушедших клиентов больше\n",
    "\n",
    "country_grouped = churn_data.groupby(by=['Geography'], as_index=False)['Exited'].mean()\n",
    "country_grouped_2 = churn_data.groupby(by=['Geography'])['IsActiveMember'].sum()\n",
    "\n",
    "fig_9_9 = px.choropleth(\n",
    "    data_frame=country_grouped,\n",
    "    locations='Geography',\n",
    "    locationmode='country names',\n",
    "    color='Exited',\n",
    "    title='The share of exited customers',\n",
    "    width=800,\n",
    "    height=500,\n",
    ")\n",
    "\n",
    "fig_9_9.write_image('data/img9_9.png')"
   ]
  },
  {
   "cell_type": "markdown",
   "metadata": {},
   "source": [
    "![title](data/img9_9.png)"
   ]
  },
  {
   "cell_type": "markdown",
   "metadata": {},
   "source": [
    "Ответ 9.9: По результатам анализа тепловой карты следует вывод о том, что наиболее высокий процент ушедших клиентов находится в Германии. Данный факт, вероятно, может быть обусловлен высокой конкуренцией в стране, и менее выгодными по сравнению с другими банками условия."
   ]
  },
  {
   "cell_type": "code",
   "execution_count": 12,
   "metadata": {},
   "outputs": [
    {
     "data": {
      "text/plain": [
       "Text(0.5, 1.0, 'Heat of CreditScoreCat/Tenure')"
      ]
     },
     "execution_count": 12,
     "metadata": {},
     "output_type": "execute_result"
    },
    {
     "data": {
      "image/png": "[encoded data removed]",
      "text/plain": [
       "<Figure size 720x504 with 2 Axes>"
      ]
     },
     "metadata": {},
     "output_type": "display_data"
    }
   ],
   "source": [
    "# 9.10 Постройте тепловую карту с аннотацией.\n",
    "\n",
    "def get_credit_score_cat(credit_score):\n",
    "    if credit_score >= 300 and credit_score < 500:\n",
    "        return \"Very_Poor\"\n",
    "    elif credit_score >= 500 and credit_score < 601:\n",
    "        return \"Poor\"\n",
    "    elif credit_score >= 601 and credit_score < 661:\n",
    "        return \"Fair\"\n",
    "    elif credit_score >= 661 and credit_score < 781:\n",
    "        return \"Good\"\n",
    "    elif credit_score >= 781 and credit_score < 851:\n",
    "        return \"Excellent\"\n",
    "    elif credit_score >= 851:\n",
    "        return \"Top\"\n",
    "    elif credit_score < 300:\n",
    "        return \"Deep\"\n",
    "    \n",
    "churn_data['CreditScoreCat'] = churn_data['CreditScore'].apply(get_credit_score_cat)\n",
    "\n",
    "fig_9_10 = plt.figure(figsize=(10,7), facecolor='white')\n",
    "score_table = pd.pivot_table(\n",
    "    churn_data,\n",
    "    index='CreditScoreCat',\n",
    "    columns='Tenure',\n",
    "    values='Exited',\n",
    "    aggfunc='mean',\n",
    ");\n",
    "\n",
    "heatmap = sns.heatmap(data=score_table, cmap='YlGnBu')\n",
    "heatmap.set_title('Heat of CreditScoreCat/Tenure')"
   ]
  },
  {
   "cell_type": "markdown",
   "metadata": {},
   "source": [
    "Ответ 9.10: По результатам анализа тепловой карты можно сделать вывод, что наиболее часто уходят клиенты из группы кредитного рейтинга \"Very Poor\" и сроком пользования услугами банка менее года."
   ]
  }
 ],
 "metadata": {
  "interpreter": {
   "hash": "ed0d0c232d8cfb85f8b9627b989aa227e3f10509477ed496070cceb81a64ee7d"
  },
  "kernelspec": {
   "display_name": "Python 3.8.12 64-bit ('sf': conda)",
   "language": "python",
   "name": "python3"
  },
  "language_info": {
   "codemirror_mode": {
    "name": "ipython",
    "version": 3
   },
   "file_extension": ".py",
   "mimetype": "text/x-python",
   "name": "python",
   "nbconvert_exporter": "python",
   "pygments_lexer": "ipython3",
   "version": "3.8.12"
  },
  "orig_nbformat": 4
 },
 "nbformat": 4,
 "nbformat_minor": 2
}
