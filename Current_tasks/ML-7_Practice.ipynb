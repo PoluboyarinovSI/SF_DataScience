{
 "cells": [
  {
   "cell_type": "code",
   "execution_count": 56,
   "metadata": {},
   "outputs": [],
   "source": [
    "#импорт библиотек\n",
    "import numpy as np #для матричных вычислений\n",
    "import pandas as pd #для анализа и предобработки данных\n",
    "import matplotlib.pyplot as plt #для визуализации\n",
    "import seaborn as sns #для визуализации\n",
    "\n",
    "from sklearn import linear_model #линейные моделиё\n",
    "from sklearn import tree #деревья решений\n",
    "from sklearn import ensemble #ансамбли\n",
    "from sklearn import metrics #метрики\n",
    "from sklearn import preprocessing #предобработка\n",
    "from sklearn.model_selection import train_test_split #сплитование выборки\n",
    "\n",
    "from sklearn.model_selection import GridSearchCV #подбор гиперпараметров по сетке\n",
    "from sklearn.model_selection import RandomizedSearchCV #рандомизированный подбор гиперпараметров\n",
    "\n",
    "#Импорт библиотек для подбора гиперпараметров с помощью Hyperopt\n",
    "from sklearn.model_selection import cross_val_score\n",
    "import hyperopt\n",
    "from hyperopt import hp, fmin, tpe, Trials\n",
    "\n",
    "import optuna #подбор гиперпараметров по Оптуна\n",
    "\n",
    "%matplotlib inline\n",
    "plt.style.use('seaborn')"
   ]
  },
  {
   "cell_type": "code",
   "execution_count": 57,
   "metadata": {},
   "outputs": [
    {
     "data": {
      "text/html": [
       "<div>\n",
       "<style scoped>\n",
       "    .dataframe tbody tr th:only-of-type {\n",
       "        vertical-align: middle;\n",
       "    }\n",
       "\n",
       "    .dataframe tbody tr th {\n",
       "        vertical-align: top;\n",
       "    }\n",
       "\n",
       "    .dataframe thead th {\n",
       "        text-align: right;\n",
       "    }\n",
       "</style>\n",
       "<table border=\"1\" class=\"dataframe\">\n",
       "  <thead>\n",
       "    <tr style=\"text-align: right;\">\n",
       "      <th></th>\n",
       "      <th>Activity</th>\n",
       "      <th>D1</th>\n",
       "      <th>D2</th>\n",
       "      <th>D3</th>\n",
       "      <th>D4</th>\n",
       "      <th>D5</th>\n",
       "      <th>D6</th>\n",
       "      <th>D7</th>\n",
       "      <th>D8</th>\n",
       "      <th>D9</th>\n",
       "      <th>...</th>\n",
       "      <th>D1767</th>\n",
       "      <th>D1768</th>\n",
       "      <th>D1769</th>\n",
       "      <th>D1770</th>\n",
       "      <th>D1771</th>\n",
       "      <th>D1772</th>\n",
       "      <th>D1773</th>\n",
       "      <th>D1774</th>\n",
       "      <th>D1775</th>\n",
       "      <th>D1776</th>\n",
       "    </tr>\n",
       "  </thead>\n",
       "  <tbody>\n",
       "    <tr>\n",
       "      <th>0</th>\n",
       "      <td>1</td>\n",
       "      <td>0.000000</td>\n",
       "      <td>0.497009</td>\n",
       "      <td>0.10</td>\n",
       "      <td>0.0</td>\n",
       "      <td>0.132956</td>\n",
       "      <td>0.678031</td>\n",
       "      <td>0.273166</td>\n",
       "      <td>0.585445</td>\n",
       "      <td>0.743663</td>\n",
       "      <td>...</td>\n",
       "      <td>0</td>\n",
       "      <td>0</td>\n",
       "      <td>0</td>\n",
       "      <td>0</td>\n",
       "      <td>0</td>\n",
       "      <td>0</td>\n",
       "      <td>0</td>\n",
       "      <td>0</td>\n",
       "      <td>0</td>\n",
       "      <td>0</td>\n",
       "    </tr>\n",
       "    <tr>\n",
       "      <th>1</th>\n",
       "      <td>1</td>\n",
       "      <td>0.366667</td>\n",
       "      <td>0.606291</td>\n",
       "      <td>0.05</td>\n",
       "      <td>0.0</td>\n",
       "      <td>0.111209</td>\n",
       "      <td>0.803455</td>\n",
       "      <td>0.106105</td>\n",
       "      <td>0.411754</td>\n",
       "      <td>0.836582</td>\n",
       "      <td>...</td>\n",
       "      <td>1</td>\n",
       "      <td>1</td>\n",
       "      <td>1</td>\n",
       "      <td>1</td>\n",
       "      <td>0</td>\n",
       "      <td>1</td>\n",
       "      <td>0</td>\n",
       "      <td>0</td>\n",
       "      <td>1</td>\n",
       "      <td>0</td>\n",
       "    </tr>\n",
       "    <tr>\n",
       "      <th>2</th>\n",
       "      <td>1</td>\n",
       "      <td>0.033300</td>\n",
       "      <td>0.480124</td>\n",
       "      <td>0.00</td>\n",
       "      <td>0.0</td>\n",
       "      <td>0.209791</td>\n",
       "      <td>0.610350</td>\n",
       "      <td>0.356453</td>\n",
       "      <td>0.517720</td>\n",
       "      <td>0.679051</td>\n",
       "      <td>...</td>\n",
       "      <td>0</td>\n",
       "      <td>0</td>\n",
       "      <td>0</td>\n",
       "      <td>0</td>\n",
       "      <td>0</td>\n",
       "      <td>0</td>\n",
       "      <td>0</td>\n",
       "      <td>0</td>\n",
       "      <td>0</td>\n",
       "      <td>0</td>\n",
       "    </tr>\n",
       "    <tr>\n",
       "      <th>3</th>\n",
       "      <td>1</td>\n",
       "      <td>0.000000</td>\n",
       "      <td>0.538825</td>\n",
       "      <td>0.00</td>\n",
       "      <td>0.5</td>\n",
       "      <td>0.196344</td>\n",
       "      <td>0.724230</td>\n",
       "      <td>0.235606</td>\n",
       "      <td>0.288764</td>\n",
       "      <td>0.805110</td>\n",
       "      <td>...</td>\n",
       "      <td>0</td>\n",
       "      <td>0</td>\n",
       "      <td>0</td>\n",
       "      <td>0</td>\n",
       "      <td>0</td>\n",
       "      <td>0</td>\n",
       "      <td>0</td>\n",
       "      <td>0</td>\n",
       "      <td>0</td>\n",
       "      <td>0</td>\n",
       "    </tr>\n",
       "    <tr>\n",
       "      <th>4</th>\n",
       "      <td>0</td>\n",
       "      <td>0.100000</td>\n",
       "      <td>0.517794</td>\n",
       "      <td>0.00</td>\n",
       "      <td>0.0</td>\n",
       "      <td>0.494734</td>\n",
       "      <td>0.781422</td>\n",
       "      <td>0.154361</td>\n",
       "      <td>0.303809</td>\n",
       "      <td>0.812646</td>\n",
       "      <td>...</td>\n",
       "      <td>0</td>\n",
       "      <td>0</td>\n",
       "      <td>0</td>\n",
       "      <td>0</td>\n",
       "      <td>0</td>\n",
       "      <td>0</td>\n",
       "      <td>0</td>\n",
       "      <td>0</td>\n",
       "      <td>0</td>\n",
       "      <td>0</td>\n",
       "    </tr>\n",
       "  </tbody>\n",
       "</table>\n",
       "<p>5 rows × 1777 columns</p>\n",
       "</div>"
      ],
      "text/plain": [
       "   Activity        D1        D2    D3   D4        D5        D6        D7  \\\n",
       "0         1  0.000000  0.497009  0.10  0.0  0.132956  0.678031  0.273166   \n",
       "1         1  0.366667  0.606291  0.05  0.0  0.111209  0.803455  0.106105   \n",
       "2         1  0.033300  0.480124  0.00  0.0  0.209791  0.610350  0.356453   \n",
       "3         1  0.000000  0.538825  0.00  0.5  0.196344  0.724230  0.235606   \n",
       "4         0  0.100000  0.517794  0.00  0.0  0.494734  0.781422  0.154361   \n",
       "\n",
       "         D8        D9  ...  D1767  D1768  D1769  D1770  D1771  D1772  D1773  \\\n",
       "0  0.585445  0.743663  ...      0      0      0      0      0      0      0   \n",
       "1  0.411754  0.836582  ...      1      1      1      1      0      1      0   \n",
       "2  0.517720  0.679051  ...      0      0      0      0      0      0      0   \n",
       "3  0.288764  0.805110  ...      0      0      0      0      0      0      0   \n",
       "4  0.303809  0.812646  ...      0      0      0      0      0      0      0   \n",
       "\n",
       "   D1774  D1775  D1776  \n",
       "0      0      0      0  \n",
       "1      0      1      0  \n",
       "2      0      0      0  \n",
       "3      0      0      0  \n",
       "4      0      0      0  \n",
       "\n",
       "[5 rows x 1777 columns]"
      ]
     },
     "execution_count": 57,
     "metadata": {},
     "output_type": "execute_result"
    }
   ],
   "source": [
    "data = pd.read_csv('data/_train_sem09 (1).csv')\n",
    "data.head()"
   ]
  },
  {
   "cell_type": "code",
   "execution_count": 58,
   "metadata": {},
   "outputs": [],
   "source": [
    "X = data.drop('Activity', axis=1)\n",
    "y = data['Activity']"
   ]
  },
  {
   "cell_type": "code",
   "execution_count": 59,
   "metadata": {},
   "outputs": [],
   "source": [
    "X_train, X_test, y_train, y_test = train_test_split(X, y, stratify=y, random_state = 42, test_size = 0.2)"
   ]
  },
  {
   "cell_type": "markdown",
   "metadata": {},
   "source": [
    "#### **1. Логистическая регрессия**"
   ]
  },
  {
   "cell_type": "markdown",
   "metadata": {},
   "source": [
    "Зафиксируем метрики, которые были получены без дополнительной настройки, т.е со значениями гиперпараметров, установленных по умолчанию:"
   ]
  },
  {
   "cell_type": "code",
   "execution_count": 60,
   "metadata": {},
   "outputs": [
    {
     "name": "stdout",
     "output_type": "stream",
     "text": [
      "CPU times: total: 1.48 s\n",
      "Wall time: 559 ms\n",
      "Значение f1-score на тренировочной выборке: 0.88\n",
      "Значение f1-score на тестовой выборке: 0.78\n"
     ]
    },
    {
     "name": "stderr",
     "output_type": "stream",
     "text": [
      "c:\\Users\\Пользователь\\AppData\\Local\\Programs\\Python\\Python310\\lib\\site-packages\\sklearn\\linear_model\\_logistic.py:444: ConvergenceWarning: lbfgs failed to converge (status=1):\n",
      "STOP: TOTAL NO. of ITERATIONS REACHED LIMIT.\n",
      "\n",
      "Increase the number of iterations (max_iter) or scale the data as shown in:\n",
      "    https://scikit-learn.org/stable/modules/preprocessing.html\n",
      "Please also refer to the documentation for alternative solver options:\n",
      "    https://scikit-learn.org/stable/modules/linear_model.html#logistic-regression\n",
      "  n_iter_i = _check_optimize_result(\n"
     ]
    }
   ],
   "source": [
    "# Создаем модель\n",
    "log_reg = linear_model.LogisticRegression(max_iter=50)\n",
    "# Обучаем модель\n",
    "%time log_reg.fit(X_train, y_train)\n",
    "# Делаем предсказания для тренировочной и тестовой выборки\n",
    "y_train_pred = log_reg.predict(X_train)\n",
    "y_test_pred = log_reg.predict(X_test)\n",
    "print('Значение f1-score на тренировочной выборке: {:.2f}'.format(metrics.f1_score(y_train, y_train_pred)))\n",
    "print('Значение f1-score на тестовой выборке: {:.2f}'.format(metrics.f1_score(y_test, y_test_pred)))\n"
   ]
  },
  {
   "cell_type": "markdown",
   "metadata": {},
   "source": [
    "****GridSearchCV****"
   ]
  },
  {
   "cell_type": "code",
   "execution_count": 61,
   "metadata": {},
   "outputs": [],
   "source": [
    "# задаем сетку гиперпараметров для логистической регрессии\n",
    "param_grid = [\n",
    "              {'penalty': ['l2', 'none'] , # тип регуляризации\n",
    "              'solver': ['lbfgs', 'sag'], # алгоритм оптимизации\n",
    "               'C': [0.01, 0.1, 0.3, 0.5, 0.7, 0.9, 1]}, # уровень силы регурялизации\n",
    "              \n",
    "              {'penalty': ['l1', 'l2'] ,\n",
    "              'solver': ['liblinear', 'saga'],\n",
    "               'C': [0.01, 0.1, 0.3, 0.5, 0.7, 0.9, 1]}\n",
    "]"
   ]
  },
  {
   "cell_type": "code",
   "execution_count": 62,
   "metadata": {},
   "outputs": [
    {
     "name": "stdout",
     "output_type": "stream",
     "text": [
      "CPU times: total: 5.61 s\n",
      "Wall time: 3min 34s\n",
      "Значение f1-score на тренировочной выборке: 0.83\n",
      "Значение f1-score на тестовой выборке: 0.79\n"
     ]
    },
    {
     "name": "stderr",
     "output_type": "stream",
     "text": [
      "c:\\Users\\Пользователь\\AppData\\Local\\Programs\\Python\\Python310\\lib\\site-packages\\sklearn\\linear_model\\_sag.py:350: ConvergenceWarning: The max_iter was reached which means the coef_ did not converge\n",
      "  warnings.warn(\n"
     ]
    }
   ],
   "source": [
    "# Подбор гиперпараметров по сетке\n",
    "grid_search = GridSearchCV(\n",
    "    estimator=linear_model.LogisticRegression(random_state=42, max_iter=50), \n",
    "    param_grid=param_grid, #сетка параметров\n",
    "    cv=5, #количество фолдов для кросс-валидации\n",
    "    n_jobs = -1\n",
    ")\n",
    "\n",
    "%time grid_search.fit(X_train, y_train)\n",
    "#Делаем предсказания\n",
    "y_train_pred_gs = grid_search.predict(X_train)\n",
    "y_test_pred_gs = grid_search.predict(X_test)\n",
    "print('Значение f1-score на тренировочной выборке: {:.2f}'.format(metrics.f1_score(y_train, y_train_pred_gs)))\n",
    "print('Значение f1-score на тестовой выборке: {:.2f}'.format(metrics.f1_score(y_test, y_test_pred_gs)))"
   ]
  },
  {
   "cell_type": "markdown",
   "metadata": {},
   "source": [
    "****RandomizedSearchCV****"
   ]
  },
  {
   "cell_type": "code",
   "execution_count": 63,
   "metadata": {},
   "outputs": [
    {
     "name": "stdout",
     "output_type": "stream",
     "text": [
      "CPU times: total: 1.77 s\n",
      "Wall time: 30.6 s\n",
      "Значение f1-score на тренировочной выборке: 0.87\n",
      "Значение f1-score на тестовой выборке: 0.78\n"
     ]
    },
    {
     "name": "stderr",
     "output_type": "stream",
     "text": [
      "c:\\Users\\Пользователь\\AppData\\Local\\Programs\\Python\\Python310\\lib\\site-packages\\sklearn\\linear_model\\_logistic.py:444: ConvergenceWarning: lbfgs failed to converge (status=1):\n",
      "STOP: TOTAL NO. of ITERATIONS REACHED LIMIT.\n",
      "\n",
      "Increase the number of iterations (max_iter) or scale the data as shown in:\n",
      "    https://scikit-learn.org/stable/modules/preprocessing.html\n",
      "Please also refer to the documentation for alternative solver options:\n",
      "    https://scikit-learn.org/stable/modules/linear_model.html#logistic-regression\n",
      "  n_iter_i = _check_optimize_result(\n"
     ]
    }
   ],
   "source": [
    "# Задаем сетку параметров\n",
    "param_grid = {'penalty': ['l2', 'none'] ,\n",
    "              'solver': ['lbfgs', 'sag'],\n",
    "               'C': list(np.linspace(0.01, 1, 10, dtype=float))},\n",
    "\n",
    "random_search = RandomizedSearchCV(\n",
    "    estimator=linear_model.LogisticRegression(random_state=42, max_iter=50), \n",
    "    param_distributions=param_grid, #сетка параметров\n",
    "    cv=5, #количество фолдов для кросс-валидации\n",
    "    n_iter = 10, #количество комбинаций\n",
    "    n_jobs = -1\n",
    ")\n",
    "\n",
    "%time random_search.fit(X_train, y_train)\n",
    "#Делаем предсказания\n",
    "y_train_pred_rs = random_search.predict(X_train)\n",
    "y_test_pred_rs = random_search.predict(X_test)\n",
    "print('Значение f1-score на тренировочной выборке: {:.2f}'.format(metrics.f1_score(y_train, y_train_pred_rs)))\n",
    "print('Значение f1-score на тестовой выборке: {:.2f}'.format(metrics.f1_score(y_test, y_test_pred_rs)))\n"
   ]
  },
  {
   "cell_type": "markdown",
   "metadata": {},
   "source": [
    "#### **2. Случайный лес**"
   ]
  },
  {
   "cell_type": "markdown",
   "metadata": {},
   "source": [
    "Зафиксируем метрики, которые были получены без дополнительной настройки, т.е со значениями гиперпараметров, установленных по умолчанию:"
   ]
  },
  {
   "cell_type": "code",
   "execution_count": 64,
   "metadata": {},
   "outputs": [
    {
     "name": "stdout",
     "output_type": "stream",
     "text": [
      "CPU times: total: 2.3 s\n",
      "Wall time: 2.32 s\n",
      "Значение f1-score на тренировочной выборке: 1.00\n",
      "Значение f1-score на тестовой выборке: 0.80\n"
     ]
    }
   ],
   "source": [
    "#Создаем объект класса случайный лес\n",
    "rf = ensemble.RandomForestClassifier(random_state=42)\n",
    "\n",
    "#Обучаем модель\n",
    "%time rf.fit(X_train, y_train)\n",
    "#Выводим значения метрики\n",
    "y_train_pred = rf.predict(X_train)\n",
    "y_test_pred = rf.predict(X_test)\n",
    "print('Значение f1-score на тренировочной выборке: {:.2f}'.format(metrics.f1_score(y_train, y_train_pred)))\n",
    "print('Значение f1-score на тестовой выборке: {:.2f}'.format(metrics.f1_score(y_test, y_test_pred)))"
   ]
  },
  {
   "cell_type": "markdown",
   "metadata": {},
   "source": [
    "****GridSearchCV****"
   ]
  },
  {
   "cell_type": "code",
   "execution_count": 65,
   "metadata": {},
   "outputs": [],
   "source": [
    "# Зададаем сетку параметров\n",
    "param_grid = {'n_estimators': list(range(80, 200, 30)),\n",
    "              'min_samples_leaf': [5],\n",
    "              'max_depth': list(np.linspace(20, 40, 5, dtype=int))\n",
    "              }"
   ]
  },
  {
   "cell_type": "code",
   "execution_count": 66,
   "metadata": {},
   "outputs": [
    {
     "name": "stdout",
     "output_type": "stream",
     "text": [
      "CPU times: total: 2.78 s\n",
      "Wall time: 1min 13s\n",
      "Значение f1-score на тренировочной выборке: 0.94\n",
      "Значение f1-score на тестовой выборке: 0.80\n"
     ]
    }
   ],
   "source": [
    "grid_search_forest = GridSearchCV(\n",
    "    estimator=ensemble.RandomForestClassifier(random_state=42), \n",
    "    param_grid=param_grid, \n",
    "    cv=5, \n",
    "    n_jobs = -1\n",
    ")  \n",
    "\n",
    "%time grid_search_forest.fit(X_train, y_train)\n",
    "y_train_pred_rf_gs = grid_search_forest.predict(X_train)\n",
    "y_test_pred_rf_gs = grid_search_forest.predict(X_test)\n",
    "print('Значение f1-score на тренировочной выборке: {:.2f}'.format(metrics.f1_score(y_train, y_train_pred_rf_gs)))\n",
    "print('Значение f1-score на тестовой выборке: {:.2f}'.format(metrics.f1_score(y_test, y_test_pred_rf_gs)))\n"
   ]
  },
  {
   "cell_type": "markdown",
   "metadata": {},
   "source": [
    "****RandomizedSearchCV****"
   ]
  },
  {
   "cell_type": "code",
   "execution_count": 67,
   "metadata": {},
   "outputs": [
    {
     "name": "stdout",
     "output_type": "stream",
     "text": [
      "CPU times: total: 3.06 s\n",
      "Wall time: 35.7 s\n",
      "Значение f1-score на тренировочной выборке: 0.95\n",
      "Значение f1-score на тестовой выборке: 0.81\n"
     ]
    }
   ],
   "source": [
    "random_search_forest = RandomizedSearchCV(\n",
    "    estimator=ensemble.RandomForestClassifier(random_state=42), \n",
    "    param_distributions=param_grid, \n",
    "    cv=5,\n",
    "    n_iter = 10, \n",
    "    n_jobs = -1\n",
    ")  \n",
    "%time random_search_forest.fit(X_train, y_train)\n",
    "y_train_pred_rf_rs = random_search_forest.predict(X_train)\n",
    "y_test_pred_rf_rs = random_search_forest.predict(X_test)\n",
    "print('Значение f1-score на тренировочной выборке: {:.2f}'.format(metrics.f1_score(y_train, y_train_pred_rf_rs)))\n",
    "print('Значение f1-score на тестовой выборке: {:.2f}'.format(metrics.f1_score(y_test, y_test_pred_rf_rs)))"
   ]
  },
  {
   "cell_type": "markdown",
   "metadata": {},
   "source": [
    "****Hyperopt****"
   ]
  },
  {
   "cell_type": "code",
   "execution_count": 68,
   "metadata": {},
   "outputs": [],
   "source": [
    "# задаем сетку параметров\n",
    "space = {'n_estimators': hp.quniform('n_estimators', 100, 200, 1),\n",
    "       'max_depth' : hp.quniform('max_depth', 15, 26, 1),\n",
    "       'min_samples_leaf': hp.quniform('min_samples_leaf', 2, 10, 1)\n",
    "      }"
   ]
  },
  {
   "cell_type": "code",
   "execution_count": 69,
   "metadata": {},
   "outputs": [],
   "source": [
    "# зафксируем random_state\n",
    "random_state = 42\n",
    "def hyperopt_rf(params, cv=5, X=X_train, y=y_train, random_state=random_state):\n",
    "    # функция получает комбинацию гиперпараметров в \"params\"\n",
    "    params = {'n_estimators': int(params['n_estimators']), \n",
    "              'max_depth': int(params['max_depth']), \n",
    "             'min_samples_leaf': int(params['min_samples_leaf'])\n",
    "              }\n",
    "  \n",
    "    # используем эту комбинацию для построения модели\n",
    "    model = ensemble.RandomForestClassifier(**params, random_state=random_state)\n",
    "\n",
    "    # обучаем модель\n",
    "    score = cross_val_score(model, X_train, y_train, cv=cv, scoring=\"f1\", n_jobs=-1).mean()\n",
    "\n",
    "    # метрику необходимо минимизировать, поэтому ставим знак минус\n",
    "    return -score"
   ]
  },
  {
   "cell_type": "code",
   "execution_count": 70,
   "metadata": {},
   "outputs": [
    {
     "name": "stdout",
     "output_type": "stream",
     "text": [
      "100%|██████████| 50/50 [04:41<00:00,  5.62s/trial, best loss: -0.8201982028293425]\n",
      "Наилучшие значения гиперпараметров {'max_depth': 15.0, 'min_samples_leaf': 2.0, 'n_estimators': 142.0}\n"
     ]
    }
   ],
   "source": [
    "# подбор гиперпараметров\n",
    "\n",
    "trials = Trials() # используется для логирования результатов\n",
    "\n",
    "best=fmin(hyperopt_rf, # наша функция \n",
    "          space=space, # пространство гиперпараметров\n",
    "          algo=tpe.suggest, # алгоритм оптимизации, установлен по умолчанию, задавать необязательно\n",
    "          max_evals=50, # максимальное количество итераций\n",
    "          trials=trials, # логирование результатов\n",
    "          rstate=np.random.default_rng(random_state)# фиксируем для повторяемости результата\n",
    "         )\n",
    "\n",
    "print(\"Наилучшие значения гиперпараметров {}\".format(best))"
   ]
  },
  {
   "cell_type": "code",
   "execution_count": 71,
   "metadata": {},
   "outputs": [
    {
     "name": "stdout",
     "output_type": "stream",
     "text": [
      "Значение f1-score на тренировочной выборке: 0.98\n",
      "Значение f1-score на тестовой выборке: 0.81\n"
     ]
    }
   ],
   "source": [
    "# рассчитаем точность для тестовой выборки\n",
    "model = ensemble.RandomForestClassifier(\n",
    "    random_state=random_state, \n",
    "    n_estimators=int(best['n_estimators']),\n",
    "    max_depth=int(best['max_depth']),\n",
    "    min_samples_leaf=int(best['min_samples_leaf'])\n",
    ")\n",
    "\n",
    "model.fit(X_train, y_train)\n",
    "y_train_pred_rf_ho = model.predict(X_train)\n",
    "y_test_pred_rf_ho = model.predict(X_test)\n",
    "print('Значение f1-score на тренировочной выборке: {:.2f}'.format(metrics.f1_score(y_train, y_train_pred_rf_ho)))\n",
    "print('Значение f1-score на тестовой выборке: {:.2f}'.format(metrics.f1_score(y_test, y_test_pred_rf_ho)))"
   ]
  },
  {
   "cell_type": "markdown",
   "metadata": {},
   "source": [
    "****Optuna****"
   ]
  },
  {
   "cell_type": "code",
   "execution_count": 72,
   "metadata": {},
   "outputs": [],
   "source": [
    "def optuna_rf(trial):\n",
    "  # задаем пространства поиска гиперпараметров\n",
    "  n_estimators = trial.suggest_int('n_estimators', 100, 200, 1)\n",
    "  max_depth = trial.suggest_int('max_depth', 10, 30, 1)\n",
    "  min_samples_leaf = trial.suggest_int('min_samples_leaf', 2, 10, 1)\n",
    "\n",
    "  # создаем модель\n",
    "  model = ensemble.RandomForestClassifier(n_estimators=n_estimators,\n",
    "                                          max_depth=max_depth,\n",
    "                                          min_samples_leaf=min_samples_leaf,\n",
    "                                          random_state=random_state)\n",
    "  # обучаем модель\n",
    "  model.fit(X_train, y_train)\n",
    "  score = metrics.f1_score(y_train, model.predict(X_train))\n",
    "\n",
    "  return score"
   ]
  },
  {
   "cell_type": "code",
   "execution_count": 73,
   "metadata": {},
   "outputs": [
    {
     "name": "stderr",
     "output_type": "stream",
     "text": [
      "\u001b[32m[I 2022-07-25 14:50:58,383]\u001b[0m A new study created in memory with name: RandomForestClassifier\u001b[0m\n",
      "\u001b[32m[I 2022-07-25 14:51:00,412]\u001b[0m Trial 0 finished with value: 0.9576090271424215 and parameters: {'n_estimators': 105, 'max_depth': 20, 'min_samples_leaf': 4}. Best is trial 0 with value: 0.9576090271424215.\u001b[0m\n",
      "\u001b[32m[I 2022-07-25 14:51:02,593]\u001b[0m Trial 1 finished with value: 0.918820310124658 and parameters: {'n_estimators': 136, 'max_depth': 17, 'min_samples_leaf': 7}. Best is trial 0 with value: 0.9576090271424215.\u001b[0m\n",
      "\u001b[32m[I 2022-07-25 14:51:05,345]\u001b[0m Trial 2 finished with value: 0.9439024390243903 and parameters: {'n_estimators': 155, 'max_depth': 25, 'min_samples_leaf': 5}. Best is trial 0 with value: 0.9576090271424215.\u001b[0m\n",
      "\u001b[32m[I 2022-07-25 14:51:07,001]\u001b[0m Trial 3 finished with value: 0.8862530413625305 and parameters: {'n_estimators': 118, 'max_depth': 12, 'min_samples_leaf': 10}. Best is trial 0 with value: 0.9576090271424215.\u001b[0m\n",
      "\u001b[32m[I 2022-07-25 14:51:09,887]\u001b[0m Trial 4 finished with value: 0.9219556635286973 and parameters: {'n_estimators': 180, 'max_depth': 29, 'min_samples_leaf': 7}. Best is trial 0 with value: 0.9576090271424215.\u001b[0m\n",
      "\u001b[32m[I 2022-07-25 14:51:13,045]\u001b[0m Trial 5 finished with value: 0.9463087248322148 and parameters: {'n_estimators': 180, 'max_depth': 28, 'min_samples_leaf': 5}. Best is trial 0 with value: 0.9576090271424215.\u001b[0m\n",
      "\u001b[32m[I 2022-07-25 14:51:15,692]\u001b[0m Trial 6 finished with value: 0.9400244798041616 and parameters: {'n_estimators': 152, 'max_depth': 17, 'min_samples_leaf': 5}. Best is trial 0 with value: 0.9576090271424215.\u001b[0m\n",
      "\u001b[32m[I 2022-07-25 14:51:17,782]\u001b[0m Trial 7 finished with value: 0.9474648747709226 and parameters: {'n_estimators': 125, 'max_depth': 12, 'min_samples_leaf': 3}. Best is trial 0 with value: 0.9576090271424215.\u001b[0m\n",
      "\u001b[32m[I 2022-07-25 14:51:21,018]\u001b[0m Trial 8 finished with value: 0.9576864535768645 and parameters: {'n_estimators': 175, 'max_depth': 27, 'min_samples_leaf': 4}. Best is trial 8 with value: 0.9576864535768645.\u001b[0m\n",
      "\u001b[32m[I 2022-07-25 14:51:22,974]\u001b[0m Trial 9 finished with value: 0.9017938583155974 and parameters: {'n_estimators': 129, 'max_depth': 29, 'min_samples_leaf': 9}. Best is trial 8 with value: 0.9576864535768645.\u001b[0m\n",
      "\u001b[32m[I 2022-07-25 14:51:27,073]\u001b[0m Trial 10 finished with value: 0.9914057704112953 and parameters: {'n_estimators': 196, 'max_depth': 24, 'min_samples_leaf': 2}. Best is trial 10 with value: 0.9914057704112953.\u001b[0m\n",
      "\u001b[32m[I 2022-07-25 14:51:31,158]\u001b[0m Trial 11 finished with value: 0.9914057704112953 and parameters: {'n_estimators': 195, 'max_depth': 24, 'min_samples_leaf': 2}. Best is trial 10 with value: 0.9914057704112953.\u001b[0m\n",
      "\u001b[32m[I 2022-07-25 14:51:35,067]\u001b[0m Trial 12 finished with value: 0.9917101627264354 and parameters: {'n_estimators': 187, 'max_depth': 23, 'min_samples_leaf': 2}. Best is trial 12 with value: 0.9917101627264354.\u001b[0m\n",
      "\u001b[32m[I 2022-07-25 14:51:39,245]\u001b[0m Trial 13 finished with value: 0.9914057704112953 and parameters: {'n_estimators': 200, 'max_depth': 23, 'min_samples_leaf': 2}. Best is trial 12 with value: 0.9917101627264354.\u001b[0m\n",
      "\u001b[32m[I 2022-07-25 14:51:42,689]\u001b[0m Trial 14 finished with value: 0.9895769466584917 and parameters: {'n_estimators': 165, 'max_depth': 21, 'min_samples_leaf': 2}. Best is trial 12 with value: 0.9917101627264354.\u001b[0m\n",
      "\u001b[32m[I 2022-07-25 14:51:46,368]\u001b[0m Trial 15 finished with value: 0.9722306988098871 and parameters: {'n_estimators': 190, 'max_depth': 19, 'min_samples_leaf': 3}. Best is trial 12 with value: 0.9917101627264354.\u001b[0m\n",
      "\u001b[32m[I 2022-07-25 14:51:49,623]\u001b[0m Trial 16 finished with value: 0.9743746186699207 and parameters: {'n_estimators': 166, 'max_depth': 26, 'min_samples_leaf': 3}. Best is trial 12 with value: 0.9917101627264354.\u001b[0m\n",
      "\u001b[32m[I 2022-07-25 14:51:52,697]\u001b[0m Trial 17 finished with value: 0.9113075281926242 and parameters: {'n_estimators': 199, 'max_depth': 22, 'min_samples_leaf': 8}. Best is trial 12 with value: 0.9917101627264354.\u001b[0m\n",
      "\u001b[32m[I 2022-07-25 14:51:55,975]\u001b[0m Trial 18 finished with value: 0.9527583053946966 and parameters: {'n_estimators': 186, 'max_depth': 15, 'min_samples_leaf': 4}. Best is trial 12 with value: 0.9917101627264354.\u001b[0m\n",
      "\u001b[32m[I 2022-07-25 14:51:58,802]\u001b[0m Trial 19 finished with value: 0.9283754952758306 and parameters: {'n_estimators': 169, 'max_depth': 23, 'min_samples_leaf': 6}. Best is trial 12 with value: 0.9917101627264354.\u001b[0m\n",
      "\u001b[32m[I 2022-07-25 14:52:01,969]\u001b[0m Trial 20 finished with value: 0.9880624426078972 and parameters: {'n_estimators': 143, 'max_depth': 18, 'min_samples_leaf': 2}. Best is trial 12 with value: 0.9917101627264354.\u001b[0m\n",
      "\u001b[32m[I 2022-07-25 14:52:07,802]\u001b[0m Trial 21 finished with value: 0.9914057704112953 and parameters: {'n_estimators': 200, 'max_depth': 23, 'min_samples_leaf': 2}. Best is trial 12 with value: 0.9917101627264354.\u001b[0m\n",
      "\u001b[32m[I 2022-07-25 14:52:12,298]\u001b[0m Trial 22 finished with value: 0.9747028345016764 and parameters: {'n_estimators': 189, 'max_depth': 25, 'min_samples_leaf': 3}. Best is trial 12 with value: 0.9917101627264354.\u001b[0m\n",
      "\u001b[32m[I 2022-07-25 14:52:16,433]\u001b[0m Trial 23 finished with value: 0.9901840490797547 and parameters: {'n_estimators': 190, 'max_depth': 21, 'min_samples_leaf': 2}. Best is trial 12 with value: 0.9917101627264354.\u001b[0m\n",
      "\u001b[32m[I 2022-07-25 14:52:20,082]\u001b[0m Trial 24 finished with value: 0.974969474969475 and parameters: {'n_estimators': 178, 'max_depth': 26, 'min_samples_leaf': 3}. Best is trial 12 with value: 0.9917101627264354.\u001b[0m\n",
      "\u001b[32m[I 2022-07-25 14:52:23,968]\u001b[0m Trial 25 finished with value: 0.9573170731707317 and parameters: {'n_estimators': 199, 'max_depth': 22, 'min_samples_leaf': 4}. Best is trial 12 with value: 0.9917101627264354.\u001b[0m\n",
      "\u001b[32m[I 2022-07-25 14:52:28,378]\u001b[0m Trial 26 finished with value: 0.9914057704112953 and parameters: {'n_estimators': 200, 'max_depth': 23, 'min_samples_leaf': 2}. Best is trial 12 with value: 0.9917101627264354.\u001b[0m\n",
      "\u001b[32m[I 2022-07-25 14:52:31,475]\u001b[0m Trial 27 finished with value: 0.9643835616438357 and parameters: {'n_estimators': 158, 'max_depth': 15, 'min_samples_leaf': 3}. Best is trial 12 with value: 0.9917101627264354.\u001b[0m\n",
      "\u001b[32m[I 2022-07-25 14:52:34,735]\u001b[0m Trial 28 finished with value: 0.9293544457978076 and parameters: {'n_estimators': 185, 'max_depth': 30, 'min_samples_leaf': 6}. Best is trial 12 with value: 0.9917101627264354.\u001b[0m\n",
      "\u001b[32m[I 2022-07-25 14:52:38,053]\u001b[0m Trial 29 finished with value: 0.9570252971654984 and parameters: {'n_estimators': 172, 'max_depth': 20, 'min_samples_leaf': 4}. Best is trial 12 with value: 0.9917101627264354.\u001b[0m\n",
      "\u001b[32m[I 2022-07-25 14:52:40,229]\u001b[0m Trial 30 finished with value: 0.9575831553249924 and parameters: {'n_estimators': 102, 'max_depth': 21, 'min_samples_leaf': 4}. Best is trial 12 with value: 0.9917101627264354.\u001b[0m\n",
      "\u001b[32m[I 2022-07-25 14:52:44,473]\u001b[0m Trial 31 finished with value: 0.9910961007061714 and parameters: {'n_estimators': 193, 'max_depth': 24, 'min_samples_leaf': 2}. Best is trial 12 with value: 0.9917101627264354.\u001b[0m\n",
      "\u001b[32m[I 2022-07-25 14:52:48,837]\u001b[0m Trial 32 finished with value: 0.9917101627264354 and parameters: {'n_estimators': 199, 'max_depth': 23, 'min_samples_leaf': 2}. Best is trial 12 with value: 0.9917101627264354.\u001b[0m\n",
      "\u001b[32m[I 2022-07-25 14:52:52,583]\u001b[0m Trial 33 finished with value: 0.974969474969475 and parameters: {'n_estimators': 183, 'max_depth': 23, 'min_samples_leaf': 3}. Best is trial 12 with value: 0.9917101627264354.\u001b[0m\n",
      "\u001b[32m[I 2022-07-25 14:52:55,113]\u001b[0m Trial 34 finished with value: 0.989280245022971 and parameters: {'n_estimators': 112, 'max_depth': 26, 'min_samples_leaf': 2}. Best is trial 12 with value: 0.9917101627264354.\u001b[0m\n",
      "\u001b[32m[I 2022-07-25 14:52:59,053]\u001b[0m Trial 35 finished with value: 0.9722306988098871 and parameters: {'n_estimators': 193, 'max_depth': 19, 'min_samples_leaf': 3}. Best is trial 12 with value: 0.9917101627264354.\u001b[0m\n",
      "\u001b[32m[I 2022-07-25 14:53:02,029]\u001b[0m Trial 36 finished with value: 0.9451553930530164 and parameters: {'n_estimators': 160, 'max_depth': 22, 'min_samples_leaf': 5}. Best is trial 12 with value: 0.9917101627264354.\u001b[0m\n",
      "\u001b[32m[I 2022-07-25 14:53:06,020]\u001b[0m Trial 37 finished with value: 0.9914057704112953 and parameters: {'n_estimators': 181, 'max_depth': 25, 'min_samples_leaf': 2}. Best is trial 12 with value: 0.9917101627264354.\u001b[0m\n",
      "\u001b[32m[I 2022-07-25 14:53:09,076]\u001b[0m Trial 38 finished with value: 0.9216757741347906 and parameters: {'n_estimators': 182, 'max_depth': 27, 'min_samples_leaf': 7}. Best is trial 12 with value: 0.9917101627264354.\u001b[0m\n",
      "\u001b[32m[I 2022-07-25 14:53:11,756]\u001b[0m Trial 39 finished with value: 0.8965307364576993 and parameters: {'n_estimators': 173, 'max_depth': 25, 'min_samples_leaf': 10}. Best is trial 12 with value: 0.9917101627264354.\u001b[0m\n",
      "\u001b[32m[I 2022-07-25 14:53:15,037]\u001b[0m Trial 40 finished with value: 0.9457647775746495 and parameters: {'n_estimators': 177, 'max_depth': 28, 'min_samples_leaf': 5}. Best is trial 12 with value: 0.9917101627264354.\u001b[0m\n",
      "\u001b[32m[I 2022-07-25 14:53:19,304]\u001b[0m Trial 41 finished with value: 0.9917152500767107 and parameters: {'n_estimators': 194, 'max_depth': 24, 'min_samples_leaf': 2}. Best is trial 41 with value: 0.9917152500767107.\u001b[0m\n",
      "\u001b[32m[I 2022-07-25 14:53:22,191]\u001b[0m Trial 42 finished with value: 0.9314565483476132 and parameters: {'n_estimators': 188, 'max_depth': 10, 'min_samples_leaf': 2}. Best is trial 41 with value: 0.9917152500767107.\u001b[0m\n",
      "\u001b[32m[I 2022-07-25 14:53:26,132]\u001b[0m Trial 43 finished with value: 0.9746564885496183 and parameters: {'n_estimators': 193, 'max_depth': 24, 'min_samples_leaf': 3}. Best is trial 41 with value: 0.9917152500767107.\u001b[0m\n",
      "\u001b[32m[I 2022-07-25 14:53:30,501]\u001b[0m Trial 44 finished with value: 0.9914004914004914 and parameters: {'n_estimators': 195, 'max_depth': 25, 'min_samples_leaf': 2}. Best is trial 41 with value: 0.9917152500767107.\u001b[0m\n",
      "\u001b[32m[I 2022-07-25 14:53:34,548]\u001b[0m Trial 45 finished with value: 0.9914057704112953 and parameters: {'n_estimators': 184, 'max_depth': 27, 'min_samples_leaf': 2}. Best is trial 41 with value: 0.9917152500767107.\u001b[0m\n",
      "\u001b[32m[I 2022-07-25 14:53:38,262]\u001b[0m Trial 46 finished with value: 0.9749847467968273 and parameters: {'n_estimators': 181, 'max_depth': 28, 'min_samples_leaf': 3}. Best is trial 41 with value: 0.9917152500767107.\u001b[0m\n",
      "\u001b[32m[I 2022-07-25 14:53:41,445]\u001b[0m Trial 47 finished with value: 0.9904820386859073 and parameters: {'n_estimators': 145, 'max_depth': 22, 'min_samples_leaf': 2}. Best is trial 41 with value: 0.9917152500767107.\u001b[0m\n",
      "\u001b[32m[I 2022-07-25 14:53:45,020]\u001b[0m Trial 48 finished with value: 0.9588790740176667 and parameters: {'n_estimators': 184, 'max_depth': 26, 'min_samples_leaf': 4}. Best is trial 41 with value: 0.9917152500767107.\u001b[0m\n",
      "\u001b[32m[I 2022-07-25 14:53:49,089]\u001b[0m Trial 49 finished with value: 0.974061641745499 and parameters: {'n_estimators': 199, 'max_depth': 23, 'min_samples_leaf': 3}. Best is trial 41 with value: 0.9917152500767107.\u001b[0m\n"
     ]
    },
    {
     "name": "stdout",
     "output_type": "stream",
     "text": [
      "CPU times: total: 2min 46s\n",
      "Wall time: 2min 50s\n"
     ]
    }
   ],
   "source": [
    "%%time\n",
    "# cоздаем объект исследования\n",
    "# можем напрямую указать, что нам необходимо максимизировать метрику direction=\"maximize\"\n",
    "study = optuna.create_study(study_name=\"RandomForestClassifier\", direction=\"maximize\")\n",
    "# ищем лучшую комбинацию гиперпараметров n_trials раз\n",
    "study.optimize(optuna_rf, n_trials=50)"
   ]
  },
  {
   "cell_type": "code",
   "execution_count": 74,
   "metadata": {},
   "outputs": [
    {
     "name": "stdout",
     "output_type": "stream",
     "text": [
      "Значение f1-score на тренировочной выборке: 0.99\n",
      "Значение f1-score на тестовой выборке: 0.80\n"
     ]
    }
   ],
   "source": [
    "# Обучим модель и рассчитаем метрики\n",
    "model = ensemble.RandomForestClassifier(**study.best_params,random_state=random_state, )\n",
    "model.fit(X_train, y_train)\n",
    "\n",
    "y_train_pred_rf_ot = model.predict(X_train)\n",
    "y_test_pred_rf_ot = model.predict(X_test)\n",
    "print('Значение f1-score на тренировочной выборке: {:.2f}'.format(metrics.f1_score(y_train, y_train_pred_rf_ot)))\n",
    "print('Значение f1-score на тестовой выборке: {:.2f}'.format(metrics.f1_score(y_test, y_test_pred_rf_ot)))"
   ]
  }
 ],
 "metadata": {
  "kernelspec": {
   "display_name": "Python 3.10.4 64-bit (system)",
   "language": "python",
   "name": "python3"
  },
  "language_info": {
   "codemirror_mode": {
    "name": "ipython",
    "version": 3
   },
   "file_extension": ".py",
   "mimetype": "text/x-python",
   "name": "python",
   "nbconvert_exporter": "python",
   "pygments_lexer": "ipython3",
   "version": "3.10.4"
  },
  "orig_nbformat": 4,
  "vscode": {
   "interpreter": {
    "hash": "c97e36f5c1aa02871b4149eafcab2ec871d39d20911a3254ab29c2172503796d"
   }
  }
 },
 "nbformat": 4,
 "nbformat_minor": 2
}
