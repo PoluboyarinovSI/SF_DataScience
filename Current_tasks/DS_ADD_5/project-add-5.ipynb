{
 "cells": [
  {
   "cell_type": "code",
   "execution_count": 11,
   "metadata": {},
   "outputs": [],
   "source": [
    "import numpy as np \n",
    "import pandas as pd \n",
    "import matplotlib.pyplot as plt\n",
    "import seaborn as sns\n",
    "import warnings\n",
    "warnings.filterwarnings('ignore')\n",
    "\n",
    "%matplotlib inline\n",
    "\n",
    "from sklearn.model_selection import train_test_split\n",
    "\n",
    "from catboost import CatBoostClassifier\n",
    "from sklearn.linear_model import LogisticRegression, LinearRegression\n",
    "from causalml.inference.meta import BaseSClassifier, BaseTClassifier\n",
    "from causalml.inference.meta import BaseXClassifier, BaseRClassifier\n",
    "from causalml.inference.tree import UpliftRandomForestClassifier"
   ]
  },
  {
   "cell_type": "code",
   "execution_count": 12,
   "metadata": {},
   "outputs": [
    {
     "data": {
      "text/html": [
       "<div>\n",
       "<style scoped>\n",
       "    .dataframe tbody tr th:only-of-type {\n",
       "        vertical-align: middle;\n",
       "    }\n",
       "\n",
       "    .dataframe tbody tr th {\n",
       "        vertical-align: top;\n",
       "    }\n",
       "\n",
       "    .dataframe thead th {\n",
       "        text-align: right;\n",
       "    }\n",
       "</style>\n",
       "<table border=\"1\" class=\"dataframe\">\n",
       "  <thead>\n",
       "    <tr style=\"text-align: right;\">\n",
       "      <th></th>\n",
       "      <th>f0</th>\n",
       "      <th>f1</th>\n",
       "      <th>f2</th>\n",
       "      <th>f3</th>\n",
       "      <th>f4</th>\n",
       "      <th>f5</th>\n",
       "      <th>f6</th>\n",
       "      <th>f7</th>\n",
       "      <th>f8</th>\n",
       "      <th>f9</th>\n",
       "      <th>f10</th>\n",
       "      <th>f11</th>\n",
       "      <th>treatment</th>\n",
       "      <th>conversion</th>\n",
       "      <th>visit</th>\n",
       "      <th>exposure</th>\n",
       "    </tr>\n",
       "  </thead>\n",
       "  <tbody>\n",
       "    <tr>\n",
       "      <th>0</th>\n",
       "      <td>12.616365</td>\n",
       "      <td>10.059654</td>\n",
       "      <td>8.976429</td>\n",
       "      <td>4.679882</td>\n",
       "      <td>10.280525</td>\n",
       "      <td>4.115453</td>\n",
       "      <td>0.294443</td>\n",
       "      <td>4.833815</td>\n",
       "      <td>3.955396</td>\n",
       "      <td>13.190056</td>\n",
       "      <td>5.300375</td>\n",
       "      <td>-0.168679</td>\n",
       "      <td>1</td>\n",
       "      <td>0</td>\n",
       "      <td>0</td>\n",
       "      <td>0</td>\n",
       "    </tr>\n",
       "    <tr>\n",
       "      <th>1</th>\n",
       "      <td>12.616365</td>\n",
       "      <td>10.059654</td>\n",
       "      <td>9.002689</td>\n",
       "      <td>4.679882</td>\n",
       "      <td>10.280525</td>\n",
       "      <td>4.115453</td>\n",
       "      <td>0.294443</td>\n",
       "      <td>4.833815</td>\n",
       "      <td>3.955396</td>\n",
       "      <td>13.190056</td>\n",
       "      <td>5.300375</td>\n",
       "      <td>-0.168679</td>\n",
       "      <td>1</td>\n",
       "      <td>0</td>\n",
       "      <td>0</td>\n",
       "      <td>0</td>\n",
       "    </tr>\n",
       "    <tr>\n",
       "      <th>2</th>\n",
       "      <td>12.616365</td>\n",
       "      <td>10.059654</td>\n",
       "      <td>8.964775</td>\n",
       "      <td>4.679882</td>\n",
       "      <td>10.280525</td>\n",
       "      <td>4.115453</td>\n",
       "      <td>0.294443</td>\n",
       "      <td>4.833815</td>\n",
       "      <td>3.955396</td>\n",
       "      <td>13.190056</td>\n",
       "      <td>5.300375</td>\n",
       "      <td>-0.168679</td>\n",
       "      <td>1</td>\n",
       "      <td>0</td>\n",
       "      <td>0</td>\n",
       "      <td>0</td>\n",
       "    </tr>\n",
       "    <tr>\n",
       "      <th>3</th>\n",
       "      <td>12.616365</td>\n",
       "      <td>10.059654</td>\n",
       "      <td>9.002801</td>\n",
       "      <td>4.679882</td>\n",
       "      <td>10.280525</td>\n",
       "      <td>4.115453</td>\n",
       "      <td>0.294443</td>\n",
       "      <td>4.833815</td>\n",
       "      <td>3.955396</td>\n",
       "      <td>13.190056</td>\n",
       "      <td>5.300375</td>\n",
       "      <td>-0.168679</td>\n",
       "      <td>1</td>\n",
       "      <td>0</td>\n",
       "      <td>0</td>\n",
       "      <td>0</td>\n",
       "    </tr>\n",
       "    <tr>\n",
       "      <th>4</th>\n",
       "      <td>12.616365</td>\n",
       "      <td>10.059654</td>\n",
       "      <td>9.037999</td>\n",
       "      <td>4.679882</td>\n",
       "      <td>10.280525</td>\n",
       "      <td>4.115453</td>\n",
       "      <td>0.294443</td>\n",
       "      <td>4.833815</td>\n",
       "      <td>3.955396</td>\n",
       "      <td>13.190056</td>\n",
       "      <td>5.300375</td>\n",
       "      <td>-0.168679</td>\n",
       "      <td>1</td>\n",
       "      <td>0</td>\n",
       "      <td>0</td>\n",
       "      <td>0</td>\n",
       "    </tr>\n",
       "  </tbody>\n",
       "</table>\n",
       "</div>"
      ],
      "text/plain": [
       "          f0         f1        f2        f3         f4        f5        f6  \\\n",
       "0  12.616365  10.059654  8.976429  4.679882  10.280525  4.115453  0.294443   \n",
       "1  12.616365  10.059654  9.002689  4.679882  10.280525  4.115453  0.294443   \n",
       "2  12.616365  10.059654  8.964775  4.679882  10.280525  4.115453  0.294443   \n",
       "3  12.616365  10.059654  9.002801  4.679882  10.280525  4.115453  0.294443   \n",
       "4  12.616365  10.059654  9.037999  4.679882  10.280525  4.115453  0.294443   \n",
       "\n",
       "         f7        f8         f9       f10       f11  treatment  conversion  \\\n",
       "0  4.833815  3.955396  13.190056  5.300375 -0.168679          1           0   \n",
       "1  4.833815  3.955396  13.190056  5.300375 -0.168679          1           0   \n",
       "2  4.833815  3.955396  13.190056  5.300375 -0.168679          1           0   \n",
       "3  4.833815  3.955396  13.190056  5.300375 -0.168679          1           0   \n",
       "4  4.833815  3.955396  13.190056  5.300375 -0.168679          1           0   \n",
       "\n",
       "   visit  exposure  \n",
       "0      0         0  \n",
       "1      0         0  \n",
       "2      0         0  \n",
       "3      0         0  \n",
       "4      0         0  "
      ]
     },
     "execution_count": 12,
     "metadata": {},
     "output_type": "execute_result"
    }
   ],
   "source": [
    "# Прочитаем файл с данными\n",
    "raw_df = pd.read_csv(\"C:\\SkillFactory\\SF_DataScience\\Current_tasks\\data\\DS_ADD_5\\criteo-uplift-v2.1.csv\")\n",
    "raw_df.head()"
   ]
  },
  {
   "cell_type": "code",
   "execution_count": 13,
   "metadata": {},
   "outputs": [
    {
     "name": "stdout",
     "output_type": "stream",
     "text": [
      "<class 'pandas.core.frame.DataFrame'>\n",
      "RangeIndex: 13979592 entries, 0 to 13979591\n",
      "Data columns (total 16 columns):\n",
      " #   Column      Dtype  \n",
      "---  ------      -----  \n",
      " 0   f0          float64\n",
      " 1   f1          float64\n",
      " 2   f2          float64\n",
      " 3   f3          float64\n",
      " 4   f4          float64\n",
      " 5   f5          float64\n",
      " 6   f6          float64\n",
      " 7   f7          float64\n",
      " 8   f8          float64\n",
      " 9   f9          float64\n",
      " 10  f10         float64\n",
      " 11  f11         float64\n",
      " 12  treatment   int64  \n",
      " 13  conversion  int64  \n",
      " 14  visit       int64  \n",
      " 15  exposure    int64  \n",
      "dtypes: float64(12), int64(4)\n",
      "memory usage: 1.7 GB\n"
     ]
    }
   ],
   "source": [
    "raw_df.info()"
   ]
  },
  {
   "cell_type": "code",
   "execution_count": 14,
   "metadata": {},
   "outputs": [
    {
     "data": {
      "text/plain": [
       "1    0.85\n",
       "0    0.15\n",
       "Name: treatment, dtype: float64"
      ]
     },
     "execution_count": 14,
     "metadata": {},
     "output_type": "execute_result"
    }
   ],
   "source": [
    "# Процентное соотношение признака показа рекламы\n",
    "raw_df['treatment'].value_counts(normalize=True)"
   ]
  },
  {
   "cell_type": "code",
   "execution_count": 15,
   "metadata": {},
   "outputs": [
    {
     "data": {
      "text/html": [
       "<div>\n",
       "<style scoped>\n",
       "    .dataframe tbody tr th:only-of-type {\n",
       "        vertical-align: middle;\n",
       "    }\n",
       "\n",
       "    .dataframe tbody tr th {\n",
       "        vertical-align: top;\n",
       "    }\n",
       "\n",
       "    .dataframe thead tr th {\n",
       "        text-align: left;\n",
       "    }\n",
       "\n",
       "    .dataframe thead tr:last-of-type th {\n",
       "        text-align: right;\n",
       "    }\n",
       "</style>\n",
       "<table border=\"1\" class=\"dataframe\">\n",
       "  <thead>\n",
       "    <tr>\n",
       "      <th></th>\n",
       "      <th></th>\n",
       "      <th>conversion</th>\n",
       "    </tr>\n",
       "    <tr>\n",
       "      <th></th>\n",
       "      <th></th>\n",
       "      <th>count</th>\n",
       "    </tr>\n",
       "    <tr>\n",
       "      <th>treatment</th>\n",
       "      <th>conversion</th>\n",
       "      <th></th>\n",
       "    </tr>\n",
       "  </thead>\n",
       "  <tbody>\n",
       "    <tr>\n",
       "      <th rowspan=\"2\" valign=\"top\">0</th>\n",
       "      <th>0</th>\n",
       "      <td>2092874</td>\n",
       "    </tr>\n",
       "    <tr>\n",
       "      <th>1</th>\n",
       "      <td>4063</td>\n",
       "    </tr>\n",
       "    <tr>\n",
       "      <th rowspan=\"2\" valign=\"top\">1</th>\n",
       "      <th>0</th>\n",
       "      <td>11845944</td>\n",
       "    </tr>\n",
       "    <tr>\n",
       "      <th>1</th>\n",
       "      <td>36711</td>\n",
       "    </tr>\n",
       "  </tbody>\n",
       "</table>\n",
       "</div>"
      ],
      "text/plain": [
       "                     conversion\n",
       "                          count\n",
       "treatment conversion           \n",
       "0         0             2092874\n",
       "          1                4063\n",
       "1         0            11845944\n",
       "          1               36711"
      ]
     },
     "execution_count": 15,
     "metadata": {},
     "output_type": "execute_result"
    }
   ],
   "source": [
    "raw_df.groupby(['treatment', 'conversion']).agg({'conversion':[ 'count']})"
   ]
  },
  {
   "cell_type": "code",
   "execution_count": 16,
   "metadata": {},
   "outputs": [],
   "source": [
    "# Определим колонки с факторами, тритментом и таргетом\n",
    "feature_cols = ['f0', 'f1', 'f2', 'f3', 'f4',\n",
    "                'f5', 'f6', 'f7', 'f8', 'f10', 'f11']\n",
    "\n",
    "target_col = 'conversion'\n",
    "treatment_col = 'treatment'"
   ]
  },
  {
   "cell_type": "code",
   "execution_count": 17,
   "metadata": {},
   "outputs": [],
   "source": [
    "def target_class(df, treatment, target):\n",
    "    \n",
    "    #CN:\n",
    "    df['target_class'] = 0 \n",
    "    #CR:\n",
    "    df.loc[(df[treatment] == 0) & (df[target] != 0),'target_class'] = 1 \n",
    "    #TN:\n",
    "    df.loc[(df[treatment] != 0) & (df[target] == 0),'target_class'] = 2 \n",
    "    #TR:\n",
    "    df.loc[(df[treatment] != 0) & (df[target] != 0),'target_class'] = 3 \n",
    "    \n",
    "    return df"
   ]
  },
  {
   "cell_type": "code",
   "execution_count": 18,
   "metadata": {},
   "outputs": [
    {
     "data": {
      "text/html": [
       "<div>\n",
       "<style scoped>\n",
       "    .dataframe tbody tr th:only-of-type {\n",
       "        vertical-align: middle;\n",
       "    }\n",
       "\n",
       "    .dataframe tbody tr th {\n",
       "        vertical-align: top;\n",
       "    }\n",
       "\n",
       "    .dataframe thead th {\n",
       "        text-align: right;\n",
       "    }\n",
       "</style>\n",
       "<table border=\"1\" class=\"dataframe\">\n",
       "  <thead>\n",
       "    <tr style=\"text-align: right;\">\n",
       "      <th></th>\n",
       "      <th>f0</th>\n",
       "      <th>f1</th>\n",
       "      <th>f2</th>\n",
       "      <th>f3</th>\n",
       "      <th>f4</th>\n",
       "      <th>f5</th>\n",
       "      <th>f6</th>\n",
       "      <th>f7</th>\n",
       "      <th>f8</th>\n",
       "      <th>f9</th>\n",
       "      <th>f10</th>\n",
       "      <th>f11</th>\n",
       "      <th>treatment</th>\n",
       "      <th>conversion</th>\n",
       "      <th>visit</th>\n",
       "      <th>exposure</th>\n",
       "      <th>target_class</th>\n",
       "    </tr>\n",
       "  </thead>\n",
       "  <tbody>\n",
       "    <tr>\n",
       "      <th>0</th>\n",
       "      <td>12.616365</td>\n",
       "      <td>10.059654</td>\n",
       "      <td>8.976429</td>\n",
       "      <td>4.679882</td>\n",
       "      <td>10.280525</td>\n",
       "      <td>4.115453</td>\n",
       "      <td>0.294443</td>\n",
       "      <td>4.833815</td>\n",
       "      <td>3.955396</td>\n",
       "      <td>13.190056</td>\n",
       "      <td>5.300375</td>\n",
       "      <td>-0.168679</td>\n",
       "      <td>1</td>\n",
       "      <td>0</td>\n",
       "      <td>0</td>\n",
       "      <td>0</td>\n",
       "      <td>2</td>\n",
       "    </tr>\n",
       "    <tr>\n",
       "      <th>1</th>\n",
       "      <td>12.616365</td>\n",
       "      <td>10.059654</td>\n",
       "      <td>9.002689</td>\n",
       "      <td>4.679882</td>\n",
       "      <td>10.280525</td>\n",
       "      <td>4.115453</td>\n",
       "      <td>0.294443</td>\n",
       "      <td>4.833815</td>\n",
       "      <td>3.955396</td>\n",
       "      <td>13.190056</td>\n",
       "      <td>5.300375</td>\n",
       "      <td>-0.168679</td>\n",
       "      <td>1</td>\n",
       "      <td>0</td>\n",
       "      <td>0</td>\n",
       "      <td>0</td>\n",
       "      <td>2</td>\n",
       "    </tr>\n",
       "    <tr>\n",
       "      <th>2</th>\n",
       "      <td>12.616365</td>\n",
       "      <td>10.059654</td>\n",
       "      <td>8.964775</td>\n",
       "      <td>4.679882</td>\n",
       "      <td>10.280525</td>\n",
       "      <td>4.115453</td>\n",
       "      <td>0.294443</td>\n",
       "      <td>4.833815</td>\n",
       "      <td>3.955396</td>\n",
       "      <td>13.190056</td>\n",
       "      <td>5.300375</td>\n",
       "      <td>-0.168679</td>\n",
       "      <td>1</td>\n",
       "      <td>0</td>\n",
       "      <td>0</td>\n",
       "      <td>0</td>\n",
       "      <td>2</td>\n",
       "    </tr>\n",
       "    <tr>\n",
       "      <th>3</th>\n",
       "      <td>12.616365</td>\n",
       "      <td>10.059654</td>\n",
       "      <td>9.002801</td>\n",
       "      <td>4.679882</td>\n",
       "      <td>10.280525</td>\n",
       "      <td>4.115453</td>\n",
       "      <td>0.294443</td>\n",
       "      <td>4.833815</td>\n",
       "      <td>3.955396</td>\n",
       "      <td>13.190056</td>\n",
       "      <td>5.300375</td>\n",
       "      <td>-0.168679</td>\n",
       "      <td>1</td>\n",
       "      <td>0</td>\n",
       "      <td>0</td>\n",
       "      <td>0</td>\n",
       "      <td>2</td>\n",
       "    </tr>\n",
       "    <tr>\n",
       "      <th>4</th>\n",
       "      <td>12.616365</td>\n",
       "      <td>10.059654</td>\n",
       "      <td>9.037999</td>\n",
       "      <td>4.679882</td>\n",
       "      <td>10.280525</td>\n",
       "      <td>4.115453</td>\n",
       "      <td>0.294443</td>\n",
       "      <td>4.833815</td>\n",
       "      <td>3.955396</td>\n",
       "      <td>13.190056</td>\n",
       "      <td>5.300375</td>\n",
       "      <td>-0.168679</td>\n",
       "      <td>1</td>\n",
       "      <td>0</td>\n",
       "      <td>0</td>\n",
       "      <td>0</td>\n",
       "      <td>2</td>\n",
       "    </tr>\n",
       "    <tr>\n",
       "      <th>...</th>\n",
       "      <td>...</td>\n",
       "      <td>...</td>\n",
       "      <td>...</td>\n",
       "      <td>...</td>\n",
       "      <td>...</td>\n",
       "      <td>...</td>\n",
       "      <td>...</td>\n",
       "      <td>...</td>\n",
       "      <td>...</td>\n",
       "      <td>...</td>\n",
       "      <td>...</td>\n",
       "      <td>...</td>\n",
       "      <td>...</td>\n",
       "      <td>...</td>\n",
       "      <td>...</td>\n",
       "      <td>...</td>\n",
       "      <td>...</td>\n",
       "    </tr>\n",
       "    <tr>\n",
       "      <th>13979587</th>\n",
       "      <td>26.297764</td>\n",
       "      <td>10.059654</td>\n",
       "      <td>9.006250</td>\n",
       "      <td>4.679882</td>\n",
       "      <td>10.280525</td>\n",
       "      <td>4.115453</td>\n",
       "      <td>-3.282109</td>\n",
       "      <td>4.833815</td>\n",
       "      <td>3.839578</td>\n",
       "      <td>13.190056</td>\n",
       "      <td>5.300375</td>\n",
       "      <td>-0.168679</td>\n",
       "      <td>1</td>\n",
       "      <td>0</td>\n",
       "      <td>0</td>\n",
       "      <td>0</td>\n",
       "      <td>2</td>\n",
       "    </tr>\n",
       "    <tr>\n",
       "      <th>13979588</th>\n",
       "      <td>12.642207</td>\n",
       "      <td>10.679513</td>\n",
       "      <td>8.214383</td>\n",
       "      <td>-1.700105</td>\n",
       "      <td>10.280525</td>\n",
       "      <td>3.013064</td>\n",
       "      <td>-13.955150</td>\n",
       "      <td>6.269026</td>\n",
       "      <td>3.971858</td>\n",
       "      <td>13.190056</td>\n",
       "      <td>5.300375</td>\n",
       "      <td>-0.168679</td>\n",
       "      <td>1</td>\n",
       "      <td>0</td>\n",
       "      <td>0</td>\n",
       "      <td>1</td>\n",
       "      <td>2</td>\n",
       "    </tr>\n",
       "    <tr>\n",
       "      <th>13979589</th>\n",
       "      <td>12.976557</td>\n",
       "      <td>10.059654</td>\n",
       "      <td>8.381868</td>\n",
       "      <td>0.842442</td>\n",
       "      <td>11.029584</td>\n",
       "      <td>4.115453</td>\n",
       "      <td>-8.281971</td>\n",
       "      <td>4.833815</td>\n",
       "      <td>3.779212</td>\n",
       "      <td>23.570168</td>\n",
       "      <td>6.169187</td>\n",
       "      <td>-0.168679</td>\n",
       "      <td>1</td>\n",
       "      <td>0</td>\n",
       "      <td>1</td>\n",
       "      <td>0</td>\n",
       "      <td>2</td>\n",
       "    </tr>\n",
       "    <tr>\n",
       "      <th>13979590</th>\n",
       "      <td>24.805064</td>\n",
       "      <td>10.059654</td>\n",
       "      <td>8.214383</td>\n",
       "      <td>4.679882</td>\n",
       "      <td>10.280525</td>\n",
       "      <td>4.115453</td>\n",
       "      <td>-1.288207</td>\n",
       "      <td>4.833815</td>\n",
       "      <td>3.971858</td>\n",
       "      <td>13.190056</td>\n",
       "      <td>5.300375</td>\n",
       "      <td>-0.168679</td>\n",
       "      <td>1</td>\n",
       "      <td>0</td>\n",
       "      <td>0</td>\n",
       "      <td>0</td>\n",
       "      <td>2</td>\n",
       "    </tr>\n",
       "    <tr>\n",
       "      <th>13979591</th>\n",
       "      <td>12.616365</td>\n",
       "      <td>10.059654</td>\n",
       "      <td>8.214383</td>\n",
       "      <td>4.679882</td>\n",
       "      <td>10.280525</td>\n",
       "      <td>3.013064</td>\n",
       "      <td>0.294443</td>\n",
       "      <td>9.332563</td>\n",
       "      <td>3.971858</td>\n",
       "      <td>13.190056</td>\n",
       "      <td>5.300375</td>\n",
       "      <td>-0.168679</td>\n",
       "      <td>1</td>\n",
       "      <td>0</td>\n",
       "      <td>0</td>\n",
       "      <td>0</td>\n",
       "      <td>2</td>\n",
       "    </tr>\n",
       "  </tbody>\n",
       "</table>\n",
       "<p>13979592 rows × 17 columns</p>\n",
       "</div>"
      ],
      "text/plain": [
       "                 f0         f1        f2        f3         f4        f5  \\\n",
       "0         12.616365  10.059654  8.976429  4.679882  10.280525  4.115453   \n",
       "1         12.616365  10.059654  9.002689  4.679882  10.280525  4.115453   \n",
       "2         12.616365  10.059654  8.964775  4.679882  10.280525  4.115453   \n",
       "3         12.616365  10.059654  9.002801  4.679882  10.280525  4.115453   \n",
       "4         12.616365  10.059654  9.037999  4.679882  10.280525  4.115453   \n",
       "...             ...        ...       ...       ...        ...       ...   \n",
       "13979587  26.297764  10.059654  9.006250  4.679882  10.280525  4.115453   \n",
       "13979588  12.642207  10.679513  8.214383 -1.700105  10.280525  3.013064   \n",
       "13979589  12.976557  10.059654  8.381868  0.842442  11.029584  4.115453   \n",
       "13979590  24.805064  10.059654  8.214383  4.679882  10.280525  4.115453   \n",
       "13979591  12.616365  10.059654  8.214383  4.679882  10.280525  3.013064   \n",
       "\n",
       "                 f6        f7        f8         f9       f10       f11  \\\n",
       "0          0.294443  4.833815  3.955396  13.190056  5.300375 -0.168679   \n",
       "1          0.294443  4.833815  3.955396  13.190056  5.300375 -0.168679   \n",
       "2          0.294443  4.833815  3.955396  13.190056  5.300375 -0.168679   \n",
       "3          0.294443  4.833815  3.955396  13.190056  5.300375 -0.168679   \n",
       "4          0.294443  4.833815  3.955396  13.190056  5.300375 -0.168679   \n",
       "...             ...       ...       ...        ...       ...       ...   \n",
       "13979587  -3.282109  4.833815  3.839578  13.190056  5.300375 -0.168679   \n",
       "13979588 -13.955150  6.269026  3.971858  13.190056  5.300375 -0.168679   \n",
       "13979589  -8.281971  4.833815  3.779212  23.570168  6.169187 -0.168679   \n",
       "13979590  -1.288207  4.833815  3.971858  13.190056  5.300375 -0.168679   \n",
       "13979591   0.294443  9.332563  3.971858  13.190056  5.300375 -0.168679   \n",
       "\n",
       "          treatment  conversion  visit  exposure  target_class  \n",
       "0                 1           0      0         0             2  \n",
       "1                 1           0      0         0             2  \n",
       "2                 1           0      0         0             2  \n",
       "3                 1           0      0         0             2  \n",
       "4                 1           0      0         0             2  \n",
       "...             ...         ...    ...       ...           ...  \n",
       "13979587          1           0      0         0             2  \n",
       "13979588          1           0      0         1             2  \n",
       "13979589          1           0      1         0             2  \n",
       "13979590          1           0      0         0             2  \n",
       "13979591          1           0      0         0             2  \n",
       "\n",
       "[13979592 rows x 17 columns]"
      ]
     },
     "execution_count": 18,
     "metadata": {},
     "output_type": "execute_result"
    }
   ],
   "source": [
    "raw_df = target_class(raw_df, treatment_col, target_col)\n",
    "raw_df"
   ]
  },
  {
   "cell_type": "code",
   "execution_count": 19,
   "metadata": {},
   "outputs": [
    {
     "name": "stdout",
     "output_type": "stream",
     "text": [
      "(271204, 17)\n",
      "(419388, 17)\n",
      "(2657800, 17)\n"
     ]
    }
   ],
   "source": [
    "# ! Важно\n",
    "# Специально сокращаю объем тренировочных данных,\n",
    "# чтобы была возможность завершить обучение (на полных данных обучение не завершается)\n",
    "train_df, test_df = train_test_split(\n",
    "    raw_df, \n",
    "    test_size=0.03, \n",
    "    random_state=42,\n",
    "    stratify=raw_df[[treatment_col, target_col]]\n",
    ")\n",
    "\n",
    "train_df, val_df = train_test_split(\n",
    "    train_df, \n",
    "    test_size=0.98, \n",
    "    random_state=42,\n",
    "    stratify=train_df[[treatment_col, target_col]]\n",
    ")\n",
    "\n",
    "# ignor_df - объем данных, который исключается из рассмотрения\n",
    "ignor_df, val_df = train_test_split(\n",
    "    val_df,\n",
    "    test_size=0.2,\n",
    "    random_state=42\n",
    ")\n",
    "\n",
    "print(train_df.shape)\n",
    "print(test_df.shape)\n",
    "print(val_df.shape)"
   ]
  },
  {
   "cell_type": "code",
   "execution_count": 20,
   "metadata": {},
   "outputs": [],
   "source": [
    "# Возьмем функцию для оценки qini-curve с прошлого занятия\n",
    "def qini_df(df, title='train', figsize=(5, 3)):\n",
    "    # Отранжируем выборку по значению uplift в убывающем порядке\n",
    "    ranked = df.sort_values(\"uplift_score\", ascending=False)\n",
    "    \n",
    "    N_c = sum(ranked['target_class'] <= 1)\n",
    "    N_t = sum(ranked['target_class'] >= 2)\n",
    "    \n",
    "    # Посчитаем в отсортированном датафрейме основные показатели, которые используются при расчете qini\n",
    "    ranked['n_c1'] = 0\n",
    "    ranked['n_t1'] = 0\n",
    "    ranked.loc[ranked.target_class == 1,'n_c1'] = 1\n",
    "    ranked.loc[ranked.target_class == 3,'n_t1'] = 1\n",
    "    ranked['n_c1/nc'] = ranked.n_c1.cumsum() / N_c\n",
    "    ranked['n_t1/nt'] = ranked.n_t1.cumsum() / N_t\n",
    "    \n",
    "    # Посчитаем qini curve и рандомную прямую под ней\n",
    "    ranked['uplift'] = round(ranked['n_t1/nt'] - ranked['n_c1/nc'],5)\n",
    "    # Добавим случайную кривую\n",
    "    ranked['random_uplift'] = round(ranked[\"uplift_score\"].rank(pct=True, ascending=False) * ranked['uplift'].iloc[-1],5)\n",
    "    \n",
    "    ranked[\"n\"] = ranked[\"uplift_score\"].rank(pct=True, ascending=False)\n",
    "    \n",
    "    # Немного кода для визуализации\n",
    "    fig = plt.figure(figsize=figsize)\n",
    "    plt.plot(ranked['n'], ranked['uplift'], color='r', label='Model')\n",
    "    plt.plot(ranked['n'], ranked['random_uplift'], color='b', label='RandomModel')\n",
    "    plt.legend()\n",
    "    plt.title('Qini-curve for {} samples'.format(title))\n",
    "    plt.show()\n",
    "    quni_score = (ranked['uplift'] - ranked['random_uplift']).sum()\n",
    "    print('Qini score: {:.3f}'.format(quni_score))"
   ]
  },
  {
   "cell_type": "markdown",
   "metadata": {},
   "source": [
    "### Построение модели S-learner (CausalML)"
   ]
  },
  {
   "cell_type": "code",
   "execution_count": 21,
   "metadata": {},
   "outputs": [
    {
     "data": {
      "image/png": "[encoded data removed]",
      "text/plain": [
       "<Figure size 360x216 with 1 Axes>"
      ]
     },
     "metadata": {
      "needs_background": "light"
     },
     "output_type": "display_data"
    },
    {
     "name": "stdout",
     "output_type": "stream",
     "text": [
      "Qini score: 278.649\n"
     ]
    },
    {
     "data": {
      "image/png": "[encoded data removed]",
      "text/plain": [
       "<Figure size 360x216 with 1 Axes>"
      ]
     },
     "metadata": {
      "needs_background": "light"
     },
     "output_type": "display_data"
    },
    {
     "name": "stdout",
     "output_type": "stream",
     "text": [
      "Qini score: 154.586\n"
     ]
    }
   ],
   "source": [
    "# Создадим базовый S-learner\n",
    "s_learner = BaseSClassifier(learner=CatBoostClassifier(random_seed=42, verbose=0))\n",
    "\n",
    "# Для обучения нам нужны датафрейм с факторами, колонка с фактом воздействия\n",
    "s_learner.fit(X=train_df[feature_cols],\n",
    "              treatment=train_df[treatment_col],\n",
    "              y=train_df[target_col])\n",
    "\n",
    "# Сделаем предсказание uplift-эффекта на обучающей выборке\n",
    "uplift_vals = s_learner.predict(np.array(train_df[feature_cols].values.copy()))\n",
    "train_df['uplift_score'] = uplift_vals\n",
    "\n",
    "# Сделаем предсказание uplift-эффекта на тестовой выборке\n",
    "uplift_vals = s_learner.predict(np.array(test_df[feature_cols].values.copy()))\n",
    "test_df['uplift_score'] = uplift_vals\n",
    "\n",
    "# Мы получили какие-то значения в рамках решения задачи классификации, давайте посмотрим на qini score\n",
    "qini_df(train_df, title='train')\n",
    "qini_df(test_df, title='test');"
   ]
  },
  {
   "cell_type": "markdown",
   "metadata": {},
   "source": [
    "### Построение моедил T-learner (CausalML)"
   ]
  },
  {
   "cell_type": "code",
   "execution_count": 22,
   "metadata": {},
   "outputs": [
    {
     "data": {
      "image/png": "[encoded data removed]",
      "text/plain": [
       "<Figure size 360x216 with 1 Axes>"
      ]
     },
     "metadata": {
      "needs_background": "light"
     },
     "output_type": "display_data"
    },
    {
     "name": "stdout",
     "output_type": "stream",
     "text": [
      "Qini score: 592.275\n"
     ]
    },
    {
     "data": {
      "image/png": "[encoded data removed]",
      "text/plain": [
       "<Figure size 360x216 with 1 Axes>"
      ]
     },
     "metadata": {
      "needs_background": "light"
     },
     "output_type": "display_data"
    },
    {
     "name": "stdout",
     "output_type": "stream",
     "text": [
      "Qini score: 83.483\n"
     ]
    }
   ],
   "source": [
    "# Создадим базовый T-learner\n",
    "t_learner = BaseTClassifier(learner=CatBoostClassifier(random_seed=42, verbose=0))\n",
    "\n",
    "# Для обучения нам нужны датафрейм с факторами, колонка с фактом воздействия\n",
    "t_learner.fit(X=train_df[feature_cols],\n",
    "              treatment=train_df[treatment_col],\n",
    "              y=train_df[target_col])\n",
    "\n",
    "# Сделаем предсказание uplift-эффекта на обучающей выборке\n",
    "uplift_vals = t_learner.predict(np.array(train_df[feature_cols].values.copy()))\n",
    "train_df['uplift_score'] = uplift_vals\n",
    "\n",
    "# Сделаем предсказание uplift-эффекта на тестовой выборке\n",
    "uplift_vals = t_learner.predict(np.array(test_df[feature_cols].values.copy()))\n",
    "test_df['uplift_score'] = uplift_vals\n",
    "\n",
    "# Мы получили какие-то значения в рамках решения задачи классификации, давайте посмотрим на qini score\n",
    "qini_df(train_df, title='train')\n",
    "qini_df(test_df, title='test');"
   ]
  },
  {
   "cell_type": "markdown",
   "metadata": {},
   "source": [
    "### Построение модели X-learner (CausalML)"
   ]
  },
  {
   "cell_type": "code",
   "execution_count": 23,
   "metadata": {},
   "outputs": [
    {
     "data": {
      "image/png": "[encoded data removed]",
      "text/plain": [
       "<Figure size 360x216 with 1 Axes>"
      ]
     },
     "metadata": {
      "needs_background": "light"
     },
     "output_type": "display_data"
    },
    {
     "name": "stdout",
     "output_type": "stream",
     "text": [
      "Qini score: 106.710\n"
     ]
    },
    {
     "data": {
      "image/png": "[encoded data removed]",
      "text/plain": [
       "<Figure size 360x216 with 1 Axes>"
      ]
     },
     "metadata": {
      "needs_background": "light"
     },
     "output_type": "display_data"
    },
    {
     "name": "stdout",
     "output_type": "stream",
     "text": [
      "Qini score: 144.944\n"
     ]
    }
   ],
   "source": [
    "# Создадим базовый X-learner\n",
    "x_learner = BaseXClassifier(\n",
    "    outcome_learner=LogisticRegression(random_state=42, verbose=0),\n",
    "    effect_learner=LinearRegression()\n",
    ")\n",
    "\n",
    "# Для обучения нам нужны датафрем с факторами, колонка с фактом воздействия\n",
    "x_learner.fit(\n",
    "    X=train_df[feature_cols],\n",
    "    treatment=train_df[treatment_col],\n",
    "    y=train_df[target_col],\n",
    ")\n",
    "\n",
    "# Сделаем предсказание uplift-эффекта на обучающей выборке\n",
    "uplift_vals = x_learner.predict(np.array(train_df[feature_cols].values.copy()))\n",
    "train_df['uplift_score'] = uplift_vals\n",
    "\n",
    "# Сделаем предсказание uplift-эффекта на тестовой выборке\n",
    "uplift_vals = x_learner.predict(np.array(test_df[feature_cols].values.copy()))\n",
    "test_df['uplift_score'] = uplift_vals\n",
    "\n",
    "# Мы получили какие-то значения рамках решения задачи классификации, давайте посмотрим на qini score\n",
    "qini_df(train_df, title='train')\n",
    "qini_df(test_df, title='test');"
   ]
  },
  {
   "cell_type": "markdown",
   "metadata": {},
   "source": [
    "### Построение модели R-learner (CausalML)"
   ]
  },
  {
   "cell_type": "code",
   "execution_count": 24,
   "metadata": {},
   "outputs": [
    {
     "data": {
      "image/png": "[encoded data removed]",
      "text/plain": [
       "<Figure size 360x216 with 1 Axes>"
      ]
     },
     "metadata": {
      "needs_background": "light"
     },
     "output_type": "display_data"
    },
    {
     "name": "stdout",
     "output_type": "stream",
     "text": [
      "Qini score: 130.520\n"
     ]
    },
    {
     "data": {
      "image/png": "[encoded data removed]",
      "text/plain": [
       "<Figure size 360x216 with 1 Axes>"
      ]
     },
     "metadata": {
      "needs_background": "light"
     },
     "output_type": "display_data"
    },
    {
     "name": "stdout",
     "output_type": "stream",
     "text": [
      "Qini score: 191.740\n"
     ]
    }
   ],
   "source": [
    "# Создадим базовый R-learner\n",
    "r_learner = BaseRClassifier(\n",
    "    outcome_learner=LogisticRegression(random_state=42, verbose=0),\n",
    "    effect_learner=LinearRegression(),\n",
    "    random_state=42\n",
    ")\n",
    "\n",
    "# Для обучения нам нужны датафрейм с факторами, колонка с фактом воздействия\n",
    "r_learner.fit(X=train_df[feature_cols],\n",
    "              treatment=train_df[treatment_col],\n",
    "              y=train_df[target_col])\n",
    "\n",
    "# Сделаем предсказание uplift-эффекта на обучающей выборке\n",
    "uplift_vals = r_learner.predict(np.array(train_df[feature_cols].values.copy()))\n",
    "train_df['uplift_score'] = uplift_vals\n",
    "\n",
    "# Сделаем предсказание uplift-эффекта на тестовой выборке\n",
    "uplift_vals = r_learner.predict(np.array(test_df[feature_cols].values.copy()))\n",
    "test_df['uplift_score'] = uplift_vals\n",
    "\n",
    "# Мы получили какие-то значения в рамках решения задачи классификации, давайте посмотрим на qini score\n",
    "qini_df(train_df, title='train')\n",
    "qini_df(test_df, title='test');"
   ]
  },
  {
   "cell_type": "markdown",
   "metadata": {},
   "source": [
    "### Построение модели UpliftRandomForestClassifier (CausalML)"
   ]
  },
  {
   "cell_type": "code",
   "execution_count": 25,
   "metadata": {},
   "outputs": [
    {
     "data": {
      "image/png": "[encoded data removed]",
      "text/plain": [
       "<Figure size 360x216 with 1 Axes>"
      ]
     },
     "metadata": {
      "needs_background": "light"
     },
     "output_type": "display_data"
    },
    {
     "name": "stdout",
     "output_type": "stream",
     "text": [
      "Qini score: 164.587\n"
     ]
    },
    {
     "data": {
      "image/png": "[encoded data removed]",
      "text/plain": [
       "<Figure size 360x216 with 1 Axes>"
      ]
     },
     "metadata": {
      "needs_background": "light"
     },
     "output_type": "display_data"
    },
    {
     "name": "stdout",
     "output_type": "stream",
     "text": [
      "Qini score: 197.115\n"
     ]
    }
   ],
   "source": [
    "# Создаем простое дерево\n",
    "uplift_forest = UpliftRandomForestClassifier(\n",
    "    n_estimators=100, max_depth=5, min_samples_leaf=200,\n",
    "    min_samples_treatment=50,\n",
    "    n_reg=100, evaluationFunction='ED', control_name='0'\n",
    ")\n",
    "\n",
    "# Для обучения нам нужны датафрейм с факторами, колонка с фактом воздействия\n",
    "# Обратите внимание, что для использования деревьев из CausalML нам необходимо преобразовать фактор воздействия в строку\n",
    "uplift_forest.fit(\n",
    "    train_df[feature_cols].values,\n",
    "    treatment=train_df[treatment_col].apply(str).values,\n",
    "    y=train_df[target_col].values\n",
    ")\n",
    "\n",
    "# Сделаем предсказание uplift-эффекта на обучающей выборке\n",
    "uplift_vals = uplift_forest.predict(np.array(train_df[feature_cols].values.copy()))\n",
    "train_df['uplift_score'] = uplift_vals\n",
    "\n",
    "# Сделаем предсказание uplift-эффекта на тестовой выборке\n",
    "uplift_vals = uplift_forest.predict(np.array(test_df[feature_cols].values.copy()))\n",
    "test_df['uplift_score'] = uplift_vals\n",
    "\n",
    "# Мы получили какие-то значения в рамках решения задачи классификации, давайте посмотрим на qini score\n",
    "qini_df(train_df, title='train')\n",
    "qini_df(test_df, title='test')"
   ]
  },
  {
   "cell_type": "markdown",
   "metadata": {},
   "source": [
    "### Сравнение моделей"
   ]
  },
  {
   "cell_type": "code",
   "execution_count": 26,
   "metadata": {},
   "outputs": [],
   "source": [
    "# Возьмем функцию для оценки qini-curve с прошлого занятия\n",
    "def qini_score(df, title='train'):\n",
    "    # Отранжируем выборку по значению uplift в убывающем порядке\n",
    "    ranked = df.sort_values(\"uplift_score\", ascending=False)\n",
    "    \n",
    "    N_c = sum(ranked['target_class'] <= 1)\n",
    "    N_t = sum(ranked['target_class'] >= 2)\n",
    "    \n",
    "    # Посчитаем в отсортированном датафрейме основные показатели, которые используются при расчете qini\n",
    "    ranked['n_c1'] = 0\n",
    "    ranked['n_t1'] = 0\n",
    "    ranked.loc[ranked.target_class == 1,'n_c1'] = 1\n",
    "    ranked.loc[ranked.target_class == 3,'n_t1'] = 1\n",
    "    ranked['n_c1/nc'] = ranked.n_c1.cumsum() / N_c\n",
    "    ranked['n_t1/nt'] = ranked.n_t1.cumsum() / N_t\n",
    "    \n",
    "    # Посчитаем qini curve и рандомную прямую под ней\n",
    "    ranked['uplift'] = round(ranked['n_t1/nt'] - ranked['n_c1/nc'],5)\n",
    "    # Добавим случайную кривую\n",
    "    ranked['random_uplift'] = round(ranked[\"uplift_score\"].rank(pct=True, ascending=False) * ranked['uplift'].iloc[-1],5)\n",
    "    \n",
    "    ranked[\"n\"] = ranked[\"uplift_score\"].rank(pct=True, ascending=False)\n",
    "    \n",
    "    qini_score = (ranked['uplift'] - ranked['random_uplift']).sum()\n",
    "    return round(qini_score, 2)"
   ]
  },
  {
   "cell_type": "code",
   "execution_count": 27,
   "metadata": {},
   "outputs": [
    {
     "name": "stdout",
     "output_type": "stream",
     "text": [
      "S-learnear (Casual ML): qini score = 1077.61\n",
      "T-learnear (Casual ML): qini score = 540.3\n",
      "X-learnear (Casual ML): qini score = 1200.67\n",
      "R-learnear (Casual ML): qini score = 1420.65\n",
      "UpliftRandomForestClassifier (Causal ML): qini score = 1456.48\n"
     ]
    }
   ],
   "source": [
    "Models = [\n",
    "            ('S-learnear (Casual ML)', s_learner), \n",
    "            ('T-learnear (Casual ML)', t_learner), \n",
    "            ('X-learnear (Casual ML)', x_learner), \n",
    "            ('R-learnear (Casual ML)', r_learner), \n",
    "            ('UpliftRandomForestClassifier (Causal ML)', uplift_forest)\n",
    "]\n",
    "\n",
    "for (modelName, modelType) in Models:\n",
    "    uplift_vals = modelType.predict(np.array(val_df[feature_cols].values.copy()))\n",
    "    val_df['uplift_score'] = uplift_vals   \n",
    "    print(f'{modelName}: qini score = {qini_score(val_df, title=\"validate\")}')"
   ]
  },
  {
   "cell_type": "markdown",
   "metadata": {},
   "source": [
    "Вывод:\n",
    "По результатам сравнения оценок по показателю qini_score наилучший результат показала модель Uplift Random Forest Classifier библиотеки Casual ML"
   ]
  }
 ],
 "metadata": {
  "kernelspec": {
   "display_name": "Python 3",
   "language": "python",
   "name": "python3"
  },
  "language_info": {
   "codemirror_mode": {
    "name": "ipython",
    "version": 3
   },
   "file_extension": ".py",
   "mimetype": "text/x-python",
   "name": "python",
   "nbconvert_exporter": "python",
   "pygments_lexer": "ipython3",
   "version": "3.10.4"
  }
 },
 "nbformat": 4,
 "nbformat_minor": 2
}
