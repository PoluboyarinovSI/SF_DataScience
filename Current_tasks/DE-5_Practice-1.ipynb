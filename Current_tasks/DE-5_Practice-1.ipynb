{
 "cells": [
  {
   "cell_type": "code",
   "execution_count": 2,
   "metadata": {},
   "outputs": [],
   "source": [
    "from selenium import webdriver\n",
    "from selenium.webdriver.common.keys import Keys\n",
    "from selenium.webdriver.common.by import By\n",
    "import time"
   ]
  },
  {
   "cell_type": "code",
   "execution_count": null,
   "metadata": {},
   "outputs": [],
   "source": [
    "driver = webdriver.Chrome() #ChromeDriverManager().install()\n",
    "driver.get('https://tproger.ru/quiz/real-programmer/')\n",
    "driver.find_element(By.ID, \"start_quiz\").send_keys(Keys.ENTER)\n",
    "\n",
    "i = 255\n",
    "while i < 267:\n",
    "    question = driver.find_element(By.XPATH, f'//*[@id=\"quiz_item_{i}\"]/div[1]').text\n",
    "    print(question, end = '\\n\\n')\n",
    "\n",
    "    answers = driver.find_elements(By.CLASS_NAME, \"answer_name\")\n",
    "    for j in answers:\n",
    "        if j.text:\n",
    "            print(j.text, end = '\\n\\n')\n",
    "\n",
    "    time.sleep(5)\n",
    "    answer = driver.find_element(By.XPATH, f'//*[@id=\"quiz_item_{i}\"]/div[2]/div[1]')\n",
    "    answer.click()\n",
    "\n",
    "    right_answer = driver.find_elements(By.CLASS_NAME, \"correct_answer\")\n",
    "    for k in right_answer:\n",
    "        if k.text:\n",
    "            print('right answer is ', k.text, end = '\\n\\n')\n",
    "\n",
    "    time.sleep(5)\n",
    "    driver.find_element(By.XPATH, f'//*[@id=\"quiz_item_{i}\"]/button').send_keys(Keys.ENTER)\n",
    "\n",
    "    i = i + 1\n",
    "\n",
    "driver.close()\n",
    "driver.quit()\n"
   ]
  }
 ],
 "metadata": {
  "kernelspec": {
   "display_name": "Python 3",
   "language": "python",
   "name": "python3"
  },
  "language_info": {
   "codemirror_mode": {
    "name": "ipython",
    "version": 3
   },
   "file_extension": ".py",
   "mimetype": "text/x-python",
   "name": "python",
   "nbconvert_exporter": "python",
   "pygments_lexer": "ipython3",
   "version": "3.10.4"
  },
  "orig_nbformat": 4,
  "vscode": {
   "interpreter": {
    "hash": "c97e36f5c1aa02871b4149eafcab2ec871d39d20911a3254ab29c2172503796d"
   }
  }
 },
 "nbformat": 4,
 "nbformat_minor": 2
}
