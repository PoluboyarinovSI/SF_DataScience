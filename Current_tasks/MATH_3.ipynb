{
 "cells": [
  {
   "cell_type": "markdown",
   "metadata": {},
   "source": [
    "# Математический анализ в контексте задач оптимизации"
   ]
  },
  {
   "cell_type": "markdown",
   "metadata": {},
   "source": [
    "### Метод Ньютона"
   ]
  },
  {
   "cell_type": "code",
   "execution_count": 2,
   "metadata": {},
   "outputs": [],
   "source": [
    "# Описание функции\n",
    "def f_0(x):\n",
    "    return 3*x**2 - 6*x -45\n",
    "# Описание производной функции\n",
    "def f_1(x):\n",
    "    return 6*x - 6"
   ]
  },
  {
   "cell_type": "code",
   "execution_count": 76,
   "metadata": {},
   "outputs": [],
   "source": [
    "# Ручная реализация метода Ньютона\n",
    "def newtons_method(f, der, eps, init):\n",
    "    iter_count = 0\n",
    "    x_curr = init\n",
    "    f_1 = f(x_curr)\n",
    "    while (abs(f_1) > eps):\n",
    "        f_1 = f(x_curr)\n",
    "        f_der = der(x_curr)\n",
    "        x_curr = x_curr - (f_1)/(f_der)\n",
    "        iter_count += 1\n",
    "    return x_curr"
   ]
  },
  {
   "cell_type": "code",
   "execution_count": 77,
   "metadata": {},
   "outputs": [
    {
     "data": {
      "text/plain": [
       "5.000000000000001"
      ]
     },
     "execution_count": 77,
     "metadata": {},
     "output_type": "execute_result"
    }
   ],
   "source": [
    "init_value = 42\n",
    "epsilon = 0.0001\n",
    "\n",
    "newtons_method(f_0, f_1, epsilon, init_value)"
   ]
  },
  {
   "cell_type": "code",
   "execution_count": 3,
   "metadata": {},
   "outputs": [
    {
     "data": {
      "text/plain": [
       "5.0"
      ]
     },
     "execution_count": 3,
     "metadata": {},
     "output_type": "execute_result"
    }
   ],
   "source": [
    "# Стандартная реализация в библиотеке scipy\n",
    "from scipy.optimize import newton\n",
    "newton(func=f_0,x0=50,fprime=f_1, tol=0.0001)"
   ]
  },
  {
   "cell_type": "markdown",
   "metadata": {},
   "source": [
    "### Квазиньютоновские методы"
   ]
  },
  {
   "cell_type": "code",
   "execution_count": 36,
   "metadata": {},
   "outputs": [],
   "source": [
    "import numpy as np\n",
    "from scipy.optimize import minimize"
   ]
  },
  {
   "cell_type": "code",
   "execution_count": 52,
   "metadata": {},
   "outputs": [],
   "source": [
    "# Метод BFGS\n",
    "# Описание функции\n",
    "def func(x):\n",
    "    return x[0]**2.0 -x[0]*x[1] + x[1]**2.0 + x[0]*9 - x[1]*6 + 20\n",
    "# Описание градиента функции\n",
    "def grad_func(x):\n",
    "    return np.array([x[0]*2 - x[1] + 9, x[1]*2]-  x[0] - 6)"
   ]
  },
  {
   "cell_type": "code",
   "execution_count": 53,
   "metadata": {},
   "outputs": [
    {
     "name": "stdout",
     "output_type": "stream",
     "text": [
      "Статус оптимизации Optimization terminated successfully.\n",
      "Количество оценок: 11\n",
      "Решение: f([3.10850139e-07 3.00000004e+00]) = 11.00000\n"
     ]
    }
   ],
   "source": [
    "# Определим алгоритм:\n",
    "x_0 = [-400, -400]\n",
    "result = minimize(func, x_0, method='BFGS', jac=grad_func)\n",
    "# Выведем результаты оптимизации\n",
    "print('Статус оптимизации %s' % result['message'])\n",
    "print('Количество оценок: %d' % result['nfev'])\n",
    "solution = result['x']\n",
    "evaluation = func(solution)\n",
    "print('Решение: f(%s) = %.5f' % (solution, evaluation))"
   ]
  },
  {
   "cell_type": "code",
   "execution_count": 54,
   "metadata": {},
   "outputs": [
    {
     "name": "stdout",
     "output_type": "stream",
     "text": [
      "Статус оптимизации ABNORMAL_TERMINATION_IN_LNSRCH\n",
      "Количество оценок: 68\n",
      "Решение: f([-1.22115751  3.29005994]) = 5.60262\n"
     ]
    }
   ],
   "source": [
    "# то же самое с вариацией  L-BFGS-B\n",
    "result = minimize(func, x_0, method='L-BFGS-B', jac=grad_func)\n",
    "# Выведем результаты оптимизации\n",
    "print('Статус оптимизации %s' % result['message'])\n",
    "print('Количество оценок: %d' % result['nfev'])\n",
    "solution = result['x']\n",
    "evaluation = func(solution)\n",
    "print('Решение: f(%s) = %.5f' % (solution, evaluation))"
   ]
  },
  {
   "cell_type": "markdown",
   "metadata": {},
   "source": [
    "# Задачи линейного программирования"
   ]
  },
  {
   "cell_type": "markdown",
   "metadata": {},
   "source": [
    "### Библиотека Scipy"
   ]
  },
  {
   "cell_type": "code",
   "execution_count": 56,
   "metadata": {},
   "outputs": [],
   "source": [
    "values = [4, 2, 1, 7, 3, 6] # стоимости товаров\n",
    "weights = [5, 9, 8, 2, 6, 5] # вес товаров\n",
    "C = 15 # вместимость сумки\n",
    "n = 6 # количество товаров"
   ]
  },
  {
   "cell_type": "code",
   "execution_count": 58,
   "metadata": {},
   "outputs": [],
   "source": [
    "c = - np.array(values) # изменяем знак, чтобы перейти от задачи максимизации к задаче минимизации\n",
    "A = np.array(weights)  # конвертируем список с весами в массив\n",
    "A = np.expand_dims(A, 0) # преобразуем размерность массива\n",
    "b = np.array([C]) # конвертируем вместимость в массив"
   ]
  },
  {
   "cell_type": "code",
   "execution_count": 61,
   "metadata": {},
   "outputs": [
    {
     "data": {
      "text/plain": [
       "     con: array([], dtype=float64)\n",
       "     fun: -52.50000000003075\n",
       " message: 'Optimization terminated successfully.'\n",
       "     nit: 5\n",
       "   slack: array([-2.24904539e-11])\n",
       "  status: 0\n",
       " success: True\n",
       "       x: array([6.18738537e-14, 1.05853307e-12, 1.21475944e-13, 7.50000000e+00,\n",
       "       4.00246695e-13, 4.71394166e-13])"
      ]
     },
     "execution_count": 61,
     "metadata": {},
     "output_type": "execute_result"
    }
   ],
   "source": [
    "from scipy.optimize import linprog # для решения задач линейного программирования\n",
    "linprog(c=c,\n",
    "        A_ub=A, # ограничения, заданные двумерными массивами\n",
    "        b_ub=b # ограничения, заданные одномерными массивами\n",
    ")"
   ]
  },
  {
   "cell_type": "markdown",
   "metadata": {},
   "source": [
    "### Библиотека CVXPY (для задач целочисленного линейного программирования)"
   ]
  },
  {
   "cell_type": "code",
   "execution_count": 62,
   "metadata": {},
   "outputs": [],
   "source": [
    "import cvxpy"
   ]
  },
  {
   "cell_type": "code",
   "execution_count": 71,
   "metadata": {},
   "outputs": [
    {
     "name": "stderr",
     "output_type": "stream",
     "text": [
      "c:\\Users\\Пользователь\\AppData\\Local\\Programs\\Python\\Python310\\lib\\site-packages\\cvxpy\\expressions\\expression.py:593: UserWarning: \n",
      "This use of ``*`` has resulted in matrix multiplication.\n",
      "Using ``*`` for matrix multiplication has been deprecated since CVXPY 1.1.\n",
      "    Use ``*`` for matrix-scalar and vector-scalar multiplication.\n",
      "    Use ``@`` for matrix-matrix and matrix-vector multiplication.\n",
      "    Use ``multiply`` for elementwise multiplication.\n",
      "This code path has been hit 4 times so far.\n",
      "\n",
      "  warnings.warn(msg, UserWarning)\n"
     ]
    },
    {
     "ename": "SolverError",
     "evalue": "\n\n                    You need a mixed-integer solver for this model. Refer to the documentation\n                        https://www.cvxpy.org/tutorial/advanced/index.html#mixed-integer-programs\n                    for discussion on this topic.\n\n                    Quick fix 1: if you install the python package CVXOPT (pip install cvxopt),\n                    then CVXPY can use the open-source mixed-integer linear programming\n                    solver `GLPK`. If your problem is nonlinear then you can install SCIP\n                    (pip install pyscipopt).\n\n                    Quick fix 2: you can explicitly specify solver='ECOS_BB'. This may result\n                    in incorrect solutions and is not recommended.\n                ",
     "output_type": "error",
     "traceback": [
      "\u001b[1;31m---------------------------------------------------------------------------\u001b[0m",
      "\u001b[1;31mSolverError\u001b[0m                               Traceback (most recent call last)",
      "\u001b[1;32mc:\\SkillFactory\\SF_DataScience\\Current_tasks\\MATH_3.ipynb Ячейка 19\u001b[0m in \u001b[0;36m<cell line: 7>\u001b[1;34m()\u001b[0m\n\u001b[0;32m      <a href='vscode-notebook-cell:/c%3A/SkillFactory/SF_DataScience/Current_tasks/MATH_3.ipynb#X33sZmlsZQ%3D%3D?line=4'>5</a>\u001b[0m total_value \u001b[39m=\u001b[39m c \u001b[39m*\u001b[39m x\n\u001b[0;32m      <a href='vscode-notebook-cell:/c%3A/SkillFactory/SF_DataScience/Current_tasks/MATH_3.ipynb#X33sZmlsZQ%3D%3D?line=5'>6</a>\u001b[0m problem \u001b[39m=\u001b[39m cvxpy\u001b[39m.\u001b[39mProblem(cvxpy\u001b[39m.\u001b[39mMinimize(total_value), constraints\u001b[39m=\u001b[39m[constraint, x_positive])\n\u001b[1;32m----> <a href='vscode-notebook-cell:/c%3A/SkillFactory/SF_DataScience/Current_tasks/MATH_3.ipynb#X33sZmlsZQ%3D%3D?line=6'>7</a>\u001b[0m problem\u001b[39m.\u001b[39;49msolve()\n\u001b[0;32m      <a href='vscode-notebook-cell:/c%3A/SkillFactory/SF_DataScience/Current_tasks/MATH_3.ipynb#X33sZmlsZQ%3D%3D?line=7'>8</a>\u001b[0m x\u001b[39m.\u001b[39mvalue\n",
      "File \u001b[1;32mc:\\Users\\Пользователь\\AppData\\Local\\Programs\\Python\\Python310\\lib\\site-packages\\cvxpy\\problems\\problem.py:481\u001b[0m, in \u001b[0;36mProblem.solve\u001b[1;34m(self, *args, **kwargs)\u001b[0m\n\u001b[0;32m    479\u001b[0m \u001b[39melse\u001b[39;00m:\n\u001b[0;32m    480\u001b[0m     solve_func \u001b[39m=\u001b[39m Problem\u001b[39m.\u001b[39m_solve\n\u001b[1;32m--> 481\u001b[0m \u001b[39mreturn\u001b[39;00m solve_func(\u001b[39mself\u001b[39m, \u001b[39m*\u001b[39margs, \u001b[39m*\u001b[39m\u001b[39m*\u001b[39mkwargs)\n",
      "File \u001b[1;32mc:\\Users\\Пользователь\\AppData\\Local\\Programs\\Python\\Python310\\lib\\site-packages\\cvxpy\\problems\\problem.py:1007\u001b[0m, in \u001b[0;36mProblem._solve\u001b[1;34m(self, solver, warm_start, verbose, gp, qcp, requires_grad, enforce_dpp, ignore_dpp, **kwargs)\u001b[0m\n\u001b[0;32m   1004\u001b[0m         \u001b[39mself\u001b[39m\u001b[39m.\u001b[39munpack(chain\u001b[39m.\u001b[39mretrieve(soln))\n\u001b[0;32m   1005\u001b[0m         \u001b[39mreturn\u001b[39;00m \u001b[39mself\u001b[39m\u001b[39m.\u001b[39mvalue\n\u001b[1;32m-> 1007\u001b[0m data, solving_chain, inverse_data \u001b[39m=\u001b[39m \u001b[39mself\u001b[39;49m\u001b[39m.\u001b[39;49mget_problem_data(\n\u001b[0;32m   1008\u001b[0m     solver, gp, enforce_dpp, ignore_dpp, verbose)\n\u001b[0;32m   1010\u001b[0m \u001b[39mif\u001b[39;00m verbose:\n\u001b[0;32m   1011\u001b[0m     \u001b[39mprint\u001b[39m(_NUM_SOLVER_STR)\n",
      "File \u001b[1;32mc:\\Users\\Пользователь\\AppData\\Local\\Programs\\Python\\Python310\\lib\\site-packages\\cvxpy\\problems\\problem.py:607\u001b[0m, in \u001b[0;36mProblem.get_problem_data\u001b[1;34m(self, solver, gp, enforce_dpp, ignore_dpp, verbose)\u001b[0m\n\u001b[0;32m    605\u001b[0m \u001b[39mif\u001b[39;00m key \u001b[39m!=\u001b[39m \u001b[39mself\u001b[39m\u001b[39m.\u001b[39m_cache\u001b[39m.\u001b[39mkey:\n\u001b[0;32m    606\u001b[0m     \u001b[39mself\u001b[39m\u001b[39m.\u001b[39m_cache\u001b[39m.\u001b[39minvalidate()\n\u001b[1;32m--> 607\u001b[0m     solving_chain \u001b[39m=\u001b[39m \u001b[39mself\u001b[39;49m\u001b[39m.\u001b[39;49m_construct_chain(\n\u001b[0;32m    608\u001b[0m         solver\u001b[39m=\u001b[39;49msolver, gp\u001b[39m=\u001b[39;49mgp,\n\u001b[0;32m    609\u001b[0m         enforce_dpp\u001b[39m=\u001b[39;49menforce_dpp,\n\u001b[0;32m    610\u001b[0m         ignore_dpp\u001b[39m=\u001b[39;49mignore_dpp)\n\u001b[0;32m    611\u001b[0m     \u001b[39mself\u001b[39m\u001b[39m.\u001b[39m_cache\u001b[39m.\u001b[39mkey \u001b[39m=\u001b[39m key\n\u001b[0;32m    612\u001b[0m     \u001b[39mself\u001b[39m\u001b[39m.\u001b[39m_cache\u001b[39m.\u001b[39msolving_chain \u001b[39m=\u001b[39m solving_chain\n",
      "File \u001b[1;32mc:\\Users\\Пользователь\\AppData\\Local\\Programs\\Python\\Python310\\lib\\site-packages\\cvxpy\\problems\\problem.py:843\u001b[0m, in \u001b[0;36mProblem._construct_chain\u001b[1;34m(self, solver, gp, enforce_dpp, ignore_dpp)\u001b[0m\n\u001b[0;32m    813\u001b[0m \u001b[39mdef\u001b[39;00m \u001b[39m_construct_chain\u001b[39m(\n\u001b[0;32m    814\u001b[0m     \u001b[39mself\u001b[39m, solver: Optional[\u001b[39mstr\u001b[39m] \u001b[39m=\u001b[39m \u001b[39mNone\u001b[39;00m, gp: \u001b[39mbool\u001b[39m \u001b[39m=\u001b[39m \u001b[39mFalse\u001b[39;00m,\n\u001b[0;32m    815\u001b[0m     enforce_dpp: \u001b[39mbool\u001b[39m \u001b[39m=\u001b[39m \u001b[39mFalse\u001b[39;00m, ignore_dpp: \u001b[39mbool\u001b[39m \u001b[39m=\u001b[39m \u001b[39mFalse\u001b[39;00m\n\u001b[0;32m    816\u001b[0m ) \u001b[39m-\u001b[39m\u001b[39m>\u001b[39m SolvingChain:\n\u001b[0;32m    817\u001b[0m     \u001b[39m\"\"\"\u001b[39;00m\n\u001b[0;32m    818\u001b[0m \u001b[39m    Construct the chains required to reformulate and solve the problem.\u001b[39;00m\n\u001b[0;32m    819\u001b[0m \n\u001b[1;32m   (...)\u001b[0m\n\u001b[0;32m    841\u001b[0m \u001b[39m    A solving chain\u001b[39;00m\n\u001b[0;32m    842\u001b[0m \u001b[39m    \"\"\"\u001b[39;00m\n\u001b[1;32m--> 843\u001b[0m     candidate_solvers \u001b[39m=\u001b[39m \u001b[39mself\u001b[39;49m\u001b[39m.\u001b[39;49m_find_candidate_solvers(solver\u001b[39m=\u001b[39;49msolver, gp\u001b[39m=\u001b[39;49mgp)\n\u001b[0;32m    844\u001b[0m     \u001b[39mself\u001b[39m\u001b[39m.\u001b[39m_sort_candidate_solvers(candidate_solvers)\n\u001b[0;32m    845\u001b[0m     \u001b[39mreturn\u001b[39;00m construct_solving_chain(\u001b[39mself\u001b[39m, candidate_solvers, gp\u001b[39m=\u001b[39mgp,\n\u001b[0;32m    846\u001b[0m                                    enforce_dpp\u001b[39m=\u001b[39menforce_dpp,\n\u001b[0;32m    847\u001b[0m                                    ignore_dpp\u001b[39m=\u001b[39mignore_dpp)\n",
      "File \u001b[1;32mc:\\Users\\Пользователь\\AppData\\Local\\Programs\\Python\\Python310\\lib\\site-packages\\cvxpy\\problems\\problem.py:760\u001b[0m, in \u001b[0;36mProblem._find_candidate_solvers\u001b[1;34m(self, solver, gp)\u001b[0m\n\u001b[0;32m    745\u001b[0m \u001b[39mif\u001b[39;00m slv_def\u001b[39m.\u001b[39mINSTALLED_MI_SOLVERS \u001b[39m==\u001b[39m [s\u001b[39m.\u001b[39mECOS_BB] \u001b[39mand\u001b[39;00m solver \u001b[39m!=\u001b[39m s\u001b[39m.\u001b[39mECOS_BB:\n\u001b[0;32m    746\u001b[0m     msg \u001b[39m=\u001b[39m \u001b[39m\"\"\"\u001b[39m\n\u001b[0;32m    747\u001b[0m \n\u001b[0;32m    748\u001b[0m \u001b[39m        You need a mixed-integer solver for this model. Refer to the documentation\u001b[39m\n\u001b[1;32m   (...)\u001b[0m\n\u001b[0;32m    758\u001b[0m \u001b[39m        in incorrect solutions and is not recommended.\u001b[39m\n\u001b[0;32m    759\u001b[0m \u001b[39m    \u001b[39m\u001b[39m\"\"\"\u001b[39m\n\u001b[1;32m--> 760\u001b[0m     \u001b[39mraise\u001b[39;00m error\u001b[39m.\u001b[39mSolverError(msg)\n\u001b[0;32m    761\u001b[0m \u001b[39m# TODO: provide a useful error message when the problem is nonlinear but\u001b[39;00m\n\u001b[0;32m    762\u001b[0m \u001b[39m#  the only installed mixed-integer solvers are MILP solvers (e.g., GLPK_MI).\u001b[39;00m\n\u001b[0;32m    763\u001b[0m candidates[\u001b[39m'\u001b[39m\u001b[39mqp_solvers\u001b[39m\u001b[39m'\u001b[39m] \u001b[39m=\u001b[39m [\n\u001b[0;32m    764\u001b[0m     s \u001b[39mfor\u001b[39;00m s \u001b[39min\u001b[39;00m candidates[\u001b[39m'\u001b[39m\u001b[39mqp_solvers\u001b[39m\u001b[39m'\u001b[39m]\n\u001b[0;32m    765\u001b[0m     \u001b[39mif\u001b[39;00m slv_def\u001b[39m.\u001b[39mSOLVER_MAP_QP[s]\u001b[39m.\u001b[39mMIP_CAPABLE]\n",
      "\u001b[1;31mSolverError\u001b[0m: \n\n                    You need a mixed-integer solver for this model. Refer to the documentation\n                        https://www.cvxpy.org/tutorial/advanced/index.html#mixed-integer-programs\n                    for discussion on this topic.\n\n                    Quick fix 1: if you install the python package CVXOPT (pip install cvxopt),\n                    then CVXPY can use the open-source mixed-integer linear programming\n                    solver `GLPK`. If your problem is nonlinear then you can install SCIP\n                    (pip install pyscipopt).\n\n                    Quick fix 2: you can explicitly specify solver='ECOS_BB'. This may result\n                    in incorrect solutions and is not recommended.\n                "
     ]
    }
   ],
   "source": [
    "# С помощью CVXPY создадим переменную-массив. Укажем его размерность, а также условие, что все числа в массиве должны быть целыми\n",
    "x = cvxpy.Variable(shape=n, integer=True)\n",
    "constraint = (A @ x <= b)\n",
    "x_positive = (x >= 0)\n",
    "total_value = c * x\n",
    "problem = cvxpy.Problem(cvxpy.Minimize(total_value), constraints=[constraint, x_positive])\n",
    "problem.solve()\n",
    "x.value"
   ]
  },
  {
   "cell_type": "markdown",
   "metadata": {},
   "source": [
    "### Библиотека PulP"
   ]
  },
  {
   "cell_type": "code",
   "execution_count": 72,
   "metadata": {},
   "outputs": [],
   "source": [
    "from pulp import *"
   ]
  },
  {
   "cell_type": "code",
   "execution_count": 73,
   "metadata": {},
   "outputs": [
    {
     "name": "stderr",
     "output_type": "stream",
     "text": [
      "c:\\Users\\Пользователь\\AppData\\Local\\Programs\\Python\\Python310\\lib\\site-packages\\pulp\\pulp.py:1352: UserWarning: Spaces are not permitted in the name. Converted to '_'\n",
      "  warnings.warn(\"Spaces are not permitted in the name. Converted to '_'\")\n"
     ]
    },
    {
     "name": "stdout",
     "output_type": "stream",
     "text": [
      "Количество автомобилей модели А:  1.0\n",
      "Количество автомобилей модели В:  4.0\n",
      "Суммарный доход:  200000.0\n"
     ]
    }
   ],
   "source": [
    "problem = LpProblem('Производство машин', LpMaximize)\n",
    "A = LpVariable('Автомобиль A', lowBound=0 , cat=LpInteger)\n",
    "B = LpVariable('Автомобиль B', lowBound=0 , cat=LpInteger)\n",
    "#Целевая функция\n",
    "problem += 20000*A + 45000*B \n",
    "#Ограничения\n",
    "problem += 4*A + 5*B <= 30 \n",
    "problem += 3*A + 6*B <=30\n",
    "problem += 2*A + 7*B <=30\n",
    "problem.solve()\n",
    "print(\"Количество автомобилей модели А: \", A.varValue)\n",
    "print(\"Количество автомобилей модели В: \", B.varValue)\n",
    "print(\"Суммарный доход: \", value(problem.objective))"
   ]
  },
  {
   "cell_type": "code",
   "execution_count": 74,
   "metadata": {},
   "outputs": [],
   "source": [
    "cost = np.array([\n",
    "    [2, 5, 3],\n",
    "    [7, 7, 6]\n",
    "])\n",
    "stock = np.array([180, 220])\n",
    "demand = np.array([110, 150, 140])\n",
    "num_warehouse = 2\n",
    "num_clients = 3"
   ]
  },
  {
   "cell_type": "code",
   "execution_count": 75,
   "metadata": {},
   "outputs": [],
   "source": [
    "c = cost.flatten()"
   ]
  },
  {
   "cell_type": "code",
   "execution_count": null,
   "metadata": {},
   "outputs": [],
   "source": []
  }
 ],
 "metadata": {
  "kernelspec": {
   "display_name": "Python 3.10.4 64-bit (system)",
   "language": "python",
   "name": "python3"
  },
  "language_info": {
   "codemirror_mode": {
    "name": "ipython",
    "version": 3
   },
   "file_extension": ".py",
   "mimetype": "text/x-python",
   "name": "python",
   "nbconvert_exporter": "python",
   "pygments_lexer": "ipython3",
   "version": "3.10.4"
  },
  "orig_nbformat": 4,
  "vscode": {
   "interpreter": {
    "hash": "c97e36f5c1aa02871b4149eafcab2ec871d39d20911a3254ab29c2172503796d"
   }
  }
 },
 "nbformat": 4,
 "nbformat_minor": 2
}
