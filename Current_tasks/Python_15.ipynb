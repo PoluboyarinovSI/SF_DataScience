{
 "cells": [
  {
   "cell_type": "markdown",
   "metadata": {},
   "source": [
    "PYTHON-15. Принципы ООП в Python и отладка кода "
   ]
  },
  {
   "cell_type": "code",
   "execution_count": 1,
   "metadata": {},
   "outputs": [
    {
     "name": "stdout",
     "output_type": "stream",
     "text": [
      "Average department revenue for Danon: 700000\n"
     ]
    }
   ],
   "source": [
    "from statistics import mean\n",
    "class DepartmentReport():\n",
    "    def __init__(self, company_name) -> None:\n",
    "        self.revenues = []\n",
    "        self.company_name = company_name\n",
    "    \n",
    "    def add_revenue(self,  revenue):\n",
    "        self.revenues.append(revenue)\n",
    "        \n",
    "    def average_revenue(self):\n",
    "        return str(f'Average department revenue for {self.company_name}: {round(mean(self.revenues))}')\n",
    "    \n",
    "report = DepartmentReport(\"Danon\")\n",
    "report.add_revenue(1_000_000)\n",
    "report.add_revenue(400_000)\n",
    "print(report.average_revenue())"
   ]
  },
  {
   "cell_type": "code",
   "execution_count": 2,
   "metadata": {},
   "outputs": [
    {
     "name": "stdout",
     "output_type": "stream",
     "text": [
      "19700\n"
     ]
    }
   ],
   "source": [
    "class User():\n",
    "    def __init__(self, email, password, balance) -> None:\n",
    "        self.email = email\n",
    "        self.password = password\n",
    "        self.balance = balance\n",
    "    \n",
    "    \n",
    "    def login(self, email, password):\n",
    "        if email==self.email and password==self.password:\n",
    "            return True\n",
    "        return False\n",
    "    \n",
    "    \n",
    "    def update_balance(self, amount):\n",
    "        self.balance += amount\n",
    "\n",
    "\n",
    "user = User(\"gosha@roskino.org\", \"qwerty\", 20_000)\n",
    "user.login(\"gosha@roskino.org\", \"qwerty123\")\n",
    "\n",
    "user.login(\"gosha@roskino.org\", \"qwerty\")\n",
    "\n",
    "user.update_balance(200)\n",
    "user.update_balance(-500)\n",
    "print(user.balance)\n",
    "    "
   ]
  },
  {
   "cell_type": "code",
   "execution_count": 3,
   "metadata": {},
   "outputs": [
    {
     "name": "stdout",
     "output_type": "stream",
     "text": [
      "[4, 4, 3, 0, 2, 0, 4]\n",
      "5\n",
      "4\n"
     ]
    }
   ],
   "source": [
    "class IntDataFrame():\n",
    "    def __init__(self, list) -> None:\n",
    "        self.list = list\n",
    "        self.to_int()\n",
    "    \n",
    "    \n",
    "    def to_int(self):\n",
    "        for i, elem in enumerate(self.list):\n",
    "            self.list[i] = int(elem)\n",
    "    \n",
    "    \n",
    "    def count(self):\n",
    "        self.nnull = 0\n",
    "        for elem in self.list:\n",
    "            if elem != 0:\n",
    "                self.nnull += 1\n",
    "        return self.nnull\n",
    "    \n",
    "    \n",
    "    def unique(self):\n",
    "        self.nunique = []\n",
    "        for elem in self.list:\n",
    "            if elem in self.nunique:\n",
    "                pass\n",
    "            else:\n",
    "                self.nunique.append(elem)\n",
    "        return len(self.nunique)\n",
    "\n",
    "\n",
    "df = IntDataFrame([4.7, 4, 3, 0, 2.4, 0.3, 4])\n",
    "print(df.list)\n",
    "print(df.count())\n",
    "print(df.unique())\n"
   ]
  },
  {
   "cell_type": "code",
   "execution_count": 4,
   "metadata": {},
   "outputs": [
    {
     "name": "stdout",
     "output_type": "stream",
     "text": [
      "None\n",
      "Connection lost\n",
      "System started\n"
     ]
    }
   ],
   "source": [
    "class OwnLogger():\n",
    "    def __init__(self) -> None:\n",
    "        self.dict = {}\n",
    "        self.last_message = None\n",
    "    \n",
    "    def log(self, message, level):\n",
    "        if level in self.dict:\n",
    "            self.dict[level].append(message)\n",
    "        else:\n",
    "            self.dict[level] = [message]\n",
    "        self.last_message = message\n",
    "\n",
    "    \n",
    "    def show_last(self, level='all'):\n",
    "        if level=='all':\n",
    "            return self.last_message\n",
    "        if level in self.dict:\n",
    "            return self.dict[level][-1]\n",
    "        return None\n",
    "\n",
    "\n",
    "logger = OwnLogger()\n",
    "logger.log(\"System started\", \"info\")\n",
    "print(logger.show_last(\"error\"))\n",
    "\n",
    "logger.log(\"Connection instable\", \"warning\")\n",
    "logger.log(\"Connection lost\", \"error\")\n",
    "print(logger.show_last())\n",
    "\n",
    "print(logger.show_last(\"info\"))"
   ]
  },
  {
   "cell_type": "code",
   "execution_count": 5,
   "metadata": {},
   "outputs": [
    {
     "name": "stdout",
     "output_type": "stream",
     "text": [
      "/home/sergey/Github/SF_DataScience/Current_tasks\n"
     ]
    }
   ],
   "source": [
    "start_path = os.getcwd()\n",
    "print(start_path) "
   ]
  },
  {
   "cell_type": "code",
   "execution_count": 6,
   "metadata": {},
   "outputs": [
    {
     "data": {
      "text/plain": [
       "'/home/sergey/Github/SF_DataScience'"
      ]
     },
     "execution_count": 6,
     "metadata": {},
     "output_type": "execute_result"
    }
   ],
   "source": [
    "os.chdir(\"..\") # подняться на один уровень выше\n",
    "os.getcwd() # '/home/nbuser'"
   ]
  },
  {
   "cell_type": "code",
   "execution_count": 7,
   "metadata": {},
   "outputs": [
    {
     "data": {
      "text/plain": [
       "'/home/sergey/Github/SF_DataScience/Current_tasks'"
      ]
     },
     "execution_count": 7,
     "metadata": {},
     "output_type": "execute_result"
    }
   ],
   "source": [
    "os.chdir(start_path)\n",
    "os.getcwd() # '/home/nbuser/library'"
   ]
  },
  {
   "cell_type": "code",
   "execution_count": 9,
   "metadata": {},
   "outputs": [
    {
     "name": "stdout",
     "output_type": "stream",
     "text": [
      "['Python_14.ipynb', 'Python_15.ipynb', 'Python_13.ipynb', 'data']\n",
      "Файл отсутствует в данной директории\n"
     ]
    }
   ],
   "source": [
    "print(os.listdir()) # ['SnapchatLoader', 'FBLoader', 'tmp.py', '.gitignore', 'venv', '.git']\n",
    "\n",
    "if 'tmp.py' not in os.listdir():\n",
    "    print(\"Файл отсутствует в данной директории\")"
   ]
  }
 ],
 "metadata": {
  "interpreter": {
   "hash": "ed0d0c232d8cfb85f8b9627b989aa227e3f10509477ed496070cceb81a64ee7d"
  },
  "kernelspec": {
   "display_name": "Python 3.8.12 64-bit ('sf': conda)",
   "language": "python",
   "name": "python3"
  },
  "language_info": {
   "codemirror_mode": {
    "name": "ipython",
    "version": 3
   },
   "file_extension": ".py",
   "mimetype": "text/x-python",
   "name": "python",
   "nbconvert_exporter": "python",
   "pygments_lexer": "ipython3",
   "version": "3.8.12"
  },
  "orig_nbformat": 4
 },
 "nbformat": 4,
 "nbformat_minor": 2
}
