{
 "cells": [
  {
   "cell_type": "code",
   "execution_count": 468,
   "metadata": {},
   "outputs": [],
   "source": [
    "import datetime\n",
    "from time import sleep, time\n",
    "\n",
    "from selenium import webdriver\n",
    "from selenium.webdriver.support.ui import WebDriverWait\n",
    "from selenium.webdriver.support import expected_conditions as EC\n",
    "from selenium.webdriver.common.by import By\n",
    "import requests\n",
    "from bs4 import BeautifulSoup\n",
    "import csv\n",
    "from pathlib import Path"
   ]
  },
  {
   "cell_type": "code",
   "execution_count": 469,
   "metadata": {},
   "outputs": [],
   "source": [
    "# Объявление констант\n",
    "filename = \"articles_info.csv\" # имя файла, в который будем сохранять результат\n",
    "driver_path = \"/data/chromedriver\" # укажите ваш путь к chromedriver, который вы загрузили ранее\n",
    "base_dir = \"data\" # укажите директорию, в которую будем сохранять файл\n",
    "user_agent = \"Mozilla/5.0 (Windows NT 10.0; Win64; x64) AppleWebKit/537.36 (KHTML, like Gecko) Chrome/112.0.0.0 Safari/537.36\" #Ваш user-agent. Узнать можно тут https://юзерагент.рф, смотреть с браузера Chrome\n",
    "start_time = time() # время начала выполнения программы"
   ]
  },
  {
   "cell_type": "code",
   "execution_count": 470,
   "metadata": {},
   "outputs": [],
   "source": [
    "def get_load_time(article_url, user_agent):\n",
    "    #будем ждать 3 секунды, иначе выводить exception и присваивать константное значение\n",
    "    try:\n",
    "        # меняем значение заголовка. По умолчанию указано, что это python-код\n",
    "        headers = {\n",
    "            \"User-Agent\": user_agent\n",
    "        }\n",
    "        # делаем запрос по url статьи article_url\n",
    "        response = requests.get(\n",
    "            article_url, headers=headers, stream=True, timeout=3.000\n",
    "        )\n",
    "        # получаем время загрузки страницы\n",
    "        load_time = response.elapsed.total_seconds()\n",
    "    except Exception as e:\n",
    "        print(e)\n",
    "        load_time = \">3\"\n",
    "    return load_time"
   ]
  },
  {
   "cell_type": "code",
   "execution_count": 471,
   "metadata": {},
   "outputs": [],
   "source": [
    "def write_to_file(output_list, filename, base_dir):\n",
    "    for row in output_list:\n",
    "        with open(Path(base_dir).joinpath(filename), \"a\") as csvfile:\n",
    "            fieldnames = [\"id\", \"load_time\", \"rank\", \"points\", \n",
    "                          #\"title\", \n",
    "                          \"url\"]\n",
    "            writer = csv.DictWriter(csvfile, fieldnames=fieldnames)\n",
    "            writer.writerow(row)"
   ]
  },
  {
   "cell_type": "code",
   "execution_count": 472,
   "metadata": {},
   "outputs": [],
   "source": [
    "def connect_to_base(browser, page_number):\n",
    "    base_url = \"https://news.ycombinator.com/news?p={}\".format(page_number)\n",
    "    for connection_attempts in range(1,4): # совершаем 3 попытки подключения\n",
    "        try:\n",
    "            browser.get(base_url)\n",
    "            # ожидаем пока элемент table с id = 'hnmain' будет загружен на страницу\n",
    "            # затем функция вернет True иначе False \n",
    "            WebDriverWait(browser, 5).until(\n",
    "                EC.presence_of_element_located((By.ID, \"hnmain\"))\n",
    "            )\n",
    "            return True\n",
    "        except Exception as e:\n",
    "            print(e)\n",
    "            print(\"Error connecting to {}.\".format(base_url))\n",
    "            print(\"Attempt #{}.\".format(connection_attempts))\n",
    "    return False"
   ]
  },
  {
   "cell_type": "code",
   "execution_count": 473,
   "metadata": {},
   "outputs": [],
   "source": [
    "def parse_html(html, user_agent):\n",
    "    soup = BeautifulSoup(html, \"html.parser\")\n",
    "    output_list = []\n",
    "\n",
    "    '''\n",
    "    # ищем в объекте commenst\n",
    "    td_blocks = soup.find_all(\"span\", class_=\"subtext\")\n",
    "    print(soup.find_all(\"href\", class_=\"subtext\"))\n",
    "    for td in td_blocks:\n",
    "        comments = td.find_all(\"a\")[3][\"href\"]\n",
    "        print(comments)\n",
    "        print(soup.find(href=comments))\n",
    "    '''\n",
    "\n",
    "    # ищем в объекте soup object id, rank, score и title статьи\n",
    "    tr_blocks = soup.find_all(\"tr\", class_=\"athing\")\n",
    "    article = 0\n",
    "    for tr in tr_blocks:\n",
    "        article_id = tr.get(\"id\") # id\n",
    "        article_url = tr.find_all(\"a\")[1][\"href\"]\n",
    "        \n",
    "# иногда статья располагается не на внешнем сайте, а на ycombinator, тогда article_url у нее не полный, а добавочный, с параметрами. Например item?id=200933. Для этих случаев будем добавлять урл до полного\n",
    "        if \"item?id=\" in article_url or \"from?site=\" in article_url:\n",
    "            article_url = f\"https://news.ycombinator.com/{article_url}\"\n",
    "        load_time = get_load_time(article_url, user_agent)\n",
    "\t# иногда рейтинга может не быть, поэтому воспользуемся try\n",
    "\n",
    "        try:\n",
    "            score = soup.find(id=f\"score_{article_id}\").string\n",
    "        except Exception as e:\n",
    "            print(e)\n",
    "            score = \"0 points\"      \n",
    "        \n",
    "        article_info = {\n",
    "            \"id\": article_id,\n",
    "            \"load_time\": load_time,\n",
    "            \"rank\": tr.span.string,\n",
    "            \"points\": score,\n",
    "            #\"title\": tr.find(class_=\"storylink\").string,\n",
    "            \"url\": article_url,\n",
    "        }\n",
    "\n",
    "        # добавляем информацию о статье в список\n",
    "        output_list.append(article_info)\n",
    "        article += 1\n",
    "            \n",
    "    return output_list"
   ]
  },
  {
   "cell_type": "code",
   "execution_count": 474,
   "metadata": {},
   "outputs": [
    {
     "name": "stdout",
     "output_type": "stream",
     "text": [
      "getting page 0...\n",
      "[]\n",
      "HTTPSConnectionPool(host='www.bbc.com', port=443): Read timed out. (read timeout=3.0)\n",
      "getting page 1...\n",
      "[]\n",
      "HTTPSConnectionPool(host='www.bbc.com', port=443): Read timed out. (read timeout=3.0)\n",
      "getting page 2...\n"
     ]
    },
    {
     "ename": "KeyboardInterrupt",
     "evalue": "",
     "output_type": "error",
     "traceback": [
      "\u001b[1;31m---------------------------------------------------------------------------\u001b[0m",
      "\u001b[1;31mKeyboardInterrupt\u001b[0m                         Traceback (most recent call last)",
      "\u001b[1;32mc:\\SkillFactory\\SF_DataScience\\Current_tasks\\DE-5_Practice-2.ipynb Ячейка 7\u001b[0m in \u001b[0;36m<cell line: 7>\u001b[1;34m()\u001b[0m\n\u001b[0;32m      <a href='vscode-notebook-cell:/c%3A/SkillFactory/SF_DataScience/Current_tasks/DE-5_Practice-2.ipynb#W6sZmlsZQ%3D%3D?line=7'>8</a>\u001b[0m \u001b[39mprint\u001b[39m(\u001b[39m\"\u001b[39m\u001b[39mgetting page \u001b[39m\u001b[39m\"\u001b[39m \u001b[39m+\u001b[39m \u001b[39mstr\u001b[39m(page_number) \u001b[39m+\u001b[39m \u001b[39m\"\u001b[39m\u001b[39m...\u001b[39m\u001b[39m\"\u001b[39m)\n\u001b[0;32m      <a href='vscode-notebook-cell:/c%3A/SkillFactory/SF_DataScience/Current_tasks/DE-5_Practice-2.ipynb#W6sZmlsZQ%3D%3D?line=8'>9</a>\u001b[0m \u001b[39mif\u001b[39;00m connect_to_base(browser, page_number):\n\u001b[1;32m---> <a href='vscode-notebook-cell:/c%3A/SkillFactory/SF_DataScience/Current_tasks/DE-5_Practice-2.ipynb#W6sZmlsZQ%3D%3D?line=9'>10</a>\u001b[0m     sleep(\u001b[39m5\u001b[39;49m)\n\u001b[0;32m     <a href='vscode-notebook-cell:/c%3A/SkillFactory/SF_DataScience/Current_tasks/DE-5_Practice-2.ipynb#W6sZmlsZQ%3D%3D?line=10'>11</a>\u001b[0m     output_list \u001b[39m=\u001b[39m parse_html(browser\u001b[39m.\u001b[39mpage_source, user_agent)\n\u001b[0;32m     <a href='vscode-notebook-cell:/c%3A/SkillFactory/SF_DataScience/Current_tasks/DE-5_Practice-2.ipynb#W6sZmlsZQ%3D%3D?line=11'>12</a>\u001b[0m     write_to_file(output_list, filename, base_dir)\n",
      "\u001b[1;31mKeyboardInterrupt\u001b[0m: "
     ]
    }
   ],
   "source": [
    "# инициализируем веб драйвер\n",
    "browser = webdriver.Chrome(\n",
    "    #executable_path=driver_path\n",
    ")\n",
    "\n",
    "# перебираем страницы и собираем нужную информацию\n",
    "for page_number in range(10):\n",
    "    print(\"getting page \" + str(page_number) + \"...\")\n",
    "    if connect_to_base(browser, page_number):\n",
    "        sleep(5)\n",
    "        output_list = parse_html(browser.page_source, user_agent)\n",
    "        write_to_file(output_list, filename, base_dir)\n",
    "\n",
    "    else:\n",
    "        print(\"Error connecting to hacker news\")\n",
    "    \n",
    "# завершаем работу драйвера\n",
    "browser.close()\n",
    "sleep(1)\n",
    "browser.quit()\n",
    "end_time = time()\n",
    "elapsed_time = end_time - start_time\n",
    "print(\"run time: {} seconds\".format(elapsed_time))"
   ]
  },
  {
   "cell_type": "code",
   "execution_count": null,
   "metadata": {},
   "outputs": [
    {
     "ename": "SyntaxError",
     "evalue": "invalid syntax (338975100.py, line 2)",
     "output_type": "error",
     "traceback": [
      "\u001b[1;36m  Input \u001b[1;32mIn [460]\u001b[1;36m\u001b[0m\n\u001b[1;33m    //*[@id=\"hnmain\"]/tbody/tr[3]/td/table/tbody/tr[2]/td[2]/span/a[3]\u001b[0m\n\u001b[1;37m    ^\u001b[0m\n\u001b[1;31mSyntaxError\u001b[0m\u001b[1;31m:\u001b[0m invalid syntax\n"
     ]
    }
   ],
   "source": [
    "#hnmain > tbody > tr:nth-child(3) > td > table > tbody > tr:nth-child(2) > td.subtext > span > a:nth-child(6)\n",
    "#//*[@id=\"hnmain\"]/tbody/tr[3]/td/table/tbody/tr[2]/td[2]/span/a[3]"
   ]
  }
 ],
 "metadata": {
  "kernelspec": {
   "display_name": "Python 3",
   "language": "python",
   "name": "python3"
  },
  "language_info": {
   "codemirror_mode": {
    "name": "ipython",
    "version": 3
   },
   "file_extension": ".py",
   "mimetype": "text/x-python",
   "name": "python",
   "nbconvert_exporter": "python",
   "pygments_lexer": "ipython3",
   "version": "3.10.4"
  },
  "orig_nbformat": 4,
  "vscode": {
   "interpreter": {
    "hash": "c97e36f5c1aa02871b4149eafcab2ec871d39d20911a3254ab29c2172503796d"
   }
  }
 },
 "nbformat": 4,
 "nbformat_minor": 2
}
