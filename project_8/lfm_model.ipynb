{
  "cells": [
    {
      "cell_type": "markdown",
      "metadata": {
        "id": "view-in-github",
        "colab_type": "text"
      },
      "source": [
        "<a href=\"https://colab.research.google.com/github/PoluboyarinovSI/SF_DataScience/blob/main/project_8/lfm_model.ipynb\" target=\"_parent\"><img src=\"https://colab.research.google.com/assets/colab-badge.svg\" alt=\"Open In Colab\"/></a>"
      ]
    },
    {
      "cell_type": "code",
      "execution_count": 1,
      "metadata": {
        "colab": {
          "base_uri": "https://localhost:8080/"
        },
        "id": "2f7pMGURoIiw",
        "outputId": "758c3a15-343f-4931-865f-e0f93a5df0c4"
      },
      "outputs": [
        {
          "output_type": "stream",
          "name": "stdout",
          "text": [
            "Collecting lightfm\n",
            "  Downloading lightfm-1.17.tar.gz (316 kB)\n",
            "\u001b[?25l     \u001b[90m━━━━━━━━━━━━━━━━━━━━━━━━━━━━━━━━━━━━━━━━\u001b[0m \u001b[32m0.0/316.4 kB\u001b[0m \u001b[31m?\u001b[0m eta \u001b[36m-:--:--\u001b[0m\r\u001b[2K     \u001b[91m━━━━━━━━━━━━━━━━━━━━━━━\u001b[0m\u001b[90m╺\u001b[0m\u001b[90m━━━━━━━━━━━━━━━━\u001b[0m \u001b[32m184.3/316.4 kB\u001b[0m \u001b[31m5.3 MB/s\u001b[0m eta \u001b[36m0:00:01\u001b[0m\r\u001b[2K     \u001b[90m━━━━━━━━━━━━━━━━━━━━━━━━━━━━━━━━━━━━━━━━\u001b[0m \u001b[32m316.4/316.4 kB\u001b[0m \u001b[31m5.6 MB/s\u001b[0m eta \u001b[36m0:00:00\u001b[0m\n",
            "\u001b[?25h  Preparing metadata (setup.py) ... \u001b[?25l\u001b[?25hdone\n",
            "Requirement already satisfied: numpy in /usr/local/lib/python3.10/dist-packages (from lightfm) (1.25.2)\n",
            "Requirement already satisfied: scipy>=0.17.0 in /usr/local/lib/python3.10/dist-packages (from lightfm) (1.11.4)\n",
            "Requirement already satisfied: requests in /usr/local/lib/python3.10/dist-packages (from lightfm) (2.31.0)\n",
            "Requirement already satisfied: scikit-learn in /usr/local/lib/python3.10/dist-packages (from lightfm) (1.2.2)\n",
            "Requirement already satisfied: charset-normalizer<4,>=2 in /usr/local/lib/python3.10/dist-packages (from requests->lightfm) (3.3.2)\n",
            "Requirement already satisfied: idna<4,>=2.5 in /usr/local/lib/python3.10/dist-packages (from requests->lightfm) (3.7)\n",
            "Requirement already satisfied: urllib3<3,>=1.21.1 in /usr/local/lib/python3.10/dist-packages (from requests->lightfm) (2.0.7)\n",
            "Requirement already satisfied: certifi>=2017.4.17 in /usr/local/lib/python3.10/dist-packages (from requests->lightfm) (2024.6.2)\n",
            "Requirement already satisfied: joblib>=1.1.1 in /usr/local/lib/python3.10/dist-packages (from scikit-learn->lightfm) (1.4.2)\n",
            "Requirement already satisfied: threadpoolctl>=2.0.0 in /usr/local/lib/python3.10/dist-packages (from scikit-learn->lightfm) (3.5.0)\n",
            "Building wheels for collected packages: lightfm\n",
            "  Building wheel for lightfm (setup.py) ... \u001b[?25l\u001b[?25hdone\n",
            "  Created wheel for lightfm: filename=lightfm-1.17-cp310-cp310-linux_x86_64.whl size=808333 sha256=0c435d1cc9b1cc11e0e75d77d1958ab6b12b34f988bd77afd1581240ea7d2d97\n",
            "  Stored in directory: /root/.cache/pip/wheels/4f/9b/7e/0b256f2168511d8fa4dae4fae0200fdbd729eb424a912ad636\n",
            "Successfully built lightfm\n",
            "Installing collected packages: lightfm\n",
            "Successfully installed lightfm-1.17\n"
          ]
        }
      ],
      "source": [
        "!pip install lightfm\n",
        "import numpy as np\n",
        "import pandas as pd\n",
        "\n",
        "from sklearn import preprocessing, metrics\n",
        "from scipy import sparse\n",
        "from scipy.sparse import coo_matrix, csr_matrix\n",
        "\n",
        "from lightfm import LightFM\n",
        "from lightfm.data import Dataset\n",
        "from lightfm.evaluation import precision_at_k, auc_score\n",
        "\n",
        "import warnings\n",
        "warnings.filterwarnings(\"ignore\")"
      ]
    },
    {
      "cell_type": "code",
      "execution_count": 2,
      "metadata": {
        "colab": {
          "base_uri": "https://localhost:8080/",
          "height": 313
        },
        "id": "MXleck7BoIiz",
        "outputId": "da01d052-f6fc-403e-c704-d94679e7c096"
      },
      "outputs": [
        {
          "output_type": "display_data",
          "data": {
            "text/plain": [
              "       timestamp  visitorid event  itemid  transactionid  event_grade  \\\n",
              "0  1433221332117     257597  view  355908            NaN            0   \n",
              "1  1433224214164     992329  view  248676            NaN            0   \n",
              "2  1433221999827     111016  view  318965            NaN            0   \n",
              "3  1433221955914     483717  view  253185            NaN            0   \n",
              "4  1433221337106     951259  view  367447            NaN            0   \n",
              "\n",
              "                     date  year  month  day_of_week  hour  \n",
              "0 2015-06-02 05:02:12.117  2015      6            2     5  \n",
              "1 2015-06-02 05:50:14.164  2015      6            2     5  \n",
              "2 2015-06-02 05:13:19.827  2015      6            2     5  \n",
              "3 2015-06-02 05:12:35.914  2015      6            2     5  \n",
              "4 2015-06-02 05:02:17.106  2015      6            2     5  "
            ],
            "text/html": [
              "\n",
              "  <div id=\"df-6e541091-62a3-40de-b824-5c65e9d506d7\" class=\"colab-df-container\">\n",
              "    <div>\n",
              "<style scoped>\n",
              "    .dataframe tbody tr th:only-of-type {\n",
              "        vertical-align: middle;\n",
              "    }\n",
              "\n",
              "    .dataframe tbody tr th {\n",
              "        vertical-align: top;\n",
              "    }\n",
              "\n",
              "    .dataframe thead th {\n",
              "        text-align: right;\n",
              "    }\n",
              "</style>\n",
              "<table border=\"1\" class=\"dataframe\">\n",
              "  <thead>\n",
              "    <tr style=\"text-align: right;\">\n",
              "      <th></th>\n",
              "      <th>timestamp</th>\n",
              "      <th>visitorid</th>\n",
              "      <th>event</th>\n",
              "      <th>itemid</th>\n",
              "      <th>transactionid</th>\n",
              "      <th>event_grade</th>\n",
              "      <th>date</th>\n",
              "      <th>year</th>\n",
              "      <th>month</th>\n",
              "      <th>day_of_week</th>\n",
              "      <th>hour</th>\n",
              "    </tr>\n",
              "  </thead>\n",
              "  <tbody>\n",
              "    <tr>\n",
              "      <th>0</th>\n",
              "      <td>1433221332117</td>\n",
              "      <td>257597</td>\n",
              "      <td>view</td>\n",
              "      <td>355908</td>\n",
              "      <td>NaN</td>\n",
              "      <td>0</td>\n",
              "      <td>2015-06-02 05:02:12.117</td>\n",
              "      <td>2015</td>\n",
              "      <td>6</td>\n",
              "      <td>2</td>\n",
              "      <td>5</td>\n",
              "    </tr>\n",
              "    <tr>\n",
              "      <th>1</th>\n",
              "      <td>1433224214164</td>\n",
              "      <td>992329</td>\n",
              "      <td>view</td>\n",
              "      <td>248676</td>\n",
              "      <td>NaN</td>\n",
              "      <td>0</td>\n",
              "      <td>2015-06-02 05:50:14.164</td>\n",
              "      <td>2015</td>\n",
              "      <td>6</td>\n",
              "      <td>2</td>\n",
              "      <td>5</td>\n",
              "    </tr>\n",
              "    <tr>\n",
              "      <th>2</th>\n",
              "      <td>1433221999827</td>\n",
              "      <td>111016</td>\n",
              "      <td>view</td>\n",
              "      <td>318965</td>\n",
              "      <td>NaN</td>\n",
              "      <td>0</td>\n",
              "      <td>2015-06-02 05:13:19.827</td>\n",
              "      <td>2015</td>\n",
              "      <td>6</td>\n",
              "      <td>2</td>\n",
              "      <td>5</td>\n",
              "    </tr>\n",
              "    <tr>\n",
              "      <th>3</th>\n",
              "      <td>1433221955914</td>\n",
              "      <td>483717</td>\n",
              "      <td>view</td>\n",
              "      <td>253185</td>\n",
              "      <td>NaN</td>\n",
              "      <td>0</td>\n",
              "      <td>2015-06-02 05:12:35.914</td>\n",
              "      <td>2015</td>\n",
              "      <td>6</td>\n",
              "      <td>2</td>\n",
              "      <td>5</td>\n",
              "    </tr>\n",
              "    <tr>\n",
              "      <th>4</th>\n",
              "      <td>1433221337106</td>\n",
              "      <td>951259</td>\n",
              "      <td>view</td>\n",
              "      <td>367447</td>\n",
              "      <td>NaN</td>\n",
              "      <td>0</td>\n",
              "      <td>2015-06-02 05:02:17.106</td>\n",
              "      <td>2015</td>\n",
              "      <td>6</td>\n",
              "      <td>2</td>\n",
              "      <td>5</td>\n",
              "    </tr>\n",
              "  </tbody>\n",
              "</table>\n",
              "</div>\n",
              "    <div class=\"colab-df-buttons\">\n",
              "\n",
              "  <div class=\"colab-df-container\">\n",
              "    <button class=\"colab-df-convert\" onclick=\"convertToInteractive('df-6e541091-62a3-40de-b824-5c65e9d506d7')\"\n",
              "            title=\"Convert this dataframe to an interactive table.\"\n",
              "            style=\"display:none;\">\n",
              "\n",
              "  <svg xmlns=\"http://www.w3.org/2000/svg\" height=\"24px\" viewBox=\"0 -960 960 960\">\n",
              "    <path d=\"M120-120v-720h720v720H120Zm60-500h600v-160H180v160Zm220 220h160v-160H400v160Zm0 220h160v-160H400v160ZM180-400h160v-160H180v160Zm440 0h160v-160H620v160ZM180-180h160v-160H180v160Zm440 0h160v-160H620v160Z\"/>\n",
              "  </svg>\n",
              "    </button>\n",
              "\n",
              "  <style>\n",
              "    .colab-df-container {\n",
              "      display:flex;\n",
              "      gap: 12px;\n",
              "    }\n",
              "\n",
              "    .colab-df-convert {\n",
              "      background-color: #E8F0FE;\n",
              "      border: none;\n",
              "      border-radius: 50%;\n",
              "      cursor: pointer;\n",
              "      display: none;\n",
              "      fill: #1967D2;\n",
              "      height: 32px;\n",
              "      padding: 0 0 0 0;\n",
              "      width: 32px;\n",
              "    }\n",
              "\n",
              "    .colab-df-convert:hover {\n",
              "      background-color: #E2EBFA;\n",
              "      box-shadow: 0px 1px 2px rgba(60, 64, 67, 0.3), 0px 1px 3px 1px rgba(60, 64, 67, 0.15);\n",
              "      fill: #174EA6;\n",
              "    }\n",
              "\n",
              "    .colab-df-buttons div {\n",
              "      margin-bottom: 4px;\n",
              "    }\n",
              "\n",
              "    [theme=dark] .colab-df-convert {\n",
              "      background-color: #3B4455;\n",
              "      fill: #D2E3FC;\n",
              "    }\n",
              "\n",
              "    [theme=dark] .colab-df-convert:hover {\n",
              "      background-color: #434B5C;\n",
              "      box-shadow: 0px 1px 3px 1px rgba(0, 0, 0, 0.15);\n",
              "      filter: drop-shadow(0px 1px 2px rgba(0, 0, 0, 0.3));\n",
              "      fill: #FFFFFF;\n",
              "    }\n",
              "  </style>\n",
              "\n",
              "    <script>\n",
              "      const buttonEl =\n",
              "        document.querySelector('#df-6e541091-62a3-40de-b824-5c65e9d506d7 button.colab-df-convert');\n",
              "      buttonEl.style.display =\n",
              "        google.colab.kernel.accessAllowed ? 'block' : 'none';\n",
              "\n",
              "      async function convertToInteractive(key) {\n",
              "        const element = document.querySelector('#df-6e541091-62a3-40de-b824-5c65e9d506d7');\n",
              "        const dataTable =\n",
              "          await google.colab.kernel.invokeFunction('convertToInteractive',\n",
              "                                                    [key], {});\n",
              "        if (!dataTable) return;\n",
              "\n",
              "        const docLinkHtml = 'Like what you see? Visit the ' +\n",
              "          '<a target=\"_blank\" href=https://colab.research.google.com/notebooks/data_table.ipynb>data table notebook</a>'\n",
              "          + ' to learn more about interactive tables.';\n",
              "        element.innerHTML = '';\n",
              "        dataTable['output_type'] = 'display_data';\n",
              "        await google.colab.output.renderOutput(dataTable, element);\n",
              "        const docLink = document.createElement('div');\n",
              "        docLink.innerHTML = docLinkHtml;\n",
              "        element.appendChild(docLink);\n",
              "      }\n",
              "    </script>\n",
              "  </div>\n",
              "\n",
              "\n",
              "<div id=\"df-6e4eb996-055b-4f26-b8aa-4103f6a6a60a\">\n",
              "  <button class=\"colab-df-quickchart\" onclick=\"quickchart('df-6e4eb996-055b-4f26-b8aa-4103f6a6a60a')\"\n",
              "            title=\"Suggest charts\"\n",
              "            style=\"display:none;\">\n",
              "\n",
              "<svg xmlns=\"http://www.w3.org/2000/svg\" height=\"24px\"viewBox=\"0 0 24 24\"\n",
              "     width=\"24px\">\n",
              "    <g>\n",
              "        <path d=\"M19 3H5c-1.1 0-2 .9-2 2v14c0 1.1.9 2 2 2h14c1.1 0 2-.9 2-2V5c0-1.1-.9-2-2-2zM9 17H7v-7h2v7zm4 0h-2V7h2v10zm4 0h-2v-4h2v4z\"/>\n",
              "    </g>\n",
              "</svg>\n",
              "  </button>\n",
              "\n",
              "<style>\n",
              "  .colab-df-quickchart {\n",
              "      --bg-color: #E8F0FE;\n",
              "      --fill-color: #1967D2;\n",
              "      --hover-bg-color: #E2EBFA;\n",
              "      --hover-fill-color: #174EA6;\n",
              "      --disabled-fill-color: #AAA;\n",
              "      --disabled-bg-color: #DDD;\n",
              "  }\n",
              "\n",
              "  [theme=dark] .colab-df-quickchart {\n",
              "      --bg-color: #3B4455;\n",
              "      --fill-color: #D2E3FC;\n",
              "      --hover-bg-color: #434B5C;\n",
              "      --hover-fill-color: #FFFFFF;\n",
              "      --disabled-bg-color: #3B4455;\n",
              "      --disabled-fill-color: #666;\n",
              "  }\n",
              "\n",
              "  .colab-df-quickchart {\n",
              "    background-color: var(--bg-color);\n",
              "    border: none;\n",
              "    border-radius: 50%;\n",
              "    cursor: pointer;\n",
              "    display: none;\n",
              "    fill: var(--fill-color);\n",
              "    height: 32px;\n",
              "    padding: 0;\n",
              "    width: 32px;\n",
              "  }\n",
              "\n",
              "  .colab-df-quickchart:hover {\n",
              "    background-color: var(--hover-bg-color);\n",
              "    box-shadow: 0 1px 2px rgba(60, 64, 67, 0.3), 0 1px 3px 1px rgba(60, 64, 67, 0.15);\n",
              "    fill: var(--button-hover-fill-color);\n",
              "  }\n",
              "\n",
              "  .colab-df-quickchart-complete:disabled,\n",
              "  .colab-df-quickchart-complete:disabled:hover {\n",
              "    background-color: var(--disabled-bg-color);\n",
              "    fill: var(--disabled-fill-color);\n",
              "    box-shadow: none;\n",
              "  }\n",
              "\n",
              "  .colab-df-spinner {\n",
              "    border: 2px solid var(--fill-color);\n",
              "    border-color: transparent;\n",
              "    border-bottom-color: var(--fill-color);\n",
              "    animation:\n",
              "      spin 1s steps(1) infinite;\n",
              "  }\n",
              "\n",
              "  @keyframes spin {\n",
              "    0% {\n",
              "      border-color: transparent;\n",
              "      border-bottom-color: var(--fill-color);\n",
              "      border-left-color: var(--fill-color);\n",
              "    }\n",
              "    20% {\n",
              "      border-color: transparent;\n",
              "      border-left-color: var(--fill-color);\n",
              "      border-top-color: var(--fill-color);\n",
              "    }\n",
              "    30% {\n",
              "      border-color: transparent;\n",
              "      border-left-color: var(--fill-color);\n",
              "      border-top-color: var(--fill-color);\n",
              "      border-right-color: var(--fill-color);\n",
              "    }\n",
              "    40% {\n",
              "      border-color: transparent;\n",
              "      border-right-color: var(--fill-color);\n",
              "      border-top-color: var(--fill-color);\n",
              "    }\n",
              "    60% {\n",
              "      border-color: transparent;\n",
              "      border-right-color: var(--fill-color);\n",
              "    }\n",
              "    80% {\n",
              "      border-color: transparent;\n",
              "      border-right-color: var(--fill-color);\n",
              "      border-bottom-color: var(--fill-color);\n",
              "    }\n",
              "    90% {\n",
              "      border-color: transparent;\n",
              "      border-bottom-color: var(--fill-color);\n",
              "    }\n",
              "  }\n",
              "</style>\n",
              "\n",
              "  <script>\n",
              "    async function quickchart(key) {\n",
              "      const quickchartButtonEl =\n",
              "        document.querySelector('#' + key + ' button');\n",
              "      quickchartButtonEl.disabled = true;  // To prevent multiple clicks.\n",
              "      quickchartButtonEl.classList.add('colab-df-spinner');\n",
              "      try {\n",
              "        const charts = await google.colab.kernel.invokeFunction(\n",
              "            'suggestCharts', [key], {});\n",
              "      } catch (error) {\n",
              "        console.error('Error during call to suggestCharts:', error);\n",
              "      }\n",
              "      quickchartButtonEl.classList.remove('colab-df-spinner');\n",
              "      quickchartButtonEl.classList.add('colab-df-quickchart-complete');\n",
              "    }\n",
              "    (() => {\n",
              "      let quickchartButtonEl =\n",
              "        document.querySelector('#df-6e4eb996-055b-4f26-b8aa-4103f6a6a60a button');\n",
              "      quickchartButtonEl.style.display =\n",
              "        google.colab.kernel.accessAllowed ? 'block' : 'none';\n",
              "    })();\n",
              "  </script>\n",
              "</div>\n",
              "    </div>\n",
              "  </div>\n"
            ],
            "application/vnd.google.colaboratory.intrinsic+json": {
              "type": "dataframe",
              "summary": "{\n  \"name\": \"display(raw_data_events\",\n  \"rows\": 5,\n  \"fields\": [\n    {\n      \"column\": \"timestamp\",\n      \"properties\": {\n        \"dtype\": \"number\",\n        \"std\": 1188395,\n        \"min\": 1433221332117,\n        \"max\": 1433224214164,\n        \"num_unique_values\": 5,\n        \"samples\": [\n          1433224214164,\n          1433221337106,\n          1433221999827\n        ],\n        \"semantic_type\": \"\",\n        \"description\": \"\"\n      }\n    },\n    {\n      \"column\": \"visitorid\",\n      \"properties\": {\n        \"dtype\": \"number\",\n        \"std\": 399637,\n        \"min\": 111016,\n        \"max\": 992329,\n        \"num_unique_values\": 5,\n        \"samples\": [\n          992329,\n          951259,\n          111016\n        ],\n        \"semantic_type\": \"\",\n        \"description\": \"\"\n      }\n    },\n    {\n      \"column\": \"event\",\n      \"properties\": {\n        \"dtype\": \"category\",\n        \"num_unique_values\": 1,\n        \"samples\": [\n          \"view\"\n        ],\n        \"semantic_type\": \"\",\n        \"description\": \"\"\n      }\n    },\n    {\n      \"column\": \"itemid\",\n      \"properties\": {\n        \"dtype\": \"number\",\n        \"std\": 55834,\n        \"min\": 248676,\n        \"max\": 367447,\n        \"num_unique_values\": 5,\n        \"samples\": [\n          248676\n        ],\n        \"semantic_type\": \"\",\n        \"description\": \"\"\n      }\n    },\n    {\n      \"column\": \"transactionid\",\n      \"properties\": {\n        \"dtype\": \"number\",\n        \"std\": null,\n        \"min\": null,\n        \"max\": null,\n        \"num_unique_values\": 0,\n        \"samples\": [],\n        \"semantic_type\": \"\",\n        \"description\": \"\"\n      }\n    },\n    {\n      \"column\": \"event_grade\",\n      \"properties\": {\n        \"dtype\": \"number\",\n        \"std\": 0,\n        \"min\": 0,\n        \"max\": 0,\n        \"num_unique_values\": 1,\n        \"samples\": [],\n        \"semantic_type\": \"\",\n        \"description\": \"\"\n      }\n    },\n    {\n      \"column\": \"date\",\n      \"properties\": {\n        \"dtype\": \"date\",\n        \"min\": \"2015-06-02 05:02:12.117000\",\n        \"max\": \"2015-06-02 05:50:14.164000\",\n        \"num_unique_values\": 5,\n        \"samples\": [],\n        \"semantic_type\": \"\",\n        \"description\": \"\"\n      }\n    },\n    {\n      \"column\": \"year\",\n      \"properties\": {\n        \"dtype\": \"int32\",\n        \"num_unique_values\": 1,\n        \"samples\": [],\n        \"semantic_type\": \"\",\n        \"description\": \"\"\n      }\n    },\n    {\n      \"column\": \"month\",\n      \"properties\": {\n        \"dtype\": \"int32\",\n        \"num_unique_values\": 1,\n        \"samples\": [],\n        \"semantic_type\": \"\",\n        \"description\": \"\"\n      }\n    },\n    {\n      \"column\": \"day_of_week\",\n      \"properties\": {\n        \"dtype\": \"int32\",\n        \"num_unique_values\": 1,\n        \"samples\": [],\n        \"semantic_type\": \"\",\n        \"description\": \"\"\n      }\n    },\n    {\n      \"column\": \"hour\",\n      \"properties\": {\n        \"dtype\": \"int32\",\n        \"num_unique_values\": 1,\n        \"samples\": [],\n        \"semantic_type\": \"\",\n        \"description\": \"\"\n      }\n    }\n  ]\n}"
            }
          },
          "metadata": {}
        }
      ],
      "source": [
        "raw_data_events = pd.read_csv('events.csv')\n",
        "\n",
        "# кодирование стобца события\n",
        "# 0 - просмотр + добавление в корзину\n",
        "# 1 - покупка\n",
        "raw_data_events['event_grade'] = raw_data_events['event'].apply(lambda x: 1 if x == 'transaction' else 0)\n",
        "raw_data_events.event_grade.sum()\n",
        "\n",
        "# преобразование типа данных признаков\n",
        "raw_data_events['event'] = raw_data_events['event'].astype('category')\n",
        "\n",
        "# формирование временных признаков\n",
        "raw_data_events['date'] = pd.to_datetime(raw_data_events['timestamp'], unit='ms', origin='unix')\n",
        "raw_data_events['year'] = raw_data_events['date'].dt.year\n",
        "raw_data_events['month'] = raw_data_events['date'].dt.month\n",
        "raw_data_events['day_of_week'] = raw_data_events['date'].dt.day\n",
        "raw_data_events['hour'] = raw_data_events['date'].dt.hour\n",
        "display(raw_data_events.head())"
      ]
    },
    {
      "cell_type": "code",
      "source": [
        "# формирование датасета для модели LightFM\n",
        "lfm_data_events = raw_data_events\n",
        "\n",
        "train_val_point = int(np.round(lfm_data_events.shape[0]*0.8))\n",
        "lfm_train_data_events = lfm_data_events.iloc[0:train_val_point]\n",
        "lfm_val_data_events = lfm_data_events.iloc[train_val_point::]\n",
        "lfm_val_data_events = lfm_val_data_events[(lfm_val_data_events['visitorid'].isin(lfm_train_data_events['visitorid']))\n",
        "                          & (lfm_val_data_events['itemid'].isin(lfm_train_data_events['itemid']))]\n",
        "\n",
        "print(f'Количество событий в тренировочном датасете: {lfm_train_data_events.shape[0]}')\n",
        "print(f'Количество событий в валидационном датасете: {lfm_val_data_events.shape[0]}')"
      ],
      "metadata": {
        "colab": {
          "base_uri": "https://localhost:8080/"
        },
        "id": "H8gc-UGXpm4q",
        "outputId": "5d786809-fd92-46b1-beed-4b3e994ef646"
      },
      "execution_count": 3,
      "outputs": [
        {
          "output_type": "stream",
          "name": "stdout",
          "text": [
            "Количество событий в тренировочном датасете: 245405\n",
            "Количество событий в валидационном датасете: 8790\n"
          ]
        }
      ]
    },
    {
      "cell_type": "code",
      "execution_count": 4,
      "metadata": {
        "id": "_UosbsQxoIi1"
      },
      "outputs": [],
      "source": [
        "# кодирование признаков\n",
        "cols_to_code = ['visitorid', 'itemid']\n",
        "cat_lfm_train_data_events = dict()\n",
        "cat_lfm_val_data_events = dict()\n",
        "\n",
        "for col in cols_to_code:\n",
        "    cat_encoder = preprocessing.LabelEncoder()\n",
        "    cat_lfm_train_data_events[col] = cat_encoder.fit_transform(lfm_train_data_events[col].values)\n",
        "    cat_lfm_val_data_events[col] = cat_encoder.transform(lfm_val_data_events[col].values)\n",
        "\n",
        "# Кодирование признака события\n",
        "event_scores = dict()\n",
        "event_encoder = preprocessing.LabelEncoder()\n",
        "event_scores['train'] = event_encoder.fit_transform(lfm_train_data_events['event'].values)\n",
        "event_scores['val'] = event_encoder.transform(lfm_val_data_events['event'].values)"
      ]
    },
    {
      "cell_type": "code",
      "execution_count": 5,
      "metadata": {
        "id": "fZ8t5GrgoIi1"
      },
      "outputs": [],
      "source": [
        "# item-user матрица\n",
        "num_visitors = len(np.unique(cat_lfm_train_data_events['visitorid']))\n",
        "num_items = len(np.unique(cat_lfm_train_data_events['itemid']))\n",
        "\n",
        "sparse_matrix = dict()\n",
        "\n",
        "sparse_matrix['train'] = csr_matrix((event_scores['train'],\n",
        "                                  (cat_lfm_train_data_events['visitorid'],\n",
        "                                  cat_lfm_train_data_events['itemid'])),\n",
        "                                  shape=(num_visitors, num_items))\n",
        "\n",
        "sparse_matrix['val'] = csr_matrix((event_scores['val'],\n",
        "                                  (cat_lfm_val_data_events['visitorid'],\n",
        "                                  cat_lfm_val_data_events['itemid'])),\n",
        "                                  shape=(num_visitors, num_items))"
      ]
    },
    {
      "cell_type": "code",
      "execution_count": 6,
      "metadata": {
        "colab": {
          "base_uri": "https://localhost:8080/",
          "height": 52
        },
        "id": "_hSivUD_oIi2",
        "outputId": "176ce2b1-1694-422e-881b-17f85bff91a4"
      },
      "outputs": [
        {
          "output_type": "stream",
          "name": "stderr",
          "text": [
            "Epoch: 100%|██████████| 30/30 [00:52<00:00,  1.75s/it]\n"
          ]
        },
        {
          "output_type": "display_data",
          "data": {
            "text/plain": [
              "0.84556925"
            ]
          },
          "metadata": {}
        }
      ],
      "source": [
        "lfm_model = LightFM(no_components=150, learning_rate=0.05, loss='warp', random_state=42)\n",
        "lfm_model.fit(sparse_matrix['train'], epochs=30, num_threads=4, verbose=True)\n",
        "\n",
        "# оценка качества модели\n",
        "display(auc_score(lfm_model, sparse_matrix['val']).mean())"
      ]
    },
    {
      "cell_type": "code",
      "execution_count": 7,
      "metadata": {
        "colab": {
          "base_uri": "https://localhost:8080/"
        },
        "id": "uNwLqQtEoIi2",
        "outputId": "ad30066c-144a-4f00-b644-2e5b3bff7f0b"
      },
      "outputs": [
        {
          "output_type": "stream",
          "name": "stdout",
          "text": [
            "Mean Average Precision at 3 (validation dataset): 0.17493\n"
          ]
        }
      ],
      "source": [
        "# расчет метрики Precision@3\n",
        "map_at3 = precision_at_k(lfm_model, sparse_matrix['val'], k=3).mean()\n",
        "print('Mean Average Precision at 3 (validation dataset): {:.5f}'.format(map_at3))"
      ]
    },
    {
      "cell_type": "code",
      "source": [
        "# Реализация механизма выдачи рекомендаций\n",
        "all_items = np.unique(cat_lfm_train_data_events['itemid'])\n",
        "all_users = np.unique(cat_lfm_train_data_events['visitorid'])\n",
        "item_id = np.arange(0, sparse_matrix['train'].shape[1])\n",
        "user_id = 5"
      ],
      "metadata": {
        "id": "yyuNbrxAwDpk"
      },
      "execution_count": 8,
      "outputs": []
    },
    {
      "cell_type": "code",
      "source": [
        "# Формирование предсказаний для конкретного пользователя\n",
        "list_pred = lfm_model.predict(user_id, item_id)\n",
        "recomendations_id = np.argsort(-list_pred)[:3]\n",
        "rec_items = all_items[recomendations_id]\n",
        "print('Рекомендация для пользователя {}: {}'.format(user_id, rec_items))"
      ],
      "metadata": {
        "colab": {
          "base_uri": "https://localhost:8080/"
        },
        "id": "BXEKwYcrJfYG",
        "outputId": "dacef2b9-219a-423f-ba08-5e8ce2aef737"
      },
      "execution_count": 9,
      "outputs": [
        {
          "output_type": "stream",
          "name": "stdout",
          "text": [
            "Рекомендация для пользователя 5: [8578 8958 6799]\n"
          ]
        }
      ]
    },
    {
      "cell_type": "code",
      "source": [
        "import pickle"
      ],
      "metadata": {
        "id": "vfp8E5TxwO2n"
      },
      "execution_count": 10,
      "outputs": []
    },
    {
      "cell_type": "code",
      "source": [
        "with open('lfm_model.pkl', 'wb') as output:\n",
        "    pickle.dump(lfm_model, output)"
      ],
      "metadata": {
        "id": "oIqNw3wYwTHO"
      },
      "execution_count": 11,
      "outputs": []
    },
    {
      "cell_type": "code",
      "source": [
        "with open('all_items.pkl', 'wb') as output:\n",
        "    pickle.dump(all_items, output)"
      ],
      "metadata": {
        "id": "vwhUn3oOwg6_"
      },
      "execution_count": 12,
      "outputs": []
    },
    {
      "cell_type": "code",
      "source": [
        "with open('all_users.pkl', 'wb') as output:\n",
        "    pickle.dump(all_users, output)"
      ],
      "metadata": {
        "id": "82lFGaIo0zYS"
      },
      "execution_count": 13,
      "outputs": []
    },
    {
      "cell_type": "code",
      "source": [
        "with open('item_id.pkl', 'wb') as output:\n",
        "    pickle.dump(item_id, output)"
      ],
      "metadata": {
        "id": "ib1_9Wn9wy5E"
      },
      "execution_count": 14,
      "outputs": []
    },
    {
      "cell_type": "code",
      "source": [],
      "metadata": {
        "id": "NaWmUUpW0y4h"
      },
      "execution_count": 14,
      "outputs": []
    }
  ],
  "metadata": {
    "kernelspec": {
      "display_name": "Python 3",
      "name": "python3"
    },
    "language_info": {
      "name": "python",
      "version": "3.10.4"
    },
    "colab": {
      "provenance": [],
      "include_colab_link": true
    }
  },
  "nbformat": 4,
  "nbformat_minor": 0
}